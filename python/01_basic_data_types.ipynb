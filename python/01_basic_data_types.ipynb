{
 "cells": [
  {
   "cell_type": "markdown",
   "metadata": {},
   "source": [
    "# 1 . List "
   ]
  },
  {
   "cell_type": "markdown",
   "metadata": {},
   "source": [
    "##### List is a collection data type which is ordered and mutable. Unlike Sets, Lists allow duplicate elements. They are useful for preserving a sequence of data and further iterating over it. Lists are created with square brackets.\n",
    "\n",
    "\n",
    "my_list = [\"banana\", \"cherry\", \"apple\"]\n",
    "\n",
    "Comparison of basic built-in collection data types in Python:\n",
    "\n",
    "* List is a collection which is ordered and mutable. Allows duplicate members.\n",
    "\n",
    "* Tuple is a collection which is ordered and immutable. Allows duplicate members.\n",
    "\n",
    "* Set is a collection which is unordered and unindexed. No duplicate members.\n",
    "\n",
    "* Dictionary is a collection which is unordered, mutable and indexed. No duplicate members.\n",
    "\n",
    "* Strings are immutable sequences of Unicode code points."
   ]
  },
  {
   "cell_type": "code",
   "execution_count": 1,
   "metadata": {},
   "outputs": [
    {
     "name": "stdout",
     "output_type": "stream",
     "text": [
      "['banana', 'cherry', 'apple']\n"
     ]
    }
   ],
   "source": [
    "list_1 = [\"banana\", \"cherry\", \"apple\"]\n",
    "print(list_1)\n"
   ]
  },
  {
   "cell_type": "code",
   "execution_count": 2,
   "metadata": {},
   "outputs": [
    {
     "name": "stdout",
     "output_type": "stream",
     "text": [
      "[]\n"
     ]
    }
   ],
   "source": [
    "# Or create an empty list with the list function\n",
    "list_2 = list()\n",
    "print(list_2)"
   ]
  },
  {
   "cell_type": "code",
   "execution_count": 3,
   "metadata": {},
   "outputs": [
    {
     "name": "stdout",
     "output_type": "stream",
     "text": [
      "[5, True, 'apple']\n",
      "[0, 0, 1, 1]\n"
     ]
    }
   ],
   "source": [
    "# Lists allow different data types\n",
    "list_3 = [5, True, \"apple\"]\n",
    "print(list_3)\n",
    "\n",
    "# Lists allow duplicates\n",
    "list_4 = [0, 0, 1, 1]\n",
    "print(list_4)"
   ]
  },
  {
   "cell_type": "markdown",
   "metadata": {},
   "source": [
    "#### Accessing element"
   ]
  },
  {
   "cell_type": "code",
   "execution_count": 4,
   "metadata": {},
   "outputs": [
    {
     "name": "stdout",
     "output_type": "stream",
     "text": [
      "banana\n",
      "apple\n"
     ]
    }
   ],
   "source": [
    "item = list_1[0]\n",
    "print(item)\n",
    "\n",
    "# You can also use negative indexing, e.g -1 refers to the last item,\n",
    "# -2 to the second last item, and so on\n",
    "item = list_1[-1]\n",
    "print(item)\n"
   ]
  },
  {
   "cell_type": "code",
   "execution_count": 5,
   "metadata": {},
   "outputs": [
    {
     "name": "stdout",
     "output_type": "stream",
     "text": [
      "['banana', 'cherry', 'lemon']\n"
     ]
    }
   ],
   "source": [
    "# Lists can be altered after their creation\n",
    "list_1[2] = \"lemon\"\n",
    "print(list_1)"
   ]
  },
  {
   "cell_type": "markdown",
   "metadata": {},
   "source": [
    "#### methods on list"
   ]
  },
  {
   "cell_type": "code",
   "execution_count": 6,
   "metadata": {},
   "outputs": [
    {
     "name": "stdout",
     "output_type": "stream",
     "text": [
      "Length: 3\n"
     ]
    }
   ],
   "source": [
    "my_list = [\"banana\", \"cherry\", \"apple\"]\n",
    "\n",
    "# len() : get the number of elements in a list\n",
    "print(\"Length:\", len(my_list))"
   ]
  },
  {
   "cell_type": "code",
   "execution_count": 7,
   "metadata": {},
   "outputs": [
    {
     "name": "stdout",
     "output_type": "stream",
     "text": [
      "['banana', 'blueberry', 'cherry', 'apple', 'orange']\n"
     ]
    }
   ],
   "source": [
    "# append() : adds an element to the end of the list\n",
    "my_list.append(\"orange\")\n",
    "\n",
    "# insert() : adds an element at the specified position\n",
    "my_list.insert(1, \"blueberry\")\n",
    "print(my_list)"
   ]
  },
  {
   "cell_type": "code",
   "execution_count": 8,
   "metadata": {},
   "outputs": [
    {
     "name": "stdout",
     "output_type": "stream",
     "text": [
      "Popped item:  orange\n",
      "['banana', 'blueberry', 'apple']\n"
     ]
    }
   ],
   "source": [
    "\n",
    "# pop() : removes and returns the item at the given position, default is the last item\n",
    "item = my_list.pop()\n",
    "print(\"Popped item: \", item)\n",
    "\n",
    "# remove() : removes an item from the list\n",
    "my_list.remove(\"cherry\") # Value error if not in the list\n",
    "print(my_list)\n"
   ]
  },
  {
   "cell_type": "code",
   "execution_count": 9,
   "metadata": {},
   "outputs": [
    {
     "name": "stdout",
     "output_type": "stream",
     "text": [
      "[]\n"
     ]
    }
   ],
   "source": [
    "# clear() : removes all items from the list\n",
    "my_list.clear()\n",
    "print(my_list)"
   ]
  },
  {
   "cell_type": "code",
   "execution_count": 10,
   "metadata": {},
   "outputs": [
    {
     "name": "stdout",
     "output_type": "stream",
     "text": [
      "Reversed:  ['apple', 'cherry', 'banana']\n"
     ]
    }
   ],
   "source": [
    "# reverse() : reverse the items\n",
    "my_list = [\"banana\", \"cherry\", \"apple\"]\n",
    "my_list.reverse()\n",
    "print('Reversed: ', my_list)"
   ]
  },
  {
   "cell_type": "code",
   "execution_count": 11,
   "metadata": {},
   "outputs": [
    {
     "name": "stdout",
     "output_type": "stream",
     "text": [
      "Sorted:  ['apple', 'banana', 'cherry']\n"
     ]
    }
   ],
   "source": [
    "# sort() : sort items in ascending order\n",
    "my_list.sort()\n",
    "print('Sorted: ', my_list)"
   ]
  },
  {
   "cell_type": "code",
   "execution_count": 12,
   "metadata": {},
   "outputs": [],
   "source": [
    "# use sorted() to get a new list, and leave the original unaffected.\n",
    "# sorted() works on any iterable type, not just lists\n",
    "my_list = [\"banana\", \"cherry\", \"apple\"]\n",
    "new_list = sorted(my_list)"
   ]
  },
  {
   "cell_type": "code",
   "execution_count": 13,
   "metadata": {},
   "outputs": [
    {
     "name": "stdout",
     "output_type": "stream",
     "text": [
      "[0, 0, 0, 0, 0]\n",
      "[0, 0, 0, 0, 0, 'banana', 'cherry', 'apple']\n"
     ]
    }
   ],
   "source": [
    "# create list with repeated elements\n",
    "list_with_zeros = [0] * 5\n",
    "print(list_with_zeros)\n",
    "\n",
    "# concatenation\n",
    "list_concat = list_with_zeros + my_list\n",
    "print(list_concat)"
   ]
  },
  {
   "cell_type": "code",
   "execution_count": 14,
   "metadata": {},
   "outputs": [
    {
     "name": "stdout",
     "output_type": "stream",
     "text": [
      "['H', 'e', 'l', 'l', 'o']\n"
     ]
    }
   ],
   "source": [
    "# convert string to list\n",
    "string_to_list = list('Hello')\n",
    "print(string_to_list)"
   ]
  },
  {
   "cell_type": "code",
   "execution_count": 15,
   "metadata": {},
   "outputs": [
    {
     "name": "stdout",
     "output_type": "stream",
     "text": [
      "['banana', 'cherry', 'apple', True]\n",
      "['banana', 'cherry', 'apple', True]\n"
     ]
    }
   ],
   "source": [
    "list_org = [\"banana\", \"cherry\", \"apple\"]\n",
    "\n",
    "# this just copies the reference to the list, so be careful\n",
    "list_copy = list_org\n",
    "\n",
    "# now modifying the copy also affects the original\n",
    "list_copy.append(True)\n",
    "print(list_copy)\n",
    "print(list_org)"
   ]
  },
  {
   "cell_type": "markdown",
   "metadata": {},
   "source": [
    "##### deep copy  means that any changes made to a copy of object do not reflect in the original object. In python, this is implemented using “deepcopy()” function.\n",
    "\n",
    "##### shallow copy  menas that any changes made to a copy of object do reflect in the original object. In python, this is implemented using “copy()” function"
   ]
  },
  {
   "cell_type": "code",
   "execution_count": 16,
   "metadata": {},
   "outputs": [
    {
     "name": "stdout",
     "output_type": "stream",
     "text": [
      "['banana', 'cherry', 'apple', True]\n",
      "['banana', 'cherry', 'apple']\n"
     ]
    }
   ],
   "source": [
    "# use copy(), or list(x) to actually copy the list\n",
    "# slicing also works: list_copy = list_org[:]\n",
    "list_org = [\"banana\", \"cherry\", \"apple\"]\n",
    "\n",
    "list_copy = list_org.copy()\n",
    "# list_copy = list(list_org)\n",
    "# list_copy = list_org[:]\n",
    "\n",
    "# now modifying the copy does not affect the original\n",
    "list_copy.append(True)\n",
    "print(list_copy)\n",
    "print(list_org)"
   ]
  },
  {
   "cell_type": "code",
   "execution_count": 17,
   "metadata": {},
   "outputs": [
    {
     "name": "stdout",
     "output_type": "stream",
     "text": [
      "banana\n",
      "cherry\n",
      "lemon\n"
     ]
    }
   ],
   "source": [
    "# Iterating over a list by using a for in loop\n",
    "for i in list_1:\n",
    "    print(i)"
   ]
  },
  {
   "cell_type": "code",
   "execution_count": 18,
   "metadata": {},
   "outputs": [
    {
     "name": "stdout",
     "output_type": "stream",
     "text": [
      "yes\n"
     ]
    }
   ],
   "source": [
    "if \"banana\" in list_1:\n",
    "    print(\"yes\")\n",
    "else:\n",
    "    print(\"no\")"
   ]
  },
  {
   "cell_type": "code",
   "execution_count": 19,
   "metadata": {},
   "outputs": [
    {
     "name": "stdout",
     "output_type": "stream",
     "text": [
      "[1, 2, 3, 4, 5, 6, 7, 8, 9, 10]\n"
     ]
    }
   ],
   "source": [
    "# a[start:stop:step], default step is 1\n",
    "a = [1, 2, 3, 4, 5, 6, 7, 8, 9, 10]\n",
    "print(a)"
   ]
  },
  {
   "cell_type": "code",
   "execution_count": 20,
   "metadata": {},
   "outputs": [
    {
     "name": "stdout",
     "output_type": "stream",
     "text": [
      "[2, 3]\n",
      "[3, 4, 5, 6, 7, 8, 9, 10]\n",
      "[1, 2, 3]\n",
      "[0, 4, 5, 6, 7, 8, 9, 10]\n",
      "[0, 5, 7, 9]\n",
      "[10, 9, 8, 7, 6, 5, 4, 0]\n",
      "[10, 9, 8, 7, 6, 5, 4, 0]\n"
     ]
    }
   ],
   "source": [
    "b = a[1:3] # Note that the last index is not included\n",
    "print(b)\n",
    "b = a[2:] # until the end\n",
    "print(b)\n",
    "b = a[:3] # from beginning\n",
    "print(b)\n",
    "a[0:3] = [0] # replace sub-parts, you need an iterable here\n",
    "print(a)\n",
    "b = a[::2] # start to end with every second item\n",
    "print(b)\n",
    "a = a[::-1] # reverse the list with a negative step:\n",
    "print(a)\n",
    "b = a[:] # copy a list with slicing\n",
    "print(b)"
   ]
  },
  {
   "cell_type": "markdown",
   "metadata": {},
   "source": [
    "#### List comprehension "
   ]
  },
  {
   "cell_type": "code",
   "execution_count": 21,
   "metadata": {},
   "outputs": [
    {
     "name": "stdout",
     "output_type": "stream",
     "text": [
      "[1, 2, 3, 4, 5, 6, 7, 8]\n",
      "[1, 4, 9, 16, 25, 36, 49, 64]\n",
      "[4, 16, 36, 64]\n"
     ]
    }
   ],
   "source": [
    "a = [1, 2, 3, 4, 5, 6, 7, 8]\n",
    "print(a)\n",
    "b = [i * i for i in a] # squares each element\n",
    "print(b)\n",
    "c = [i * i for i in a if i%2==0] # squares each element\n",
    "print(c)"
   ]
  },
  {
   "cell_type": "markdown",
   "metadata": {},
   "source": [
    "#### Nested list "
   ]
  },
  {
   "cell_type": "code",
   "execution_count": 22,
   "metadata": {},
   "outputs": [
    {
     "name": "stdout",
     "output_type": "stream",
     "text": [
      "[[1, 2], [3, 4]]\n",
      "[1, 2]\n"
     ]
    }
   ],
   "source": [
    "a = [[1, 2], [3, 4]]\n",
    "print(a)\n",
    "print(a[0])"
   ]
  },
  {
   "cell_type": "markdown",
   "metadata": {},
   "source": [
    "# 2. Tuples "
   ]
  },
  {
   "cell_type": "markdown",
   "metadata": {},
   "source": [
    "##### A tuple is a collection of objects which is ordered and immutable. Tuples are similar to lists, the main difference ist the immutability. In Python tuples are written with round brackets and comma separated values.\n",
    "\n",
    "\n",
    "my_tuple = (\"Max\", 28, \"New York\")\n",
    "\n",
    "Reasons to use a tuple over a list\n",
    "\n",
    "* Generally used for objects that belong together.\n",
    "\n",
    "* Use tuple for heterogeneous (different) datatypes and list for homogeneous (similar) datatypes.\n",
    "\n",
    "* Since tuple are immutable, iterating through tuple is slightly faster than with list.\n",
    "\n",
    "* Tuples with their immutable elements can be used as key for a dictionary. This is not possible with lists.\n",
    "\n",
    "* If you have data that doesn't change, implementing it as tuple will guarantee that it remains write-protected."
   ]
  },
  {
   "cell_type": "code",
   "execution_count": 23,
   "metadata": {},
   "outputs": [
    {
     "name": "stdout",
     "output_type": "stream",
     "text": [
      "('Max', 28, 'New York')\n",
      "('Linda', 25, 'Miami')\n",
      "(25,)\n"
     ]
    }
   ],
   "source": [
    "tuple_1 = (\"Max\", 28, \"New York\")\n",
    "tuple_2 = \"Linda\", 25, \"Miami\" # Parentheses are optional\n",
    "\n",
    "# Special case: a tuple with only one element needs to have a comma at the end, \n",
    "# otherwise it is not recognized as tuple\n",
    "tuple_3 = (25,)\n",
    "print(tuple_1)\n",
    "print(tuple_2)\n",
    "print(tuple_3)"
   ]
  },
  {
   "cell_type": "code",
   "execution_count": 24,
   "metadata": {},
   "outputs": [
    {
     "name": "stdout",
     "output_type": "stream",
     "text": [
      "(1, 2, 3)\n"
     ]
    }
   ],
   "source": [
    "# Or convert an iterable (list, dict, string) with the built-in tuple function\n",
    "tuple_4 = tuple([1,2,3])\n",
    "print(tuple_4)"
   ]
  },
  {
   "cell_type": "markdown",
   "metadata": {},
   "source": [
    "accessing element "
   ]
  },
  {
   "cell_type": "code",
   "execution_count": 25,
   "metadata": {},
   "outputs": [
    {
     "name": "stdout",
     "output_type": "stream",
     "text": [
      "Max\n",
      "New York\n"
     ]
    }
   ],
   "source": [
    "item = tuple_1[0]\n",
    "print(item)\n",
    "# You can also use negative indexing, e.g -1 refers to the last item,\n",
    "# -2 to the second last item, and so on\n",
    "item = tuple_1[-1]\n",
    "print(item)"
   ]
  },
  {
   "cell_type": "code",
   "execution_count": 26,
   "metadata": {},
   "outputs": [
    {
     "ename": "TypeError",
     "evalue": "'tuple' object does not support item assignment",
     "output_type": "error",
     "traceback": [
      "\u001b[1;31m---------------------------------------------------------------------------\u001b[0m",
      "\u001b[1;31mTypeError\u001b[0m                                 Traceback (most recent call last)",
      "\u001b[1;32m<ipython-input-26-c391d8981369>\u001b[0m in \u001b[0;36m<module>\u001b[1;34m\u001b[0m\n\u001b[1;32m----> 1\u001b[1;33m \u001b[0mtuple_1\u001b[0m\u001b[1;33m[\u001b[0m\u001b[1;36m2\u001b[0m\u001b[1;33m]\u001b[0m \u001b[1;33m=\u001b[0m \u001b[1;34m\"Boston\"\u001b[0m\u001b[1;33m\u001b[0m\u001b[1;33m\u001b[0m\u001b[0m\n\u001b[0m",
      "\u001b[1;31mTypeError\u001b[0m: 'tuple' object does not support item assignment"
     ]
    }
   ],
   "source": [
    "tuple_1[2] = \"Boston\""
   ]
  },
  {
   "cell_type": "code",
   "execution_count": 27,
   "metadata": {},
   "outputs": [],
   "source": [
    "del tuple_2"
   ]
  },
  {
   "cell_type": "code",
   "execution_count": 28,
   "metadata": {},
   "outputs": [
    {
     "name": "stdout",
     "output_type": "stream",
     "text": [
      "Max\n",
      "28\n",
      "New York\n"
     ]
    }
   ],
   "source": [
    "# Iterating over a tuple by using a for in loop\n",
    "for i in tuple_1:\n",
    "    print(i)"
   ]
  },
  {
   "cell_type": "code",
   "execution_count": 29,
   "metadata": {},
   "outputs": [
    {
     "name": "stdout",
     "output_type": "stream",
     "text": [
      "yes\n"
     ]
    }
   ],
   "source": [
    "if \"New York\" in tuple_1:\n",
    "    print(\"yes\")\n",
    "else:\n",
    "    print(\"no\")"
   ]
  },
  {
   "cell_type": "markdown",
   "metadata": {},
   "source": [
    "##### basic methods"
   ]
  },
  {
   "cell_type": "code",
   "execution_count": 30,
   "metadata": {},
   "outputs": [
    {
     "name": "stdout",
     "output_type": "stream",
     "text": [
      "('a', 'p', 'p', 'l', 'e')\n"
     ]
    }
   ],
   "source": [
    "my_tuple = ('a','p','p','l','e',)\n",
    "\n",
    "print(my_tuple)"
   ]
  },
  {
   "cell_type": "code",
   "execution_count": 31,
   "metadata": {},
   "outputs": [
    {
     "name": "stdout",
     "output_type": "stream",
     "text": [
      "5\n",
      "2\n",
      "3\n"
     ]
    }
   ],
   "source": [
    "# len() : get the number of elements in a tuple\n",
    "print(len(my_tuple))\n",
    "\n",
    "# count(x) : Return the number of items that is equal to x\n",
    "print(my_tuple.count('p'))\n",
    "\n",
    "# index(x) : Return index of first item that is equal to x\n",
    "print(my_tuple.index('l'))\n"
   ]
  },
  {
   "cell_type": "code",
   "execution_count": 32,
   "metadata": {},
   "outputs": [
    {
     "name": "stdout",
     "output_type": "stream",
     "text": [
      "('a', 'b', 'a', 'b', 'a', 'b', 'a', 'b', 'a', 'b')\n",
      "(1, 2, 3, 4, 5, 6)\n",
      "('a', 'b', 'c', 'd')\n",
      "['a', 'b', 'c', 'd']\n",
      "('H', 'e', 'l', 'l', 'o')\n"
     ]
    }
   ],
   "source": [
    "# repetition\n",
    "my_tuple = ('a', 'b') * 5\n",
    "print(my_tuple)\n",
    "\n",
    "# concatenation\n",
    "my_tuple = (1,2,3) + (4,5,6)\n",
    "print(my_tuple)\n",
    "\n",
    "# convert list to a tuple and vice versa\n",
    "my_list = ['a', 'b', 'c', 'd']\n",
    "list_to_tuple = tuple(my_list)\n",
    "print(list_to_tuple)\n",
    "\n",
    "tuple_to_list = list(list_to_tuple)\n",
    "print(tuple_to_list)\n",
    "\n",
    "# convert string to tuple\n",
    "string_to_tuple = tuple('Hello')\n",
    "print(string_to_tuple)"
   ]
  },
  {
   "cell_type": "markdown",
   "metadata": {},
   "source": [
    "##### slicing "
   ]
  },
  {
   "cell_type": "code",
   "execution_count": 33,
   "metadata": {},
   "outputs": [
    {
     "name": "stdout",
     "output_type": "stream",
     "text": [
      "(1, 2, 3, 4, 5, 6, 7, 8, 9, 10)\n",
      "(2, 3)\n",
      "(3, 4, 5, 6, 7, 8, 9, 10)\n",
      "(1, 2, 3)\n",
      "(1, 3, 5, 7, 9)\n",
      "(10, 9, 8, 7, 6, 5, 4, 3, 2, 1)\n"
     ]
    }
   ],
   "source": [
    "# a[start:stop:step], default step is 1\n",
    "a = (1, 2, 3, 4, 5, 6, 7, 8, 9, 10)\n",
    "print(a)\n",
    "b = a[1:3] # Note that the last index is not included\n",
    "print(b)\n",
    "b = a[2:] # until the end\n",
    "print(b)\n",
    "b = a[:3] # from beginning\n",
    "print(b)\n",
    "b = a[::2] # start to end with every second item\n",
    "print(b)\n",
    "b = a[::-1] # reverse tuple\n",
    "print(b)"
   ]
  },
  {
   "cell_type": "markdown",
   "metadata": {},
   "source": [
    "##### tuple unpacking "
   ]
  },
  {
   "cell_type": "code",
   "execution_count": 34,
   "metadata": {},
   "outputs": [
    {
     "name": "stdout",
     "output_type": "stream",
     "text": [
      "Max\n",
      "28\n",
      "New York\n"
     ]
    }
   ],
   "source": [
    "# number of variables have to match number of tuple elements\n",
    "tuple_1 = (\"Max\", 28, \"New York\")\n",
    "name, age, city = tuple_1\n",
    "print(name)\n",
    "print(age)\n",
    "print(city)"
   ]
  },
  {
   "cell_type": "code",
   "execution_count": 35,
   "metadata": {},
   "outputs": [
    {
     "name": "stdout",
     "output_type": "stream",
     "text": [
      "0\n",
      "[1, 2, 3, 4]\n",
      "5\n"
     ]
    }
   ],
   "source": [
    "# tip: unpack multiple elements to a list with *\n",
    "my_tuple = (0, 1, 2, 3, 4, 5)\n",
    "item_first, *items_between, item_last = my_tuple\n",
    "print(item_first)\n",
    "print(items_between)\n",
    "print(item_last)"
   ]
  },
  {
   "cell_type": "markdown",
   "metadata": {},
   "source": [
    "##### nested tuples"
   ]
  },
  {
   "cell_type": "code",
   "execution_count": 36,
   "metadata": {},
   "outputs": [
    {
     "name": "stdout",
     "output_type": "stream",
     "text": [
      "((0, 1), ('age', 'height'))\n",
      "(0, 1)\n"
     ]
    }
   ],
   "source": [
    "a = ((0, 1), ('age', 'height'))\n",
    "print(a)\n",
    "print(a[0])\n"
   ]
  },
  {
   "cell_type": "markdown",
   "metadata": {},
   "source": [
    "##### comparing list and tuples\n",
    "\n",
    "\n",
    "The immutability of tuples enables Python to make internal optimizations. Thus, tuples can be more efficient when working with large data."
   ]
  },
  {
   "cell_type": "code",
   "execution_count": 37,
   "metadata": {},
   "outputs": [
    {
     "name": "stdout",
     "output_type": "stream",
     "text": [
      "104 bytes\n",
      "88 bytes\n"
     ]
    }
   ],
   "source": [
    "# compare the size\n",
    "import sys\n",
    "my_list = [0, 1, 2, \"hello\", True]\n",
    "my_tuple = (0, 1, 2, \"hello\", True)\n",
    "print(sys.getsizeof(my_list), \"bytes\")\n",
    "print(sys.getsizeof(my_tuple), \"bytes\")"
   ]
  },
  {
   "cell_type": "code",
   "execution_count": 38,
   "metadata": {},
   "outputs": [
    {
     "name": "stdout",
     "output_type": "stream",
     "text": [
      "0.20402909999999963\n",
      "0.017651300000000703\n"
     ]
    }
   ],
   "source": [
    "# compare the execution time of a list vs. tuple creation statement\n",
    "import timeit\n",
    "print(timeit.timeit(stmt=\"[0, 1, 2, 3, 4, 5]\", number=1000000))\n",
    "print(timeit.timeit(stmt=\"(0, 1, 2, 3, 4, 5)\", number=1000000))"
   ]
  },
  {
   "cell_type": "code",
   "execution_count": null,
   "metadata": {},
   "outputs": [],
   "source": []
  },
  {
   "cell_type": "markdown",
   "metadata": {},
   "source": [
    "# 3. Dictionary"
   ]
  },
  {
   "cell_type": "markdown",
   "metadata": {},
   "source": [
    "A dictionary is a collection which is unordered, changeable and indexed. A dictionary consists of a collection of key-value pairs. Each key-value pair maps the key to its associated value. \n",
    "\n",
    "##### A dictionary is written in braces. Each key is separated from its value by a colon (:), and the items are separated by commas.\n",
    "\n",
    "my_dict = {\"name\":\"Max\", \"age\":28, \"city\":\"New York\"}"
   ]
  },
  {
   "cell_type": "code",
   "execution_count": 39,
   "metadata": {},
   "outputs": [
    {
     "name": "stdout",
     "output_type": "stream",
     "text": [
      "{'name': 'Max', 'age': 28, 'city': 'New York'}\n"
     ]
    }
   ],
   "source": [
    "my_dict = {\"name\":\"Max\", \"age\":28, \"city\":\"New York\"}\n",
    "print(my_dict)"
   ]
  },
  {
   "cell_type": "code",
   "execution_count": 40,
   "metadata": {},
   "outputs": [
    {
     "name": "stdout",
     "output_type": "stream",
     "text": [
      "{'name': 'Lisa', 'age': 27, 'city': 'Boston'}\n"
     ]
    }
   ],
   "source": [
    "# or use the dict constructor, note: no quotes necessary for keys\n",
    "my_dict_2 = dict(name=\"Lisa\", age=27, city=\"Boston\")\n",
    "print(my_dict_2)"
   ]
  },
  {
   "cell_type": "markdown",
   "metadata": {},
   "source": [
    "##### Accessing element "
   ]
  },
  {
   "cell_type": "code",
   "execution_count": 41,
   "metadata": {},
   "outputs": [
    {
     "name": "stdout",
     "output_type": "stream",
     "text": [
      "Max\n"
     ]
    }
   ],
   "source": [
    "name_in_dict = my_dict[\"name\"]\n",
    "print(name_in_dict)\n",
    "\n",
    "# KeyError if no key is found\n",
    "# print(my_dict[\"lastname\"])"
   ]
  },
  {
   "cell_type": "markdown",
   "metadata": {},
   "source": [
    "##### Add and change items"
   ]
  },
  {
   "cell_type": "code",
   "execution_count": 42,
   "metadata": {},
   "outputs": [
    {
     "name": "stdout",
     "output_type": "stream",
     "text": [
      "{'name': 'Max', 'age': 28, 'city': 'New York', 'email': 'max@xyz.com'}\n"
     ]
    }
   ],
   "source": [
    "# add a new key\n",
    "my_dict[\"email\"] = \"max@xyz.com\"\n",
    "print(my_dict)"
   ]
  },
  {
   "cell_type": "code",
   "execution_count": 43,
   "metadata": {},
   "outputs": [
    {
     "name": "stdout",
     "output_type": "stream",
     "text": [
      "{'name': 'Max', 'age': 28, 'city': 'New York', 'email': 'coolmax@xyz.com'}\n"
     ]
    }
   ],
   "source": [
    "# or overwrite the now existing key\n",
    "my_dict[\"email\"] = \"coolmax@xyz.com\"\n",
    "print(my_dict)\n"
   ]
  },
  {
   "cell_type": "markdown",
   "metadata": {},
   "source": [
    "##### Delete items "
   ]
  },
  {
   "cell_type": "code",
   "execution_count": 44,
   "metadata": {},
   "outputs": [],
   "source": [
    "# delete a key-value pair\n",
    "del my_dict[\"email\"]"
   ]
  },
  {
   "cell_type": "code",
   "execution_count": 45,
   "metadata": {},
   "outputs": [
    {
     "name": "stdout",
     "output_type": "stream",
     "text": [
      "popped value: 28\n"
     ]
    }
   ],
   "source": [
    "# this returns the value and removes the key-value pair\n",
    "print(\"popped value:\", my_dict.pop(\"age\"))"
   ]
  },
  {
   "cell_type": "code",
   "execution_count": 46,
   "metadata": {},
   "outputs": [
    {
     "name": "stdout",
     "output_type": "stream",
     "text": [
      "{'name': 'Max', 'city': 'New York'}\n"
     ]
    }
   ],
   "source": [
    "print(my_dict)"
   ]
  },
  {
   "cell_type": "code",
   "execution_count": 47,
   "metadata": {},
   "outputs": [
    {
     "name": "stdout",
     "output_type": "stream",
     "text": [
      "popped item: ('city', 'New York')\n",
      "{'name': 'Max'}\n"
     ]
    }
   ],
   "source": [
    "# return and removes the last inserted key-value pair \n",
    "# (in versions before Python 3.7 it removes an arbitrary pair)\n",
    "print(\"popped item:\", my_dict.popitem())\n",
    "\n",
    "print(my_dict)\n",
    "\n",
    "# clear() : remove all pairs\n",
    "# my_dict.clear()"
   ]
  },
  {
   "cell_type": "markdown",
   "metadata": {},
   "source": [
    "##### checking for keys "
   ]
  },
  {
   "cell_type": "code",
   "execution_count": 48,
   "metadata": {},
   "outputs": [
    {
     "name": "stdout",
     "output_type": "stream",
     "text": [
      "Max\n",
      "No key found\n"
     ]
    }
   ],
   "source": [
    "my_dict = {\"name\":\"Max\", \"age\":28, \"city\":\"New York\"}\n",
    "# use if .. in ..\n",
    "if \"name\" in my_dict:\n",
    "    print(my_dict[\"name\"])\n",
    "\n",
    "# use try except\n",
    "try:\n",
    "    print(my_dict[\"firstname\"])\n",
    "except KeyError:\n",
    "    print(\"No key found\")  "
   ]
  },
  {
   "cell_type": "markdown",
   "metadata": {},
   "source": [
    "##### looping over key and values "
   ]
  },
  {
   "cell_type": "code",
   "execution_count": 53,
   "metadata": {},
   "outputs": [
    {
     "name": "stdout",
     "output_type": "stream",
     "text": [
      "name Max\n",
      "age 28\n",
      "city New York\n"
     ]
    }
   ],
   "source": [
    "# loop over keys\n",
    "for key in my_dict:\n",
    "    print(key, my_dict[key])"
   ]
  },
  {
   "cell_type": "code",
   "execution_count": 54,
   "metadata": {},
   "outputs": [
    {
     "name": "stdout",
     "output_type": "stream",
     "text": [
      "name\n",
      "age\n",
      "city\n"
     ]
    }
   ],
   "source": [
    "# loop over keys\n",
    "for key in my_dict.keys():\n",
    "    print(key)"
   ]
  },
  {
   "cell_type": "code",
   "execution_count": 55,
   "metadata": {},
   "outputs": [
    {
     "name": "stdout",
     "output_type": "stream",
     "text": [
      "Max\n",
      "28\n",
      "New York\n"
     ]
    }
   ],
   "source": [
    "# loop over values\n",
    "for value in my_dict.values():\n",
    "    print(value)"
   ]
  },
  {
   "cell_type": "code",
   "execution_count": 56,
   "metadata": {},
   "outputs": [
    {
     "name": "stdout",
     "output_type": "stream",
     "text": [
      "name Max\n",
      "age 28\n",
      "city New York\n"
     ]
    }
   ],
   "source": [
    "# loop over keys and values\n",
    "for key, value in my_dict.items():\n",
    "    print(key, value)"
   ]
  },
  {
   "cell_type": "markdown",
   "metadata": {},
   "source": [
    "##### copying the dictionary"
   ]
  },
  {
   "cell_type": "code",
   "execution_count": 57,
   "metadata": {},
   "outputs": [
    {
     "name": "stdout",
     "output_type": "stream",
     "text": [
      "{'name': 'Lisa', 'age': 28, 'city': 'New York'}\n",
      "{'name': 'Lisa', 'age': 28, 'city': 'New York'}\n"
     ]
    }
   ],
   "source": [
    "dict_org = {\"name\":\"Max\", \"age\":28, \"city\":\"New York\"}\n",
    "\n",
    "# this just copies the reference to the dict, so be careful\n",
    "dict_copy = dict_org\n",
    "\n",
    "# now modifying the copy also affects the original\n",
    "dict_copy[\"name\"] = \"Lisa\"\n",
    "print(dict_copy)\n",
    "print(dict_org)"
   ]
  },
  {
   "cell_type": "code",
   "execution_count": 58,
   "metadata": {},
   "outputs": [
    {
     "name": "stdout",
     "output_type": "stream",
     "text": [
      "{'name': 'Lisa', 'age': 28, 'city': 'New York'}\n",
      "{'name': 'Max', 'age': 28, 'city': 'New York'}\n"
     ]
    }
   ],
   "source": [
    "# use copy(), or dict(x) to actually copy the dict\n",
    "dict_org = {\"name\":\"Max\", \"age\":28, \"city\":\"New York\"}\n",
    "\n",
    "dict_copy = dict_org.copy()\n",
    "# dict_copy = dict(dict_org)\n",
    "\n",
    "# now modifying the copy does not affect the original\n",
    "dict_copy[\"name\"] = \"Lisa\"\n",
    "print(dict_copy)\n",
    "print(dict_org)"
   ]
  },
  {
   "cell_type": "markdown",
   "metadata": {},
   "source": [
    "##### merging the dictionary "
   ]
  },
  {
   "cell_type": "code",
   "execution_count": 59,
   "metadata": {},
   "outputs": [
    {
     "name": "stdout",
     "output_type": "stream",
     "text": [
      "{'name': 'Lisa', 'age': 27, 'email': 'max@xyz.com', 'city': 'Boston'}\n"
     ]
    }
   ],
   "source": [
    "# Use the update() method to merge 2 dicts\n",
    "# existing keys are overwritten, new keys are added\n",
    "my_dict = {\"name\":\"Max\", \"age\":28, \"email\":\"max@xyz.com\"}\n",
    "my_dict_2 = dict(name=\"Lisa\", age=27, city=\"Boston\")\n",
    "\n",
    "my_dict.update(my_dict_2)\n",
    "print(my_dict)"
   ]
  },
  {
   "cell_type": "code",
   "execution_count": null,
   "metadata": {},
   "outputs": [],
   "source": []
  },
  {
   "cell_type": "code",
   "execution_count": 60,
   "metadata": {},
   "outputs": [
    {
     "name": "stdout",
     "output_type": "stream",
     "text": [
      "9 36 81\n",
      "15\n"
     ]
    }
   ],
   "source": [
    "# use numbers as key, but be careful\n",
    "my_dict = {3: 9, 6: 36, 9:81}\n",
    "# do not mistake the keys as indices of a list, e.g my_dict[0] is not possible here\n",
    "print(my_dict[3], my_dict[6], my_dict[9])\n",
    "\n",
    "# use a tuple with immutable elements (e.g. number, string)\n",
    "my_tuple = (8, 7)\n",
    "my_dict = {my_tuple: 15}\n",
    "\n",
    "print(my_dict[my_tuple])\n",
    "# print(my_dict[8, 7])\n",
    "\n",
    "# a list is not possible because it is not immutable\n",
    "# this will raise an Error:\n",
    "# my_list = [8, 7]\n",
    "# my_dict = {my_list: 15}"
   ]
  },
  {
   "cell_type": "markdown",
   "metadata": {},
   "source": [
    "##### Nested dictionary "
   ]
  },
  {
   "cell_type": "code",
   "execution_count": 61,
   "metadata": {},
   "outputs": [
    {
     "name": "stdout",
     "output_type": "stream",
     "text": [
      "{'dictA': {'name': 'Max', 'age': 28}, 'dictB': {'name': 'Alex', 'age': 25}}\n"
     ]
    }
   ],
   "source": [
    "my_dict_1 = {\"name\": \"Max\", \"age\": 28}\n",
    "my_dict_2 = {\"name\": \"Alex\", \"age\": 25}\n",
    "nested_dict = {\"dictA\": my_dict_1,\n",
    "               \"dictB\": my_dict_2}\n",
    "print(nested_dict)"
   ]
  },
  {
   "cell_type": "code",
   "execution_count": null,
   "metadata": {},
   "outputs": [],
   "source": []
  },
  {
   "cell_type": "markdown",
   "metadata": {},
   "source": [
    "# 4. Set"
   ]
  },
  {
   "cell_type": "markdown",
   "metadata": {},
   "source": [
    "A Set is an unordered collection data type that is unindexed, mutable, and has no duplicate elements. Sets are created with braces.\n",
    "\n",
    "my_set = {\"apple\", \"banana\", \"cherry\"}"
   ]
  },
  {
   "cell_type": "code",
   "execution_count": 62,
   "metadata": {},
   "outputs": [
    {
     "name": "stdout",
     "output_type": "stream",
     "text": [
      "{'cherry', 'banana', 'apple'}\n",
      "{'two', 'three', 'one'}\n",
      "{'a', 'd', 'b', 'f', 'c', 'e'}\n"
     ]
    }
   ],
   "source": [
    "my_set = {\"apple\", \"banana\", \"cherry\"}\n",
    "print(my_set)\n",
    "\n",
    "# or use the set function and create from an iterable, e.g. list, tuple, string\n",
    "my_set_2 = set([\"one\", \"two\", \"three\"])\n",
    "my_set_2 = set((\"one\", \"two\", \"three\"))\n",
    "print(my_set_2)\n",
    "\n",
    "my_set_3 = set(\"aaabbbcccdddeeeeeffff\")\n",
    "print(my_set_3)\n"
   ]
  },
  {
   "cell_type": "code",
   "execution_count": 63,
   "metadata": {},
   "outputs": [
    {
     "name": "stdout",
     "output_type": "stream",
     "text": [
      "<class 'dict'>\n",
      "<class 'set'>\n"
     ]
    }
   ],
   "source": [
    "# careful: an empty set cannot be created with {}, as this is interpreted as dict\n",
    "# use set() instead\n",
    "a = {}\n",
    "print(type(a))\n",
    "a = set()\n",
    "print(type(a))"
   ]
  },
  {
   "cell_type": "markdown",
   "metadata": {},
   "source": [
    "##### adding element"
   ]
  },
  {
   "cell_type": "code",
   "execution_count": 64,
   "metadata": {},
   "outputs": [
    {
     "name": "stdout",
     "output_type": "stream",
     "text": [
      "{True, 42, 'Hello'}\n",
      "{True, 42, 'Hello'}\n"
     ]
    }
   ],
   "source": [
    "my_set = set()\n",
    "\n",
    "# use the add() method to add elements\n",
    "my_set.add(42)\n",
    "my_set.add(True)\n",
    "my_set.add(\"Hello\")\n",
    "\n",
    "# note: the order does not matter, and might differ when printed\n",
    "print(my_set)\n",
    "\n",
    "# nothing happens when the element is already present:\n",
    "my_set.add(42)\n",
    "print(my_set)"
   ]
  },
  {
   "cell_type": "markdown",
   "metadata": {},
   "source": [
    "##### Removing elements"
   ]
  },
  {
   "cell_type": "code",
   "execution_count": 65,
   "metadata": {},
   "outputs": [
    {
     "name": "stdout",
     "output_type": "stream",
     "text": [
      "{'cherry', 'banana'}\n"
     ]
    }
   ],
   "source": [
    "# remove(x): removes x, raises a KeyError if element is not present\n",
    "my_set = {\"apple\", \"banana\", \"cherry\"}\n",
    "my_set.remove(\"apple\")\n",
    "print(my_set)"
   ]
  },
  {
   "cell_type": "code",
   "execution_count": 66,
   "metadata": {},
   "outputs": [
    {
     "name": "stdout",
     "output_type": "stream",
     "text": [
      "{'banana'}\n"
     ]
    }
   ],
   "source": [
    "# KeyError:\n",
    "# my_set.remove(\"orange\")\n",
    "\n",
    "# discard(x): removes x, does nothing if element is not present\n",
    "my_set.discard(\"cherry\")\n",
    "my_set.discard(\"blueberry\")\n",
    "print(my_set)"
   ]
  },
  {
   "cell_type": "code",
   "execution_count": 67,
   "metadata": {},
   "outputs": [
    {
     "name": "stdout",
     "output_type": "stream",
     "text": [
      "set()\n"
     ]
    }
   ],
   "source": [
    "# clear() : remove all elements\n",
    "my_set.clear()\n",
    "print(my_set)"
   ]
  },
  {
   "cell_type": "code",
   "execution_count": 68,
   "metadata": {},
   "outputs": [
    {
     "name": "stdout",
     "output_type": "stream",
     "text": [
      "False\n",
      "{True, 2, 'hi', 'hello'}\n"
     ]
    }
   ],
   "source": [
    "# pop() : return and remove a random element\n",
    "a = {True, 2, False, \"hi\", \"hello\"}\n",
    "print(a.pop())\n",
    "print(a)"
   ]
  },
  {
   "cell_type": "markdown",
   "metadata": {},
   "source": [
    "##### chekc if element present in set"
   ]
  },
  {
   "cell_type": "code",
   "execution_count": 69,
   "metadata": {},
   "outputs": [
    {
     "name": "stdout",
     "output_type": "stream",
     "text": [
      "yes\n"
     ]
    }
   ],
   "source": [
    "my_set = {\"apple\", \"banana\", \"cherry\"}\n",
    "if \"apple\" in my_set:\n",
    "    print(\"yes\")"
   ]
  },
  {
   "cell_type": "markdown",
   "metadata": {},
   "source": [
    "##### Iterating over set"
   ]
  },
  {
   "cell_type": "code",
   "execution_count": 70,
   "metadata": {},
   "outputs": [
    {
     "name": "stdout",
     "output_type": "stream",
     "text": [
      "cherry\n",
      "banana\n",
      "apple\n"
     ]
    }
   ],
   "source": [
    "# Iterating over a set by using a for in loop\n",
    "# Note: order is not important\n",
    "my_set = {\"apple\", \"banana\", \"cherry\"}\n",
    "for i in my_set:\n",
    "    print(i)"
   ]
  },
  {
   "cell_type": "markdown",
   "metadata": {},
   "source": [
    "##### union and intersection"
   ]
  },
  {
   "cell_type": "code",
   "execution_count": 71,
   "metadata": {},
   "outputs": [],
   "source": [
    "odds = {1, 3, 5, 7, 9}\n",
    "evens = {0, 2, 4, 6, 8}\n",
    "primes = {2, 3, 5, 7}"
   ]
  },
  {
   "cell_type": "code",
   "execution_count": 72,
   "metadata": {},
   "outputs": [
    {
     "name": "stdout",
     "output_type": "stream",
     "text": [
      "{0, 1, 2, 3, 4, 5, 6, 7, 8, 9}\n",
      "set()\n",
      "{3, 5, 7}\n",
      "{2}\n"
     ]
    }
   ],
   "source": [
    "# union() : combine elements from both sets, no duplication\n",
    "# note that this does not change the two sets\n",
    "u = odds.union(evens)\n",
    "print(u)\n",
    "\n",
    "# intersection(): take elements that are in both sets\n",
    "i = odds.intersection(evens)\n",
    "print(i)\n",
    "\n",
    "i = odds.intersection(primes)\n",
    "print(i)\n",
    "\n",
    "i = evens.intersection(primes)\n",
    "print(i)"
   ]
  },
  {
   "cell_type": "markdown",
   "metadata": {},
   "source": [
    "##### difference between sets"
   ]
  },
  {
   "cell_type": "code",
   "execution_count": 73,
   "metadata": {},
   "outputs": [],
   "source": [
    "setA = {1, 2, 3, 4, 5, 6, 7, 8, 9}\n",
    "setB = {1, 2, 3, 10, 11, 12}"
   ]
  },
  {
   "cell_type": "code",
   "execution_count": 74,
   "metadata": {},
   "outputs": [
    {
     "name": "stdout",
     "output_type": "stream",
     "text": [
      "{4, 5, 6, 7, 8, 9}\n",
      "{10, 11, 12}\n",
      "{4, 5, 6, 7, 8, 9, 10, 11, 12}\n",
      "{4, 5, 6, 7, 8, 9, 10, 11, 12}\n"
     ]
    }
   ],
   "source": [
    "# difference() : returns a set with all the elements from the setA that are not in setB.\n",
    "diff_set = setA.difference(setB)\n",
    "print(diff_set)\n",
    "\n",
    "# A.difference(B) is not the same as B.difference(A)\n",
    "diff_set = setB.difference(setA)\n",
    "print(diff_set)\n",
    "\n",
    "# symmetric_difference() : returns a set with all the elements that are in setA and setB but not in both\n",
    "diff_set = setA.symmetric_difference(setB)\n",
    "print(diff_set)\n",
    "\n",
    "# A.symmetric_difference(B) = B.symmetric_difference(A)\n",
    "diff_set = setB.symmetric_difference(setA)\n",
    "print(diff_set)"
   ]
  },
  {
   "cell_type": "markdown",
   "metadata": {},
   "source": [
    "##### upading sets"
   ]
  },
  {
   "cell_type": "code",
   "execution_count": 75,
   "metadata": {},
   "outputs": [
    {
     "name": "stdout",
     "output_type": "stream",
     "text": [
      "{1, 2, 3, 4, 5, 6, 7, 8, 9, 10, 11, 12}\n"
     ]
    }
   ],
   "source": [
    "setA = {1, 2, 3, 4, 5, 6, 7, 8, 9}\n",
    "setB = {1, 2, 3, 10, 11, 12}\n",
    "\n",
    "# update() : Update the set by adding elements from another set.\n",
    "setA.update(setB)\n",
    "print(setA)"
   ]
  },
  {
   "cell_type": "code",
   "execution_count": 76,
   "metadata": {},
   "outputs": [
    {
     "name": "stdout",
     "output_type": "stream",
     "text": [
      "{1, 2, 3}\n"
     ]
    }
   ],
   "source": [
    "# intersection_update() : Update the set by keeping only the elements found in both\n",
    "setA = {1, 2, 3, 4, 5, 6, 7, 8, 9}\n",
    "setA.intersection_update(setB)\n",
    "print(setA)"
   ]
  },
  {
   "cell_type": "code",
   "execution_count": 77,
   "metadata": {},
   "outputs": [
    {
     "name": "stdout",
     "output_type": "stream",
     "text": [
      "{4, 5, 6, 7, 8, 9}\n"
     ]
    }
   ],
   "source": [
    "# difference_update() : Update the set by removing elements found in another set.\n",
    "setA = {1, 2, 3, 4, 5, 6, 7, 8, 9}\n",
    "setA.difference_update(setB)\n",
    "print(setA)"
   ]
  },
  {
   "cell_type": "code",
   "execution_count": 78,
   "metadata": {},
   "outputs": [
    {
     "name": "stdout",
     "output_type": "stream",
     "text": [
      "{4, 5, 6, 7, 8, 9, 10, 11, 12}\n"
     ]
    }
   ],
   "source": [
    "# symmetric_difference_update() : Update the set by only keeping the elements found in either set, but not in both\n",
    "setA = {1, 2, 3, 4, 5, 6, 7, 8, 9}\n",
    "setA.symmetric_difference_update(setB)\n",
    "print(setA)\n",
    "\n",
    "# Note: all update methods also work with other iterables as argument, e.g lists, tuples\n",
    "# setA.update([1, 2, 3, 4, 5, 6])"
   ]
  },
  {
   "cell_type": "code",
   "execution_count": null,
   "metadata": {},
   "outputs": [],
   "source": []
  },
  {
   "cell_type": "markdown",
   "metadata": {},
   "source": [
    "##### Copying "
   ]
  },
  {
   "cell_type": "code",
   "execution_count": 79,
   "metadata": {},
   "outputs": [
    {
     "name": "stdout",
     "output_type": "stream",
     "text": [
      "{1, 2, 3, 4, 5, 6, 7}\n",
      "{1, 2, 3, 4, 5, 6, 7}\n"
     ]
    }
   ],
   "source": [
    "set_org = {1, 2, 3, 4, 5}\n",
    "\n",
    "# this just copies the reference to the set, so be careful\n",
    "set_copy = set_org\n",
    "\n",
    "# now modifying the copy also affects the original\n",
    "set_copy.update([3, 4, 5, 6, 7])\n",
    "print(set_copy)\n",
    "print(set_org)"
   ]
  },
  {
   "cell_type": "code",
   "execution_count": 80,
   "metadata": {},
   "outputs": [
    {
     "name": "stdout",
     "output_type": "stream",
     "text": [
      "{1, 2, 3, 4, 5, 6, 7}\n",
      "{1, 2, 3, 4, 5}\n"
     ]
    }
   ],
   "source": [
    "# use copy() to actually copy the set\n",
    "set_org = {1, 2, 3, 4, 5}\n",
    "set_copy = set_org.copy()\n",
    "\n",
    "# now modifying the copy does not affect the original\n",
    "set_copy.update([3, 4, 5, 6, 7])\n",
    "print(set_copy)\n",
    "print(set_org)"
   ]
  },
  {
   "cell_type": "markdown",
   "metadata": {},
   "source": [
    "##### subset, superset, disjoint"
   ]
  },
  {
   "cell_type": "code",
   "execution_count": 81,
   "metadata": {},
   "outputs": [],
   "source": [
    "setA = {1, 2, 3, 4, 5, 6}\n",
    "setB = {1, 2, 3}"
   ]
  },
  {
   "cell_type": "code",
   "execution_count": 82,
   "metadata": {},
   "outputs": [
    {
     "name": "stdout",
     "output_type": "stream",
     "text": [
      "False\n",
      "True\n"
     ]
    }
   ],
   "source": [
    "# issubset(setX): Returns True if setX contains the set\n",
    "print(setA.issubset(setB))\n",
    "print(setB.issubset(setA)) # True"
   ]
  },
  {
   "cell_type": "code",
   "execution_count": 83,
   "metadata": {},
   "outputs": [
    {
     "name": "stdout",
     "output_type": "stream",
     "text": [
      "True\n",
      "False\n"
     ]
    }
   ],
   "source": [
    "# issuperset(setX): Returns True if the set contains setX\n",
    "print(setA.issuperset(setB)) # True\n",
    "print(setB.issuperset(setA))"
   ]
  },
  {
   "cell_type": "code",
   "execution_count": 84,
   "metadata": {},
   "outputs": [
    {
     "name": "stdout",
     "output_type": "stream",
     "text": [
      "False\n",
      "True\n"
     ]
    }
   ],
   "source": [
    "# isdisjoint(setX) : Return True if both sets have a null intersection, i.e. no same elements\n",
    "setC = {7, 8, 9}\n",
    "print(setA.isdisjoint(setB))\n",
    "print(setA.isdisjoint(setC))"
   ]
  },
  {
   "cell_type": "markdown",
   "metadata": {},
   "source": [
    "#### Frozenset\n",
    "\n",
    "Frozen set is just an immutable version of normal set. While elements of a set can be modified at any time, elements of frozen set remains the same after creation. \n",
    "\n",
    "Creation with: my_frozenset = frozenset(iterable)"
   ]
  },
  {
   "cell_type": "code",
   "execution_count": 85,
   "metadata": {},
   "outputs": [
    {
     "name": "stdout",
     "output_type": "stream",
     "text": [
      "frozenset({0, 1, 2, 3, 4, 5, 6, 7, 8, 9})\n",
      "frozenset()\n",
      "frozenset({1, 3, 5, 7, 9})\n"
     ]
    }
   ],
   "source": [
    "a = frozenset([0, 1, 2, 3, 4])\n",
    "\n",
    "# The following is not allowed:\n",
    "# a.add(5)\n",
    "# a.remove(1)\n",
    "# a.discard(1)\n",
    "# a.clear()\n",
    "\n",
    "# Also no update methods are allowed:\n",
    "# a.update([1,2,3])\n",
    "\n",
    "# Other set operations work\n",
    "odds = frozenset({1, 3, 5, 7, 9})\n",
    "evens = frozenset({0, 2, 4, 6, 8})\n",
    "print(odds.union(evens))\n",
    "print(odds.intersection(evens))\n",
    "print(odds.difference(evens))"
   ]
  },
  {
   "cell_type": "code",
   "execution_count": null,
   "metadata": {},
   "outputs": [],
   "source": []
  },
  {
   "cell_type": "markdown",
   "metadata": {},
   "source": [
    "# 5. String"
   ]
  },
  {
   "cell_type": "markdown",
   "metadata": {},
   "source": [
    "A string is a sequence of characters. String literals in Python are enclosed by either double or single quotes.\n",
    "\n",
    "my_string = 'Hello'\n",
    "\n",
    "##### Python strings are immutable which means they cannot be changed after they are created"
   ]
  },
  {
   "cell_type": "code",
   "execution_count": 86,
   "metadata": {},
   "outputs": [
    {
     "name": "stdout",
     "output_type": "stream",
     "text": [
      "I' m a 'Geek'\n"
     ]
    }
   ],
   "source": [
    "# use singe or double quotes\n",
    "my_string = 'Hello'\n",
    "my_string = \"Hello\"\n",
    "my_string = \"I' m  a 'Geek'\"\n",
    "\n",
    "# escaping backslash\n",
    "my_string = 'I\\' m  a \"Geek\"'\n",
    "my_string = 'I\\' m a \\'Geek\\''\n",
    "print(my_string)"
   ]
  },
  {
   "cell_type": "code",
   "execution_count": 87,
   "metadata": {},
   "outputs": [
    {
     "name": "stdout",
     "output_type": "stream",
     "text": [
      "Hello\n",
      "World\n"
     ]
    }
   ],
   "source": [
    "# triple quotes for multiline strings\n",
    "my_string = \"\"\"Hello\n",
    "World\"\"\"\n",
    "print(my_string)"
   ]
  },
  {
   "cell_type": "code",
   "execution_count": 88,
   "metadata": {},
   "outputs": [
    {
     "name": "stdout",
     "output_type": "stream",
     "text": [
      "Hello World\n"
     ]
    }
   ],
   "source": [
    "# backslash if you want to continue in the next line\n",
    "my_string = \"Hello \\\n",
    "World\"\n",
    "print(my_string)"
   ]
  },
  {
   "cell_type": "markdown",
   "metadata": {},
   "source": [
    "##### accessing element"
   ]
  },
  {
   "cell_type": "code",
   "execution_count": 89,
   "metadata": {},
   "outputs": [
    {
     "name": "stdout",
     "output_type": "stream",
     "text": [
      "H\n",
      "el\n",
      "Hello\n",
      "World\n",
      "HloWrd\n",
      "dlroW olleH\n"
     ]
    }
   ],
   "source": [
    "my_string = \"Hello World\"\n",
    "\n",
    "# get character by referring to index\n",
    "b = my_string[0]\n",
    "print(b)\n",
    "\n",
    "# Substrings with slicing\n",
    "b = my_string[1:3] # Note that the last index is not included\n",
    "print(b)\n",
    "b = my_string[:5] # from beginning\n",
    "print(b)\n",
    "b = my_string[6:] # until the end\n",
    "print(b)\n",
    "b = my_string[::2] # start to end with every second item\n",
    "print(b)\n",
    "b = my_string[::-1] # reverse the string with a negative step:\n",
    "print(b)"
   ]
  },
  {
   "cell_type": "markdown",
   "metadata": {},
   "source": [
    "##### concatig two string "
   ]
  },
  {
   "cell_type": "code",
   "execution_count": 90,
   "metadata": {},
   "outputs": [
    {
     "name": "stdout",
     "output_type": "stream",
     "text": [
      "Hello Tom\n"
     ]
    }
   ],
   "source": [
    "# concat strings with +\n",
    "greeting = \"Hello\"\n",
    "name = \"Tom\"\n",
    "sentence = greeting + ' ' + name\n",
    "print(sentence)"
   ]
  },
  {
   "cell_type": "markdown",
   "metadata": {},
   "source": [
    "##### Iterating"
   ]
  },
  {
   "cell_type": "code",
   "execution_count": 91,
   "metadata": {},
   "outputs": [
    {
     "name": "stdout",
     "output_type": "stream",
     "text": [
      "H\n",
      "e\n",
      "l\n",
      "l\n",
      "o\n"
     ]
    }
   ],
   "source": [
    "# Iterating over a string by using a for in loop\n",
    "my_string = 'Hello'\n",
    "for i in my_string:\n",
    "    print(i)"
   ]
  },
  {
   "cell_type": "code",
   "execution_count": 92,
   "metadata": {},
   "outputs": [
    {
     "name": "stdout",
     "output_type": "stream",
     "text": [
      "yes\n",
      "yes\n"
     ]
    }
   ],
   "source": [
    "if \"e\" in \"Hello\":\n",
    "    print(\"yes\")\n",
    "if \"llo\" in \"Hello\":\n",
    "    print(\"yes\")"
   ]
  },
  {
   "cell_type": "markdown",
   "metadata": {},
   "source": [
    "##### string methods"
   ]
  },
  {
   "cell_type": "code",
   "execution_count": 93,
   "metadata": {},
   "outputs": [
    {
     "name": "stdout",
     "output_type": "stream",
     "text": [
      "Hello World\n"
     ]
    }
   ],
   "source": [
    "my_string = \"     Hello World \"\n",
    "\n",
    "# remove white space\n",
    "my_string = my_string.strip()\n",
    "print(my_string)\n"
   ]
  },
  {
   "cell_type": "code",
   "execution_count": 94,
   "metadata": {},
   "outputs": [
    {
     "name": "stdout",
     "output_type": "stream",
     "text": [
      "11\n"
     ]
    }
   ],
   "source": [
    "\n",
    "# number of characters\n",
    "print(len(my_string))"
   ]
  },
  {
   "cell_type": "code",
   "execution_count": 95,
   "metadata": {},
   "outputs": [
    {
     "name": "stdout",
     "output_type": "stream",
     "text": [
      "HELLO WORLD\n",
      "hello world\n"
     ]
    }
   ],
   "source": [
    "# Upper and lower cases\n",
    "print(my_string.upper())\n",
    "print(my_string.lower())"
   ]
  },
  {
   "cell_type": "code",
   "execution_count": 96,
   "metadata": {},
   "outputs": [
    {
     "name": "stdout",
     "output_type": "stream",
     "text": [
      "True\n",
      "True\n"
     ]
    }
   ],
   "source": [
    "# startswith and endswith\n",
    "print(\"hello\".startswith(\"he\"))\n",
    "print(\"hello\".endswith(\"llo\"))"
   ]
  },
  {
   "cell_type": "code",
   "execution_count": 97,
   "metadata": {},
   "outputs": [
    {
     "name": "stdout",
     "output_type": "stream",
     "text": [
      "4\n",
      "1\n"
     ]
    }
   ],
   "source": [
    "# find first index of a given substring, -1 otherwise\n",
    "print(\"Hello\".find(\"o\"))\n",
    "\n",
    "# count number of characters/substrings\n",
    "print(\"Hello\".count(\"e\"))\n"
   ]
  },
  {
   "cell_type": "code",
   "execution_count": 98,
   "metadata": {},
   "outputs": [
    {
     "name": "stdout",
     "output_type": "stream",
     "text": [
      "Hello Universe\n"
     ]
    }
   ],
   "source": [
    "# replace a substring with another string (only if the substring is found)\n",
    "# Note: The original string stays the same\n",
    "message = \"Hello World\"\n",
    "new_message = message.replace(\"World\", \"Universe\")\n",
    "print(new_message)\n"
   ]
  },
  {
   "cell_type": "code",
   "execution_count": 99,
   "metadata": {},
   "outputs": [
    {
     "name": "stdout",
     "output_type": "stream",
     "text": [
      "['how', 'are', 'you', 'doing']\n",
      "['one', 'two', 'three']\n"
     ]
    }
   ],
   "source": [
    "# split the string into a list\n",
    "my_string = \"how are you doing\"\n",
    "a = my_string.split() # default argument is \" \"\n",
    "print(a)\n",
    "my_string = \"one,two,three\"\n",
    "a = my_string.split(\",\")\n",
    "print(a)"
   ]
  },
  {
   "cell_type": "code",
   "execution_count": 100,
   "metadata": {},
   "outputs": [
    {
     "name": "stdout",
     "output_type": "stream",
     "text": [
      "How are you doing\n"
     ]
    }
   ],
   "source": [
    "# join elements of a list into a string\n",
    "my_list = ['How', 'are', 'you', 'doing']\n",
    "a = ' '.join(my_list) # the given string is the separator, e.g. ' ' between each argument\n",
    "print(a)"
   ]
  },
  {
   "cell_type": "markdown",
   "metadata": {},
   "source": [
    "##### formatting"
   ]
  },
  {
   "cell_type": "code",
   "execution_count": 101,
   "metadata": {},
   "outputs": [
    {
     "name": "stdout",
     "output_type": "stream",
     "text": [
      "Hello Bob and Tom\n",
      "Hello Bob and Tom\n"
     ]
    }
   ],
   "source": [
    "# use braces as placeholders\n",
    "a = \"Hello {0} and {1}\".format(\"Bob\", \"Tom\")\n",
    "print(a)\n",
    "\n",
    "# the positions are optional for the default order\n",
    "a = \"Hello {} and {}\".format(\"Bob\", \"Tom\")\n",
    "print(a)"
   ]
  },
  {
   "cell_type": "code",
   "execution_count": 102,
   "metadata": {},
   "outputs": [
    {
     "name": "stdout",
     "output_type": "stream",
     "text": [
      "The integer value is 2\n",
      "The float value is 2.123\n",
      "The float value is 2.123400e+00\n",
      "The binary value is 10\n"
     ]
    }
   ],
   "source": [
    "a = \"The integer value is {}\".format(2)\n",
    "print(a)\n",
    "# some special format rules for numbers\n",
    "a = \"The float value is {0:.3f}\".format(2.1234)\n",
    "print(a)\n",
    "a = \"The float value is {0:e}\".format(2.1234)\n",
    "print(a)\n",
    "a = \"The binary value is {0:b}\".format(2)\n",
    "print(a)"
   ]
  },
  {
   "cell_type": "code",
   "execution_count": 103,
   "metadata": {},
   "outputs": [
    {
     "name": "stdout",
     "output_type": "stream",
     "text": [
      "Hello Bob and Tom\n",
      "The decimal value is 3\n",
      "The float value is 3.141593\n",
      "The float value is 3.14\n"
     ]
    }
   ],
   "source": [
    "# old style formatting by using % operator\n",
    "print(\"Hello %s and %s\" % (\"Bob\", \"Tom\")) # must be a tuple for multiple arguments\n",
    "val =  3.14159265359\n",
    "print(\"The decimal value is %d\" % val)\n",
    "print(\"The float value is %f\" % val)\n",
    "print(\"The float value is %.2f\" % val)"
   ]
  },
  {
   "cell_type": "markdown",
   "metadata": {},
   "source": [
    "##### f'string"
   ]
  },
  {
   "cell_type": "code",
   "execution_count": 104,
   "metadata": {},
   "outputs": [
    {
     "name": "stdout",
     "output_type": "stream",
     "text": [
      "Hello, Eric. You are 25.\n"
     ]
    }
   ],
   "source": [
    "name = \"Eric\"\n",
    "age = 25\n",
    "a = f\"Hello, {name}. You are {age}.\"\n",
    "print(a)"
   ]
  },
  {
   "cell_type": "code",
   "execution_count": 105,
   "metadata": {},
   "outputs": [
    {
     "name": "stdout",
     "output_type": "stream",
     "text": [
      "Pi is 3.142\n"
     ]
    }
   ],
   "source": [
    "pi = 3.14159\n",
    "a = f\"Pi is {pi:.3f}\"\n",
    "print(a)"
   ]
  },
  {
   "cell_type": "code",
   "execution_count": 106,
   "metadata": {},
   "outputs": [
    {
     "name": "stdout",
     "output_type": "stream",
     "text": [
      "The value is 120\n"
     ]
    }
   ],
   "source": [
    "# f-Strings are evaluated at runtime, which allows expressions\n",
    "a = f\"The value is {2*60}\"\n",
    "print(a)"
   ]
  },
  {
   "cell_type": "code",
   "execution_count": 107,
   "metadata": {},
   "outputs": [
    {
     "name": "stdout",
     "output_type": "stream",
     "text": [
      "concatenate string with + : 0.45370\n",
      "concatenate string with join(): 0.01700\n"
     ]
    }
   ],
   "source": [
    "# since a string is immutable, adding strings with +,  or += always \n",
    "# creates a new string, and therefore is expensive for multiple operations\n",
    "# --> join method is much faster\n",
    "from timeit import default_timer as timer\n",
    "my_list = [\"a\"] * 1000000\n",
    "\n",
    "# bad\n",
    "start = timer()\n",
    "a = \"\"\n",
    "for i in my_list:\n",
    "    a += i\n",
    "end = timer()\n",
    "print(\"concatenate string with + : %.5f\" % (end - start))\n",
    "\n",
    "# good\n",
    "start = timer()\n",
    "a = \"\".join(my_list)\n",
    "end = timer()\n",
    "print(\"concatenate string with join(): %.5f\" % (end - start))"
   ]
  },
  {
   "cell_type": "code",
   "execution_count": null,
   "metadata": {},
   "outputs": [],
   "source": []
  }
 ],
 "metadata": {
  "kernelspec": {
   "display_name": "Python 3",
   "language": "python",
   "name": "python3"
  },
  "language_info": {
   "codemirror_mode": {
    "name": "ipython",
    "version": 3
   },
   "file_extension": ".py",
   "mimetype": "text/x-python",
   "name": "python",
   "nbconvert_exporter": "python",
   "pygments_lexer": "ipython3",
   "version": "3.7.6"
  }
 },
 "nbformat": 4,
 "nbformat_minor": 4
}
