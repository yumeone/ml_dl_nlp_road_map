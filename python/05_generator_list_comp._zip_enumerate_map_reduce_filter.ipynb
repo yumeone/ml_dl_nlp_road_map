{
 "cells": [
  {
   "cell_type": "markdown",
   "metadata": {},
   "source": [
    "\n",
    "## 1. Iterable and Iterator\n",
    "\n",
    "* Iterable is an object, which one can iterate over. It generates an Iterator when passed to __iter() method. \n",
    "\n",
    "* Iterator is an object, which is used to iterate over an iterable object using __next__() method. Iterators have __next__() method, which returns the next item of the object.\n",
    "\n",
    "###### int is not interable but string/list is interable"
   ]
  },
  {
   "cell_type": "markdown",
   "metadata": {},
   "source": [
    "The dir()  function returns all properties and methods of the specified object, without the values. This function will return all the properties and methods, even built-in properties which are default for all objec"
   ]
  },
  {
   "cell_type": "code",
   "execution_count": 1,
   "metadata": {},
   "outputs": [
    {
     "name": "stdout",
     "output_type": "stream",
     "text": [
      "['__add__', '__class__', '__contains__', '__delattr__', '__delitem__', '__dir__', '__doc__', '__eq__', '__format__', '__ge__', '__getattribute__', '__getitem__', '__gt__', '__hash__', '__iadd__', '__imul__', '__init__', '__init_subclass__', '__iter__', '__le__', '__len__', '__lt__', '__mul__', '__ne__', '__new__', '__reduce__', '__reduce_ex__', '__repr__', '__reversed__', '__rmul__', '__setattr__', '__setitem__', '__sizeof__', '__str__', '__subclasshook__', 'append', 'clear', 'copy', 'count', 'extend', 'index', 'insert', 'pop', 'remove', 'reverse', 'sort']\n"
     ]
    }
   ],
   "source": [
    "num = [1,2,3]\n",
    "print(dir(num)) # list contains __iter__ method"
   ]
  },
  {
   "cell_type": "code",
   "execution_count": 2,
   "metadata": {},
   "outputs": [
    {
     "ename": "TypeError",
     "evalue": "'list' object is not an iterator",
     "output_type": "error",
     "traceback": [
      "\u001b[1;31m---------------------------------------------------------------------------\u001b[0m",
      "\u001b[1;31mTypeError\u001b[0m                                 Traceback (most recent call last)",
      "\u001b[1;32m<ipython-input-2-07735eeb9141>\u001b[0m in \u001b[0;36m<module>\u001b[1;34m\u001b[0m\n\u001b[1;32m----> 1\u001b[1;33m \u001b[0mnext\u001b[0m\u001b[1;33m(\u001b[0m\u001b[0mnum\u001b[0m\u001b[1;33m)\u001b[0m  \u001b[1;31m# because it is iterable,list not iterator , not conatins next method ,\u001b[0m\u001b[1;33m\u001b[0m\u001b[1;33m\u001b[0m\u001b[0m\n\u001b[0m",
      "\u001b[1;31mTypeError\u001b[0m: 'list' object is not an iterator"
     ]
    }
   ],
   "source": [
    "next(num)  # because it is iterable,list not iterator , not conatins next method , "
   ]
  },
  {
   "cell_type": "code",
   "execution_count": 3,
   "metadata": {},
   "outputs": [
    {
     "name": "stdout",
     "output_type": "stream",
     "text": [
      "['__class__', '__delattr__', '__dir__', '__doc__', '__eq__', '__format__', '__ge__', '__getattribute__', '__gt__', '__hash__', '__init__', '__init_subclass__', '__iter__', '__le__', '__length_hint__', '__lt__', '__ne__', '__new__', '__next__', '__reduce__', '__reduce_ex__', '__repr__', '__setattr__', '__setstate__', '__sizeof__', '__str__', '__subclasshook__']\n"
     ]
    }
   ],
   "source": [
    "nums = [1,2,3]\n",
    "i_nums = iter(nums) #passed iter object , it conatins , __next__ method\n",
    "print(dir(i_nums)) # now i_nums has __next__ method so that we can iterate over  it"
   ]
  },
  {
   "cell_type": "code",
   "execution_count": 4,
   "metadata": {},
   "outputs": [
    {
     "name": "stdout",
     "output_type": "stream",
     "text": [
      "1\n",
      "2\n",
      "3\n"
     ]
    },
    {
     "ename": "StopIteration",
     "evalue": "",
     "output_type": "error",
     "traceback": [
      "\u001b[1;31m---------------------------------------------------------------------------\u001b[0m",
      "\u001b[1;31mStopIteration\u001b[0m                             Traceback (most recent call last)",
      "\u001b[1;32m<ipython-input-4-e362fcc8d942>\u001b[0m in \u001b[0;36m<module>\u001b[1;34m\u001b[0m\n\u001b[0;32m      2\u001b[0m \u001b[0mprint\u001b[0m\u001b[1;33m(\u001b[0m\u001b[0mnext\u001b[0m\u001b[1;33m(\u001b[0m\u001b[0mi_nums\u001b[0m\u001b[1;33m)\u001b[0m\u001b[1;33m)\u001b[0m\u001b[1;33m\u001b[0m\u001b[1;33m\u001b[0m\u001b[0m\n\u001b[0;32m      3\u001b[0m \u001b[0mprint\u001b[0m\u001b[1;33m(\u001b[0m\u001b[0mnext\u001b[0m\u001b[1;33m(\u001b[0m\u001b[0mi_nums\u001b[0m\u001b[1;33m)\u001b[0m\u001b[1;33m)\u001b[0m\u001b[1;33m\u001b[0m\u001b[1;33m\u001b[0m\u001b[0m\n\u001b[1;32m----> 4\u001b[1;33m \u001b[0mprint\u001b[0m\u001b[1;33m(\u001b[0m\u001b[0mnext\u001b[0m\u001b[1;33m(\u001b[0m\u001b[0mi_nums\u001b[0m\u001b[1;33m)\u001b[0m\u001b[1;33m)\u001b[0m \u001b[1;31m# stooped iteration beacuse we have only three items in list\u001b[0m\u001b[1;33m\u001b[0m\u001b[1;33m\u001b[0m\u001b[0m\n\u001b[0m",
      "\u001b[1;31mStopIteration\u001b[0m: "
     ]
    }
   ],
   "source": [
    "print(next(i_nums))\n",
    "print(next(i_nums))\n",
    "print(next(i_nums))\n",
    "print(next(i_nums)) # stooped iteration beacuse we have only three items in list "
   ]
  },
  {
   "cell_type": "code",
   "execution_count": 5,
   "metadata": {},
   "outputs": [
    {
     "name": "stdout",
     "output_type": "stream",
     "text": [
      "1\n",
      "2\n",
      "3\n"
     ]
    }
   ],
   "source": [
    "nums = [1,2,3]\n",
    "i_nums = iter(nums)\n",
    "while True:\n",
    "    try:\n",
    "        num = next(i_nums)\n",
    "        print(num)\n",
    "    except StopIteration: \n",
    "        break"
   ]
  },
  {
   "cell_type": "markdown",
   "metadata": {},
   "source": [
    "#### Ex. 1"
   ]
  },
  {
   "cell_type": "code",
   "execution_count": 6,
   "metadata": {},
   "outputs": [
    {
     "data": {
      "text/plain": [
       "<str_iterator at 0x20be2976048>"
      ]
     },
     "execution_count": 6,
     "metadata": {},
     "output_type": "execute_result"
    }
   ],
   "source": [
    "s= 'hello'\n",
    "s_iter = iter(s)# generate an iterator by passing string(interable) to iter()\n",
    "s_iter"
   ]
  },
  {
   "cell_type": "code",
   "execution_count": 7,
   "metadata": {},
   "outputs": [
    {
     "name": "stdout",
     "output_type": "stream",
     "text": [
      "h\n",
      "e\n",
      "l\n",
      "l\n",
      "o\n"
     ]
    }
   ],
   "source": [
    "print(next(s_iter))\n",
    "print(next(s_iter))\n",
    "print(next(s_iter))\n",
    "print(next(s_iter))\n",
    "print(next(s_iter))"
   ]
  },
  {
   "cell_type": "markdown",
   "metadata": {},
   "source": [
    "####  Creating myrange class using __iter__ and __next__ method"
   ]
  },
  {
   "cell_type": "code",
   "execution_count": 8,
   "metadata": {},
   "outputs": [],
   "source": [
    "class MyRange:\n",
    "\n",
    "    def __init__(self, start, end):\n",
    "        self.value = start\n",
    "        self.end = end\n",
    "        \n",
    "# __iter__ returns the iterator object itself.\n",
    "    def __iter__(self): \n",
    "        return self\n",
    "    \n",
    "# the __next__ method returns the next value from the iterator\n",
    "# If there is no more items to return then it raises a StopIteration exception.\n",
    "    def __next__(self):\n",
    "        if self.value >= self.end:\n",
    "            raise StopIteration\n",
    "        current = self.value\n",
    "        self.value += 1\n",
    "        return current"
   ]
  },
  {
   "cell_type": "code",
   "execution_count": 9,
   "metadata": {},
   "outputs": [
    {
     "data": {
      "text/plain": [
       "<__main__.MyRange at 0x20be2980788>"
      ]
     },
     "execution_count": 9,
     "metadata": {},
     "output_type": "execute_result"
    }
   ],
   "source": [
    "n_list = MyRange(1,10)\n",
    "n_list"
   ]
  },
  {
   "cell_type": "code",
   "execution_count": 10,
   "metadata": {},
   "outputs": [
    {
     "name": "stdout",
     "output_type": "stream",
     "text": [
      "1\n",
      "2\n",
      "3\n"
     ]
    }
   ],
   "source": [
    "print(next(n_list))\n",
    "print(next(n_list))\n",
    "print(next(n_list))"
   ]
  },
  {
   "cell_type": "code",
   "execution_count": 11,
   "metadata": {},
   "outputs": [
    {
     "name": "stdout",
     "output_type": "stream",
     "text": [
      "[4, 5, 6, 7, 8, 9]\n"
     ]
    }
   ],
   "source": [
    "print(list(n_list))"
   ]
  },
  {
   "cell_type": "markdown",
   "metadata": {},
   "source": [
    "## 2. generators\n",
    "\n",
    "* The generator is same as iterator that allows you to write iterators in a much easier syntax where you do not have to write classes with __iter__() and __next__() methods.\n",
    "\n",
    "\n",
    "* contains yield() keyword that allow you to generate sequences of values over time.\n",
    "\n",
    "####  examples 1\n",
    "\n"
   ]
  },
  {
   "cell_type": "code",
   "execution_count": 12,
   "metadata": {},
   "outputs": [],
   "source": [
    "def simple_gen():\n",
    "    for x in range(3):\n",
    "        yield x"
   ]
  },
  {
   "cell_type": "markdown",
   "metadata": {},
   "source": [
    "* The return value of the function will actually be a generator. Inside the for loop when the execution reaches the yield statement, the value of low is returned and the generator state is suspended. During the second next call, the generator resumes from the value at which it stopped earlier and increases this value by one. It continues with the while loop and comes to the yield statement again."
   ]
  },
  {
   "cell_type": "code",
   "execution_count": 13,
   "metadata": {},
   "outputs": [
    {
     "name": "stdout",
     "output_type": "stream",
     "text": [
      "0\n",
      "1\n",
      "2\n"
     ]
    },
    {
     "ename": "StopIteration",
     "evalue": "",
     "output_type": "error",
     "traceback": [
      "\u001b[1;31m---------------------------------------------------------------------------\u001b[0m",
      "\u001b[1;31mStopIteration\u001b[0m                             Traceback (most recent call last)",
      "\u001b[1;32m<ipython-input-13-a14aa3b61e3f>\u001b[0m in \u001b[0;36m<module>\u001b[1;34m\u001b[0m\n\u001b[0;32m      3\u001b[0m \u001b[0mprint\u001b[0m\u001b[1;33m(\u001b[0m\u001b[0mnext\u001b[0m\u001b[1;33m(\u001b[0m\u001b[0mg\u001b[0m\u001b[1;33m)\u001b[0m\u001b[1;33m)\u001b[0m\u001b[1;33m\u001b[0m\u001b[1;33m\u001b[0m\u001b[0m\n\u001b[0;32m      4\u001b[0m \u001b[0mprint\u001b[0m\u001b[1;33m(\u001b[0m\u001b[0mnext\u001b[0m\u001b[1;33m(\u001b[0m\u001b[0mg\u001b[0m\u001b[1;33m)\u001b[0m\u001b[1;33m)\u001b[0m\u001b[1;33m\u001b[0m\u001b[1;33m\u001b[0m\u001b[0m\n\u001b[1;32m----> 5\u001b[1;33m \u001b[0mprint\u001b[0m\u001b[1;33m(\u001b[0m\u001b[0mnext\u001b[0m\u001b[1;33m(\u001b[0m\u001b[0mg\u001b[0m\u001b[1;33m)\u001b[0m\u001b[1;33m)\u001b[0m\u001b[1;33m\u001b[0m\u001b[1;33m\u001b[0m\u001b[0m\n\u001b[0m",
      "\u001b[1;31mStopIteration\u001b[0m: "
     ]
    }
   ],
   "source": [
    "g = simple_gen()\n",
    "print(next(g))\n",
    "print(next(g))\n",
    "print(next(g))\n",
    "print(next(g))"
   ]
  },
  {
   "cell_type": "code",
   "execution_count": 14,
   "metadata": {},
   "outputs": [
    {
     "name": "stdout",
     "output_type": "stream",
     "text": [
      "[0, 1, 2]\n"
     ]
    }
   ],
   "source": [
    "print(list(simple_gen()))"
   ]
  },
  {
   "cell_type": "markdown",
   "metadata": {},
   "source": [
    "#### Ex 2"
   ]
  },
  {
   "cell_type": "code",
   "execution_count": 15,
   "metadata": {},
   "outputs": [
    {
     "name": "stdout",
     "output_type": "stream",
     "text": [
      "[1, 2, 3, 4, 5, 6, 7, 8, 9, 10]\n"
     ]
    }
   ],
   "source": [
    "def series_generator(low, high):\n",
    "    while low <= high:\n",
    "       yield low\n",
    "       low += 1\n",
    "\n",
    "n_list = []\n",
    "for num in series_generator(1,10):\n",
    "    n_list.append(num)\n",
    "\n",
    "print(n_list)"
   ]
  },
  {
   "cell_type": "markdown",
   "metadata": {},
   "source": [
    "#### Ex 3  difference between return the dictonary by normal return and yield keyword"
   ]
  },
  {
   "cell_type": "code",
   "execution_count": 20,
   "metadata": {},
   "outputs": [],
   "source": [
    "# function to check meory utilization\n",
    "def memory_usage_psutil():\n",
    "    # return the memory usage in MB\n",
    "    process = psutil.Process(os.getpid())\n",
    "    mem = process.memory_info() [0] / float(2 ** 20)\n",
    "    return mem"
   ]
  },
  {
   "cell_type": "code",
   "execution_count": 25,
   "metadata": {},
   "outputs": [],
   "source": [
    "import random\n",
    "import time\n",
    "import psutil\n",
    "import os"
   ]
  },
  {
   "cell_type": "code",
   "execution_count": 31,
   "metadata": {},
   "outputs": [],
   "source": [
    "names = ['John', 'Corey', 'Adam', 'Steve', 'Rick', 'Thomas']\n",
    "majors = ['Math', 'Engineering', 'CompSci', 'Arts', 'Business']"
   ]
  },
  {
   "cell_type": "code",
   "execution_count": 32,
   "metadata": {},
   "outputs": [
    {
     "name": "stdout",
     "output_type": "stream",
     "text": [
      "Memory (Before):67.8359375\n"
     ]
    },
    {
     "name": "stderr",
     "output_type": "stream",
     "text": [
      "C:\\Users\\Uttam\\anaconda3\\lib\\site-packages\\ipykernel_launcher.py:12: DeprecationWarning: time.clock has been deprecated in Python 3.3 and will be removed from Python 3.8: use time.perf_counter or time.process_time instead\n",
      "  if sys.path[0] == '':\n"
     ]
    },
    {
     "name": "stdout",
     "output_type": "stream",
     "text": [
      "Memory (After):351.88671875\n",
      "Total time taken : 3.6662125999999944\n"
     ]
    },
    {
     "name": "stderr",
     "output_type": "stream",
     "text": [
      "C:\\Users\\Uttam\\anaconda3\\lib\\site-packages\\ipykernel_launcher.py:14: DeprecationWarning: time.clock has been deprecated in Python 3.3 and will be removed from Python 3.8: use time.perf_counter or time.process_time instead\n",
      "  \n"
     ]
    }
   ],
   "source": [
    "print(f'Memory (Before):{memory_usage_psutil()}')\n",
    "def people_list(num_people):\n",
    "    result = []\n",
    "    for i in range(num_people):\n",
    "        person = {\n",
    "                    'id': i,\n",
    "                    'name': random.choice(names),\n",
    "                    'major': random.choice(majors)\n",
    "                }\n",
    "        result.append(person)\n",
    "    return result\n",
    "t1 = time.clock()\n",
    "people = people_list(1000000)\n",
    "t2 = time.clock()\n",
    "\n",
    "print(f'Memory (After):{memory_usage_psutil()}')\n",
    "print(f'Total time taken : {t2-t1}')"
   ]
  },
  {
   "cell_type": "code",
   "execution_count": 35,
   "metadata": {},
   "outputs": [
    {
     "name": "stdout",
     "output_type": "stream",
     "text": [
      "Memory (Before):66.796875\n",
      "Memory (After):66.796875\n",
      "Total time taken : 0.0005880999999874348\n"
     ]
    },
    {
     "name": "stderr",
     "output_type": "stream",
     "text": [
      "C:\\Users\\Uttam\\anaconda3\\lib\\site-packages\\ipykernel_launcher.py:11: DeprecationWarning: time.clock has been deprecated in Python 3.3 and will be removed from Python 3.8: use time.perf_counter or time.process_time instead\n",
      "  # This is added back by InteractiveShellApp.init_path()\n",
      "C:\\Users\\Uttam\\anaconda3\\lib\\site-packages\\ipykernel_launcher.py:13: DeprecationWarning: time.clock has been deprecated in Python 3.3 and will be removed from Python 3.8: use time.perf_counter or time.process_time instead\n",
      "  del sys.path[0]\n"
     ]
    }
   ],
   "source": [
    "print(f'Memory (Before):{memory_usage_psutil()}')\n",
    "def people_generator(num_people):\n",
    "    for i in xrange(num_people):\n",
    "        person = {\n",
    "                    'id': i,\n",
    "                    'name': random.choice(names),\n",
    "                    'major': random.choice(majors)\n",
    "                }\n",
    "        yield person\n",
    "        \n",
    "t1 = time.clock()\n",
    "people = people_generator(1000000)\n",
    "t2 = time.clock()\n",
    "\n",
    "print(f'Memory (After):{memory_usage_psutil()}')\n",
    "print(f'Total time taken : {t2-t1}')"
   ]
  },
  {
   "cell_type": "markdown",
   "metadata": {},
   "source": [
    "## 3. List comprehension\n",
    "\n",
    "* List comprehensions are used for creating new lists from other iterables."
   ]
  },
  {
   "cell_type": "code",
   "execution_count": 38,
   "metadata": {},
   "outputs": [
    {
     "name": "stdout",
     "output_type": "stream",
     "text": [
      "[0, 1, 4, 9, 16, 25, 36, 49, 64, 81]\n"
     ]
    }
   ],
   "source": [
    "S = [x**2 for x in range(10)]\n",
    "print(S)"
   ]
  },
  {
   "cell_type": "code",
   "execution_count": 39,
   "metadata": {},
   "outputs": [
    {
     "name": "stdout",
     "output_type": "stream",
     "text": [
      "[0, 4, 16, 36, 64]\n"
     ]
    }
   ],
   "source": [
    "M = [x for x in S if x % 2 == 0]\n",
    "print(M)"
   ]
  },
  {
   "cell_type": "code",
   "execution_count": 56,
   "metadata": {},
   "outputs": [],
   "source": [
    "list_of_list = [[1,2,3],[4,5,6],[7,8]]"
   ]
  },
  {
   "cell_type": "code",
   "execution_count": 57,
   "metadata": {},
   "outputs": [
    {
     "data": {
      "text/plain": [
       "[1, 2, 3, 4, 5, 6, 7, 8]"
      ]
     },
     "execution_count": 57,
     "metadata": {},
     "output_type": "execute_result"
    }
   ],
   "source": [
    "# without list comp\n",
    "def num(list_of_list):\n",
    "    a = []\n",
    "    for i in list_of_list:\n",
    "        for j in i:\n",
    "            a.append(j)\n",
    "    return a\n",
    "list(num(list_of_list))"
   ]
  },
  {
   "cell_type": "code",
   "execution_count": 58,
   "metadata": {},
   "outputs": [
    {
     "data": {
      "text/plain": [
       "[1, 2, 3, 4, 5, 6, 7, 8]"
      ]
     },
     "execution_count": 58,
     "metadata": {},
     "output_type": "execute_result"
    }
   ],
   "source": [
    "# Flatten `list_of_list`\n",
    "[y for x in list_of_list for y in x]"
   ]
  },
  {
   "cell_type": "markdown",
   "metadata": {},
   "source": [
    "* take the list elements ( y ) of the nested lists ( x ) in list_of_list and return a list of those list elements y that are comprised in x."
   ]
  },
  {
   "cell_type": "code",
   "execution_count": 62,
   "metadata": {},
   "outputs": [
    {
     "name": "stdout",
     "output_type": "stream",
     "text": [
      "[0, 10, 20, 30, 40, 50, 60, 70, 80, 90]\n"
     ]
    }
   ],
   "source": [
    "#Using if with List Comprehension\n",
    "num_list = [y for y in range(100) if y % 2 == 0 if y % 5 == 0]\n",
    "print(num_list)"
   ]
  },
  {
   "cell_type": "code",
   "execution_count": 63,
   "metadata": {},
   "outputs": [
    {
     "name": "stdout",
     "output_type": "stream",
     "text": [
      "['Even', 'Odd', 'Even', 'Odd', 'Even', 'Odd', 'Even', 'Odd', 'Even', 'Odd']\n"
     ]
    }
   ],
   "source": [
    "#Nested IF with List Comprehension\n",
    "obj = [\"Even\" if i%2==0 else \"Odd\" for i in range(10)]\n",
    "print(obj)"
   ]
  },
  {
   "cell_type": "code",
   "execution_count": 64,
   "metadata": {},
   "outputs": [
    {
     "name": "stdout",
     "output_type": "stream",
     "text": [
      "['h', 'u', 'm', 'a', 'n']\n"
     ]
    }
   ],
   "source": [
    "#Using Lambda functions inside List\n",
    "letters = list(map(lambda x: x, 'human'))\n",
    "print(letters)"
   ]
  },
  {
   "cell_type": "code",
   "execution_count": 65,
   "metadata": {},
   "outputs": [
    {
     "name": "stdout",
     "output_type": "stream",
     "text": [
      "[[1, 3, 5, 7], [2, 4, 6, 8]]\n"
     ]
    }
   ],
   "source": [
    "# transpose of matrix using list comp\n",
    "matrix = [[1, 2], [3,4], [5,6], [7,8]]\n",
    "transpose = [[row[i] for row in matrix] for i in range(2)]\n",
    "print (transpose)"
   ]
  },
  {
   "cell_type": "markdown",
   "metadata": {},
   "source": [
    "## 4. Zip"
   ]
  },
  {
   "cell_type": "markdown",
   "metadata": {},
   "source": [
    "* The zip() function returns a zip object, which is an iterator of tuples where the first item in each passed iterator is paired together, and then the second item in each passed iterator are paired together etc."
   ]
  },
  {
   "cell_type": "code",
   "execution_count": 84,
   "metadata": {},
   "outputs": [
    {
     "data": {
      "text/plain": [
       "[]"
      ]
     },
     "execution_count": 84,
     "metadata": {},
     "output_type": "execute_result"
    }
   ],
   "source": [
    "number_list = [1, 2, 3]\n",
    "str_list = ['one', 'two', 'three']\n",
    "\n",
    "# No iterables are passed\n",
    "result = zip()\n",
    "list(result)"
   ]
  },
  {
   "cell_type": "code",
   "execution_count": 85,
   "metadata": {},
   "outputs": [
    {
     "data": {
      "text/plain": [
       "[(1, 'one'), (2, 'two'), (3, 'three')]"
      ]
     },
     "execution_count": 85,
     "metadata": {},
     "output_type": "execute_result"
    }
   ],
   "source": [
    "# Two iterables are passed\n",
    "result = zip(number_list, str_list)\n",
    "list(result)"
   ]
  },
  {
   "cell_type": "code",
   "execution_count": 86,
   "metadata": {},
   "outputs": [
    {
     "data": {
      "text/plain": [
       "[(1,), (2,), (3,)]"
      ]
     },
     "execution_count": 86,
     "metadata": {},
     "output_type": "execute_result"
    }
   ],
   "source": [
    "a= [1,2,3]\n",
    "zipped = zip(a)\n",
    "list(zipped)"
   ]
  },
  {
   "cell_type": "markdown",
   "metadata": {},
   "source": [
    "###### Different number of iterable elements"
   ]
  },
  {
   "cell_type": "markdown",
   "metadata": {},
   "source": [
    "* If the passed iterators have different lengths, the iterator with the least items decides the length of the new iterator."
   ]
  },
  {
   "cell_type": "code",
   "execution_count": 87,
   "metadata": {},
   "outputs": [
    {
     "data": {
      "text/plain": [
       "[(1, 'ONE'), (2, 'TWO'), (3, 'THREE')]"
      ]
     },
     "execution_count": 87,
     "metadata": {},
     "output_type": "execute_result"
    }
   ],
   "source": [
    "numbersList = [1, 2, 3]\n",
    "str_list = ['one', 'two']\n",
    "numbers_tuple = ('ONE', 'TWO', 'THREE', 'FOUR')\n",
    "\n",
    "result = zip(numbersList, numbers_tuple)\n",
    "list(result)"
   ]
  },
  {
   "cell_type": "code",
   "execution_count": 88,
   "metadata": {},
   "outputs": [
    {
     "data": {
      "text/plain": [
       "[(1, 'one', 'ONE'), (2, 'two', 'TWO')]"
      ]
     },
     "execution_count": 88,
     "metadata": {},
     "output_type": "execute_result"
    }
   ],
   "source": [
    "## Notice, the size of numbersList and numbers_tuple is different\n",
    "result = zip(numbersList, str_list, numbers_tuple)\n",
    "list(result)"
   ]
  },
  {
   "cell_type": "markdown",
   "metadata": {},
   "source": [
    "* The * operator can be used in conjunction with zip() to unzip the list.\n",
    " \n",
    "##### zip(*zippedList)"
   ]
  },
  {
   "cell_type": "code",
   "execution_count": 89,
   "metadata": {},
   "outputs": [
    {
     "name": "stdout",
     "output_type": "stream",
     "text": [
      "[('x', 3), ('y', 4), ('z', 5)]\n"
     ]
    }
   ],
   "source": [
    "coordinate = ['x', 'y', 'z']\n",
    "value = [3, 4, 5]\n",
    "\n",
    "result = zip(coordinate, value)\n",
    "x = list(result)\n",
    "print(x)"
   ]
  },
  {
   "cell_type": "code",
   "execution_count": 90,
   "metadata": {},
   "outputs": [
    {
     "name": "stdout",
     "output_type": "stream",
     "text": [
      "c = ('x', 'y', 'z')\n",
      "v = (3, 4, 5)\n"
     ]
    }
   ],
   "source": [
    "c, v =  zip(*x)\n",
    "print('c =', c)\n",
    "print('v =', v)"
   ]
  },
  {
   "cell_type": "markdown",
   "metadata": {},
   "source": [
    "## 5. enumerate()\n",
    "\n",
    "##### enumerate() method takes two parameters:\n",
    "\n",
    "* iterable - a sequence, an iterator, or objects that supports iteration\n",
    "* start (optional) - enumerate() starts counting from this number. If start is omitted, 0 is taken as start."
   ]
  },
  {
   "cell_type": "code",
   "execution_count": 95,
   "metadata": {},
   "outputs": [
    {
     "name": "stdout",
     "output_type": "stream",
     "text": [
      "<class 'enumerate'>\n",
      "[(0, 'bread'), (1, 'milk'), (2, 'butter')]\n"
     ]
    }
   ],
   "source": [
    "g = ['bread', 'milk', 'butter']\n",
    "eg = enumerate(g)\n",
    "\n",
    "print(type(eg))\n",
    "\n",
    "# converting to list\n",
    "print(list(eg))"
   ]
  },
  {
   "cell_type": "code",
   "execution_count": 96,
   "metadata": {},
   "outputs": [
    {
     "name": "stdout",
     "output_type": "stream",
     "text": [
      "[(10, 'bread'), (11, 'milk'), (12, 'butter')]\n"
     ]
    }
   ],
   "source": [
    "# changing the default counter\n",
    "eg = enumerate(g, 10)\n",
    "print(list(eg))"
   ]
  },
  {
   "cell_type": "code",
   "execution_count": 97,
   "metadata": {},
   "outputs": [
    {
     "name": "stdout",
     "output_type": "stream",
     "text": [
      "(0, 'a')\n",
      "(1, 'b')\n",
      "(2, 'c')\n",
      "(3, 'd')\n",
      "(4, 'e')\n"
     ]
    }
   ],
   "source": [
    "word = 'abcde'\n",
    "for i in enumerate(word):\n",
    "    print(i)"
   ]
  },
  {
   "cell_type": "code",
   "execution_count": 98,
   "metadata": {},
   "outputs": [
    {
     "name": "stdout",
     "output_type": "stream",
     "text": [
      "word number 0 and value : a\n",
      "word number 1 and value : b\n",
      "word number 2 and value : c\n",
      "word number 3 and value : d\n",
      "word number 4 and value : e\n"
     ]
    }
   ],
   "source": [
    "for i, v in enumerate(word):\n",
    "    print(f'word number {i} and value : {v}')"
   ]
  },
  {
   "cell_type": "code",
   "execution_count": null,
   "metadata": {},
   "outputs": [],
   "source": []
  },
  {
   "cell_type": "markdown",
   "metadata": {},
   "source": [
    "## 6. Map() function"
   ]
  },
  {
   "cell_type": "markdown",
   "metadata": {},
   "source": [
    "The map() function applies a given to function to each item of an iterable and returns a list of the results.\n",
    "The returned value from map() (map object) can then be passed to list or set.\n",
    "\n",
    "##### map(fun, iter)"
   ]
  },
  {
   "cell_type": "code",
   "execution_count": 102,
   "metadata": {},
   "outputs": [
    {
     "data": {
      "text/plain": [
       "<map at 0x20be4925648>"
      ]
     },
     "execution_count": 102,
     "metadata": {},
     "output_type": "execute_result"
    }
   ],
   "source": [
    "#ex 1\n",
    "def square(num):\n",
    "    return num**2\n",
    "my_nums = [1,2,3,4,5]\n",
    "map(square,my_nums)"
   ]
  },
  {
   "cell_type": "code",
   "execution_count": 103,
   "metadata": {},
   "outputs": [
    {
     "data": {
      "text/plain": [
       "[1, 4, 9, 16, 25]"
      ]
     },
     "execution_count": 103,
     "metadata": {},
     "output_type": "execute_result"
    }
   ],
   "source": [
    "list(map(square,my_nums))"
   ]
  },
  {
   "cell_type": "markdown",
   "metadata": {},
   "source": [
    "##### EX: 2"
   ]
  },
  {
   "cell_type": "code",
   "execution_count": 105,
   "metadata": {},
   "outputs": [
    {
     "name": "stdout",
     "output_type": "stream",
     "text": [
      "<map object at 0x0000020BE534DB88>\n"
     ]
    },
    {
     "data": {
      "text/plain": [
       "{1, 4, 9, 16}"
      ]
     },
     "execution_count": 105,
     "metadata": {},
     "output_type": "execute_result"
    }
   ],
   "source": [
    "num = (1, 2, 3, 4)\n",
    "result = map(lambda x: x*x, num)\n",
    "print(result)\n",
    "\n",
    "# converting map object to set\n",
    "set(result)"
   ]
  },
  {
   "cell_type": "markdown",
   "metadata": {},
   "source": [
    "#### Ex : 3"
   ]
  },
  {
   "cell_type": "code",
   "execution_count": 107,
   "metadata": {},
   "outputs": [
    {
     "name": "stdout",
     "output_type": "stream",
     "text": [
      "[9, 11, 13]\n"
     ]
    }
   ],
   "source": [
    "num1 = [4, 5, 6]\n",
    "num2 = [5, 6, 7]\n",
    "\n",
    "result = map(lambda n1, n2: n1+n2, num1, num2)# map(lambda func ,iterator)\n",
    "print(list(result))"
   ]
  },
  {
   "cell_type": "markdown",
   "metadata": {},
   "source": [
    "#### Ex : 4"
   ]
  },
  {
   "cell_type": "code",
   "execution_count": 110,
   "metadata": {},
   "outputs": [
    {
     "data": {
      "text/plain": [
       "['s', 'a', 't']"
      ]
     },
     "execution_count": 110,
     "metadata": {},
     "output_type": "execute_result"
    }
   ],
   "source": [
    "list('sat')"
   ]
  },
  {
   "cell_type": "code",
   "execution_count": 111,
   "metadata": {},
   "outputs": [
    {
     "name": "stdout",
     "output_type": "stream",
     "text": [
      "[['s', 'a', 't'], ['b', 'a', 't'], ['c', 'a', 't'], ['m', 'a', 't']]\n"
     ]
    }
   ],
   "source": [
    "# List of strings \n",
    "l = ['sat', 'bat', 'cat', 'mat'] \n",
    "  \n",
    "# map() can listify the list of strings individually \n",
    "test = list(map(list, l)) \n",
    "print(test) "
   ]
  },
  {
   "cell_type": "markdown",
   "metadata": {},
   "source": [
    "## 7.  Filter() Method\n",
    "\n",
    "* The filter() method filters the given sequence with the help of a function that tests each element in the sequence to be true or not.\n",
    "\n",
    "##### Map takes all objects in a list and allows you to apply a function to it whereas Filter takes all objects in a list and runs that through a function to create a new list with all objects that return True in that function.\n",
    "\n",
    "\n",
    "##### EX 1:"
   ]
  },
  {
   "cell_type": "code",
   "execution_count": 112,
   "metadata": {},
   "outputs": [
    {
     "data": {
      "text/plain": [
       "[0, 2, 4, 6, 8]"
      ]
     },
     "execution_count": 112,
     "metadata": {},
     "output_type": "execute_result"
    }
   ],
   "source": [
    "def chk_even(num):\n",
    "    return num%2==0\n",
    "num = [0,1,2,3,4,5,6,7,8,9]\n",
    "list(filter(chk_even, num))"
   ]
  },
  {
   "cell_type": "code",
   "execution_count": 113,
   "metadata": {},
   "outputs": [
    {
     "name": "stdout",
     "output_type": "stream",
     "text": [
      "[1, 3, 5, 13]\n"
     ]
    }
   ],
   "source": [
    "# a list contains both even and odd numbers.  \n",
    "seq = [0, 1, 2, 3, 5, 8, 13] \n",
    "  \n",
    "# result contains odd numbers of the list \n",
    "result = filter(lambda x: x % 2 != 0, seq) \n",
    "print(list(result)) "
   ]
  },
  {
   "cell_type": "code",
   "execution_count": 114,
   "metadata": {},
   "outputs": [
    {
     "data": {
      "text/plain": [
       "['a', 'e', 'i', 'o']"
      ]
     },
     "execution_count": 114,
     "metadata": {},
     "output_type": "execute_result"
    }
   ],
   "source": [
    "# list of letters\n",
    "letters = ['a', 'b', 'd', 'e', 'i', 'j', 'o']\n",
    "\n",
    "# function that filters vowels\n",
    "def filterVowels(letter):\n",
    "    vowels = ['a', 'e', 'i', 'o', 'u']\n",
    "\n",
    "    if(letter in vowels):\n",
    "        return True\n",
    "    else:\n",
    "        return False\n",
    "\n",
    "list(filter(filterVowels, letters))"
   ]
  },
  {
   "cell_type": "markdown",
   "metadata": {},
   "source": [
    "#### Filter without filter function "
   ]
  },
  {
   "cell_type": "code",
   "execution_count": 116,
   "metadata": {},
   "outputs": [
    {
     "name": "stdout",
     "output_type": "stream",
     "text": [
      "The filtered elements are:\n",
      "1\n",
      "a\n",
      "True\n",
      "0\n"
     ]
    }
   ],
   "source": [
    "# random list\n",
    "randomList = [1, 'a', 0, False, True, '0'] \n",
    "\n",
    "filteredList = filter(None, randomList) # no filter function ,  get the elements which are true \n",
    "\n",
    "print('The filtered elements are:')\n",
    "for element in filteredList:\n",
    "    print(element)"
   ]
  },
  {
   "cell_type": "code",
   "execution_count": null,
   "metadata": {},
   "outputs": [],
   "source": []
  },
  {
   "cell_type": "markdown",
   "metadata": {},
   "source": [
    "## 8. Reduce() method\n",
    "\n",
    "reduce() is to take an existing function, apply it cumulatively to all the items in an iterable, and generate a single final value"
   ]
  },
  {
   "cell_type": "code",
   "execution_count": 120,
   "metadata": {},
   "outputs": [
    {
     "data": {
      "text/plain": [
       "113"
      ]
     },
     "execution_count": 120,
     "metadata": {},
     "output_type": "execute_result"
    }
   ],
   "source": [
    " # initializing list \n",
    "from functools import reduce\n",
    "lst = [ 47,11, 42,13 ] \n",
    "reduce(lambda x, y: x+y , lst)"
   ]
  },
  {
   "cell_type": "markdown",
   "metadata": {},
   "source": [
    "![img.png](data:image/png;base64,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)"
   ]
  },
  {
   "cell_type": "code",
   "execution_count": 121,
   "metadata": {},
   "outputs": [
    {
     "data": {
      "text/plain": [
       "120"
      ]
     },
     "execution_count": 121,
     "metadata": {},
     "output_type": "execute_result"
    }
   ],
   "source": [
    "lst = [1,2,3,4,5]\n",
    "def num_mul(a,b):\n",
    "    return a*b\n",
    "reduce(num_mul, lst)"
   ]
  },
  {
   "cell_type": "code",
   "execution_count": null,
   "metadata": {},
   "outputs": [],
   "source": []
  }
 ],
 "metadata": {
  "kernelspec": {
   "display_name": "Python 3",
   "language": "python",
   "name": "python3"
  },
  "language_info": {
   "codemirror_mode": {
    "name": "ipython",
    "version": 3
   },
   "file_extension": ".py",
   "mimetype": "text/x-python",
   "name": "python",
   "nbconvert_exporter": "python",
   "pygments_lexer": "ipython3",
   "version": "3.7.6"
  }
 },
 "nbformat": 4,
 "nbformat_minor": 4
}
