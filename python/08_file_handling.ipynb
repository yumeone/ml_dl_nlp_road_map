{
 "cells": [
  {
   "cell_type": "code",
   "execution_count": null,
   "metadata": {},
   "outputs": [],
   "source": []
  },
  {
   "cell_type": "code",
   "execution_count": 1,
   "metadata": {},
   "outputs": [
    {
     "name": "stdout",
     "output_type": "stream",
     "text": [
      "C:\\Users\\Uttam\\Desktop\\Ds\\Python_learning\n"
     ]
    }
   ],
   "source": [
    "import os\n",
    "print(os.getcwd())"
   ]
  },
  {
   "cell_type": "code",
   "execution_count": 2,
   "metadata": {},
   "outputs": [
    {
     "name": "stdout",
     "output_type": "stream",
     "text": [
      "File not found or path is incorrect\n",
      "exit\n"
     ]
    }
   ],
   "source": [
    "try:\n",
    "    my_file_handle=open(\"C:\\\\Users\\\\Uttam\\\\Desktop\\\\Ds\\\\Python_learning\\\\test1.txt\")\n",
    "except IOError:\n",
    "    print(\"File not found or path is incorrect\")\n",
    "finally:\n",
    "    print(\"exit\")"
   ]
  },
  {
   "cell_type": "markdown",
   "metadata": {},
   "source": [
    "#### r\n",
    "\n",
    "* Opens a file for reading only. The file pointer is placed at the beginning of the file. This is the default mode.\n",
    "\n",
    "\n",
    "#### w\n",
    "\n",
    "* Opens a file for writing only. Overwrites the file if the file exists. If the file does not exist, creates a new file for writing.\n",
    "\n",
    "\t\n",
    "#### w+\n",
    "\n",
    "* Opens a file for both writing and reading. Overwrites the existing file if the file exists. If the file does not exist, creates a new file for reading and writing.\n",
    "\n",
    "#### r+\n",
    "\n",
    "* Opens a file for both reading and writing. The file pointer placed at the beginning of the file.\n",
    "\n",
    "#### a\n",
    "\n",
    "* Opens a file for appending. The file pointer is at the end of the file if the file exists. That is, the file is in the append mode. If the file does not exist, it creates a new file for writing.\n",
    "\n",
    "#### a+\n",
    "\n",
    "* Opens a file for both appending and reading. The file pointer is at the end of the file if the file exists. The file opens in the append mode. If the file does not exist, it creates a new file for reading and writing.\n",
    "\n",
    "![img.png](https://i.stack.imgur.com/ExWNT.png)"
   ]
  },
  {
   "cell_type": "code",
   "execution_count": 6,
   "metadata": {},
   "outputs": [
    {
     "name": "stdout",
     "output_type": "stream",
     "text": [
      "This is 1st line.\n",
      "This is 2nd line.\n",
      "This is 3rd line.\n",
      "This is 4th line.\n",
      "This is 5th line.\n"
     ]
    }
   ],
   "source": [
    "f =open(\"C:\\\\Users\\\\Uttam\\\\Desktop\\\\Ds\\\\Python_learning\\\\test2.txt\",'r')\n",
    "print(f.read())"
   ]
  },
  {
   "cell_type": "markdown",
   "metadata": {},
   "source": [
    "\n",
    "##### * read([n])\tReads and returns n bytes or less (if there aren't enough characters to read) from the file as a string. If n not specified, it reads the entire file as a string and returns it.\n",
    "\n",
    "##### * readline()\tReads and returns the characters until the end of the line is reached as a string.\n",
    "\n",
    "##### * readlines()\tReads and returns all the lines as a list of strings."
   ]
  },
  {
   "cell_type": "code",
   "execution_count": 7,
   "metadata": {},
   "outputs": [
    {
     "name": "stdout",
     "output_type": "stream",
     "text": [
      "This is 1s\n"
     ]
    }
   ],
   "source": [
    "f =open(\"C:\\\\Users\\\\Uttam\\\\Desktop\\\\Ds\\\\Python_learning\\\\test2.txt\",'r')\n",
    "print(f.read(10)) # will give first 3 character\n",
    "f.close()"
   ]
  },
  {
   "cell_type": "code",
   "execution_count": 8,
   "metadata": {},
   "outputs": [
    {
     "name": "stdout",
     "output_type": "stream",
     "text": [
      "This is 1st line.\n",
      "\n",
      "This is 2n\n"
     ]
    }
   ],
   "source": [
    "f =open(\"C:\\\\Users\\\\Uttam\\\\Desktop\\\\Ds\\\\Python_learning\\\\test2.txt\",'r')\n",
    "#Use print to print the line.\n",
    "print(f.readline())\n",
    "#outputs first two characters of next line\n",
    "print(f.readline(10)) # pointer was on after first line"
   ]
  },
  {
   "cell_type": "code",
   "execution_count": 9,
   "metadata": {},
   "outputs": [
    {
     "name": "stdout",
     "output_type": "stream",
     "text": [
      "This is 1st line.\n",
      "\n",
      "['This is 2nd line.\\n', 'This is 3rd line.\\n', 'This is 4th line.\\n', 'This is 5th line.']\n"
     ]
    }
   ],
   "source": [
    "f =open(\"C:\\\\Users\\\\Uttam\\\\Desktop\\\\Ds\\\\Python_learning\\\\test2.txt\",'r')\n",
    "#Use print to print the line.\n",
    "print(f.readline())\n",
    "#outputs first two characters of next line\n",
    "print(f.readlines())"
   ]
  },
  {
   "cell_type": "markdown",
   "metadata": {},
   "source": [
    "##### * close() method with file handle to close the file. When you use this method, you clear all buffer and close the fil"
   ]
  },
  {
   "cell_type": "code",
   "execution_count": 10,
   "metadata": {},
   "outputs": [
    {
     "name": "stdout",
     "output_type": "stream",
     "text": [
      "This is 1st line.\n",
      "\n",
      "This is 2nd line.\n",
      "\n",
      "This is 3rd line.\n",
      "\n",
      "This is 4th line.\n",
      "\n",
      "This is 5th line.\n"
     ]
    }
   ],
   "source": [
    "my_file=open(\"C:\\\\Users\\\\Uttam\\\\Desktop\\\\Ds\\\\Python_learning\\\\test2.txt\",\"r\")\n",
    "#Use print to print the line else will remain in buffer and replaced by next statement\n",
    "for line in my_file:\n",
    "    print(line)\n",
    "my_file.close()"
   ]
  },
  {
   "cell_type": "markdown",
   "metadata": {},
   "source": [
    "##### * readlines() method maintains a list of each line in the file which can be iterated using a for loop"
   ]
  },
  {
   "cell_type": "code",
   "execution_count": 11,
   "metadata": {},
   "outputs": [
    {
     "data": {
      "text/plain": [
       "['This is 1st line.\\n',\n",
       " 'This is 2nd line.\\n',\n",
       " 'This is 3rd line.\\n',\n",
       " 'This is 4th line.\\n',\n",
       " 'This is 5th line.']"
      ]
     },
     "execution_count": 11,
     "metadata": {},
     "output_type": "execute_result"
    }
   ],
   "source": [
    "my_file=open(\"C:\\\\Users\\\\Uttam\\\\Desktop\\\\Ds\\\\Python_learning\\\\test2.txt\",\"r\")\n",
    "my_file.readlines()"
   ]
  },
  {
   "cell_type": "markdown",
   "metadata": {},
   "source": [
    "### Writing to a file\n",
    "\n",
    "* write(string) (for text) or write(byte_string) (for binary)\n",
    "\n",
    "* writelines(list)"
   ]
  },
  {
   "cell_type": "code",
   "execution_count": 12,
   "metadata": {},
   "outputs": [],
   "source": [
    "new_file=open(\"newfile.txt\",mode=\"w\",encoding=\"utf-8\")\n",
    "new_file.write(\"Writing to a  1st new file\\n\")\n",
    "new_file.write(\"Writing to a 2nd new file\\n\")\n",
    "new_file.write(\"Writing to a 3 rd new file\\n\")\n",
    "new_file.close()"
   ]
  },
  {
   "cell_type": "code",
   "execution_count": 13,
   "metadata": {},
   "outputs": [
    {
     "name": "stdout",
     "output_type": "stream",
     "text": [
      "Writing to a  1st new file\n",
      "Writing to a 2nd new file\n",
      "Writing to a 3 rd new file\n",
      "\n"
     ]
    }
   ],
   "source": [
    "f=open('newfile.txt','r')\n",
    "print(f.read())\n",
    "f.close()"
   ]
  },
  {
   "cell_type": "markdown",
   "metadata": {},
   "source": [
    "### append mode"
   ]
  },
  {
   "cell_type": "code",
   "execution_count": 14,
   "metadata": {},
   "outputs": [],
   "source": [
    "fruits=[\"Orange\\n\",\"Banana\\n\",\"Apple\\n\"]\n",
    "new_file=open(\"newfile.txt\",mode=\"a+\",encoding=\"utf-8\")\n",
    "new_file.writelines(fruits)\n",
    "for line in new_file:\n",
    "    print(line)\n",
    "new_file.close()"
   ]
  },
  {
   "cell_type": "markdown",
   "metadata": {},
   "source": [
    "##### reading from a file does not print anything because the file cursor is at the end of the file. To set the cursor at the beginning, you can use the seek() method of file object"
   ]
  },
  {
   "cell_type": "code",
   "execution_count": 15,
   "metadata": {},
   "outputs": [
    {
     "name": "stdout",
     "output_type": "stream",
     "text": [
      "Tell the byte at which the file cursor is: 129\n",
      "Writing to a  1st new file\n",
      "\n",
      "Writing to a 2nd new file\n",
      "\n",
      "Writing to a 3 rd new file\n",
      "\n",
      "Orange\n",
      "\n",
      "Banana\n",
      "\n",
      "Apple\n",
      "\n",
      "Audi\n",
      "\n",
      "Bentley\n",
      "\n",
      "Toyota\n",
      "\n"
     ]
    }
   ],
   "source": [
    "cars=[\"Audi\\n\",\"Bentley\\n\",\"Toyota\\n\"]\n",
    "new_file=open(\"newfile.txt\",mode=\"a+\",encoding=\"utf-8\")\n",
    "for car in cars:\n",
    "    new_file.write(car)\n",
    "print(\"Tell the byte at which the file cursor is:\",new_file.tell())\n",
    "new_file.seek(0)\n",
    "for line in new_file:\n",
    "    print(line)"
   ]
  },
  {
   "cell_type": "markdown",
   "metadata": {},
   "source": [
    "##### The tell() method of a file object tells at which byte the file cursor is located. \n",
    "\n",
    "##### In seek(offset,reference_point), the \n",
    "\n",
    "* reference points are 0 (the beginning of the file and is the default), \n",
    "\n",
    "* 1 (the current position of file)\n",
    "\n",
    "* and 2 (the end of the file)\n",
    "\n",
    "* ex f.seek(0,0) : begining of the file"
   ]
  },
  {
   "cell_type": "code",
   "execution_count": 16,
   "metadata": {},
   "outputs": [
    {
     "name": "stdout",
     "output_type": "stream",
     "text": [
      "ing to a  1st new file\n",
      "\n"
     ]
    }
   ],
   "source": [
    "new_file.seek(4,0)\n",
    "print(new_file.readline())\n",
    "new_file.close()"
   ]
  },
  {
   "cell_type": "markdown",
   "metadata": {},
   "source": [
    "### using with() function"
   ]
  },
  {
   "cell_type": "code",
   "execution_count": 17,
   "metadata": {},
   "outputs": [],
   "source": [
    "# Python code to illustrate with() alongwith write() \n",
    "with open(\"file.txt\", \"w\") as f:  \n",
    "    f.write(\"Hello World!!!\") "
   ]
  },
  {
   "cell_type": "code",
   "execution_count": 18,
   "metadata": {},
   "outputs": [
    {
     "name": "stdout",
     "output_type": "stream",
     "text": [
      "Hello World!!!\n"
     ]
    }
   ],
   "source": [
    "with open(\"file.txt\", \"r\") as f:\n",
    "    print(f.read())"
   ]
  },
  {
   "cell_type": "markdown",
   "metadata": {},
   "source": [
    "### Split using file handling"
   ]
  },
  {
   "cell_type": "code",
   "execution_count": 19,
   "metadata": {},
   "outputs": [
    {
     "name": "stdout",
     "output_type": "stream",
     "text": [
      "Hello World!!!\n",
      "['Hello', 'World!!!']\n"
     ]
    }
   ],
   "source": [
    "# Python code to illustrate split() function \n",
    "with open(\"file.txt\", \"r\") as file: \n",
    "    data = file.readlines() \n",
    "    for line in data: \n",
    "        print(line)\n",
    "        word = line.split() \n",
    "        print(word) "
   ]
  },
  {
   "cell_type": "markdown",
   "metadata": {},
   "source": [
    "### Copying the file."
   ]
  },
  {
   "cell_type": "code",
   "execution_count": 21,
   "metadata": {},
   "outputs": [],
   "source": [
    "#Copying Files:\n",
    "with open(\"file.txt\", \"r\") as rf:\n",
    "    with open(\"file_copy.txt\", \"w\") as wf:\n",
    "        for line in rf:\n",
    "            wf.write(line)"
   ]
  },
  {
   "cell_type": "code",
   "execution_count": 24,
   "metadata": {},
   "outputs": [
    {
     "name": "stdout",
     "output_type": "stream",
     "text": [
      "Hello World!!!\n"
     ]
    }
   ],
   "source": [
    "f = open(\"file_copy.txt\", \"r\")\n",
    "print(f.read())\n",
    "f.close()"
   ]
  },
  {
   "cell_type": "markdown",
   "metadata": {},
   "source": [
    "#### copying the images\n",
    "\n",
    "* we have open or write the file in binary mode"
   ]
  },
  {
   "cell_type": "code",
   "execution_count": 6,
   "metadata": {},
   "outputs": [],
   "source": [
    "#Copying the image starts, without chunks:\n",
    "with open(\"python.png\", \"rb\") as rf:\n",
    "    with open(\"python_copy.png\", \"wb\") as wf:\n",
    "        for line in rf:\n",
    "            wf.write(line)"
   ]
  },
  {
   "cell_type": "code",
   "execution_count": 7,
   "metadata": {},
   "outputs": [
    {
     "name": "stdout",
     "output_type": "stream",
     "text": [
      "b'\\x89PNG\\r\\n\\x1a\\n\\x00\\x00\\x00\\rIHDR\\x00\\x00\\x01\\x0b\\x00\\x00\\x00\\xbd\\x08\\x03\\x00\\x00\\x00\\x93o\\xa8\\xbc\\x00\\x00\\x00\\xa8PLTE\\xff\\xff\\xff\\xfe\\xd1B5q\\xa3,m\\xa1\\xfe\\xcf2\\xfe\\xd0;\\x95\\xb0\\xc4\\x7f\\xa0\\xbb2o\\xa2\\xfc\\xff\\xff\\xfd\\xd1C\\xfe\\xcf8\\xfe\\xea\\xb5\\xfe\\xcf1\\xff\\xfe\\xfa\\xfd\\xd07\\x1eg\\x9d\\xff\\xd8l\\xfe\\xf5\\xda\\xb0\\xc2\\xd0y\\x9b\\xb8\\xfe\\xf1\\xc7M\\x7f\\xab\\xf5\\xf9\\xf7\\x19e\\x9c\\xfd\\xe3\\x92j\\x92\\xb5d\\x8d\\xb2\\xd4\\xdf\\xe8\\xfc\\xe5\\x9b\\xfe\\xe4\\x97\\xfe\\xde\\x84\\xfd\\xf1\\xcd\\xde\\xe6\\xec\\xfe\\xfa\\xefW\\x86\\xad\\x89\\xa7\\xc1\\xa4\\xbd\\xce\\xcb\\xd8\\xe1\\xe6\\xec\\xed>y\\xa3\\x9c\\xb3\\xc8\\x91\\xae\\xc8\\xc5\\xd2\\xde\\x82\\xa5\\xbcW\\x86\\xaa6p\\x9e\\xba\\xcd\\xda\\xfd\\xe0\\x8b\\xfb\\xe8\\xa6\\xfd\\xf7\\xe0\\xff\\xdby\\xcf\\xdb\\xe7\\xfc\\xd4O\\xfd\\xd8e\\xfc\\xea\\xb0\\xf4\\x88\\xbd\\xdd\\x00\\x00\\x04XIDATx\\x9c\\xed\\xdb\\x0bs\\xa2:\\x18\\x06`n\\xa9 \"x\\xab\\xd6j-x[\\xf5\\xac\\xb7]\\xf5\\xff\\xff\\xb3\\x93(\\xddJ\\x08*\\xb3\\xac\\x99\\t\\xef3m\\x87i\\xa73\\xc9\\xdb\\xe4#\\tT\\xd3\\x00\\x00\\x00\\x00\\x00\\x00\\x00\\x00\\x00\\x00\\x00\\x00\\x00\\x00\\x00\\x00\\x00\\x00\\x00\\x00\\x00\\x00\\x00\\x00\\x00\\x00\\x00\\x00\\x00\\x00\\x00\\x00\\x00\\x00b\\x0e#\\xbb\\x11\\xb2u\\x07\\x9be\\xa5\\xff>f\\xfa\\xed\\xc9t6\\x97\\xdd\"I\\xba\\xad\\xf7u\\x10\\x98\\xa6m\\xd8\\x8ci\\x9aA`\\x8f_B\\xd9\\xedz\\xbe\\xee\\x84\\xa5\\xc0\\xa3\\x91\\xf4\\xc6\\x03\\xd9m{\\xb2\\x99m\\xa6\\x82\\xb8\\xa4a\\x98\\xbd\\x89\\xec\\xd6=\\xd5\\x8c\\x8d\\t[42\\x98\\xa0_\\x97\\xdd\\xc0\\'\\xfaa\\x1bk\\xf3u\\xb142\\xc2x\\x91\\xdd\\xc0\\xe7Y\\xf5h\\x7f\\xff\\xa3\\x17\\xdd\\x9f\\xc20l\\xa3<7\\x94V`\\xd8\\xeb\\xf3\\x8ab .\\x1b\\xc1Bv\\x13\\x9f\\x86e1>_\\xcd\\xc5\\x15\\xd4\\xacHn\\xe1\\xf3\\xb4L\\xc3\\xfeq\\xbe\\n\\xc5\\xe3\\xa2\\\\Y\\x18\\xc1\\x94]\\xb5\\x91E\\xc0jBe\\xb6\\xe9g\\xac2\\xca\\x96\\x85A\\xd7\\xdc\\x19Q\\x94/\\x8b\\x1bJ\\x95\\x85}\\xcdH-\\xb9J\\x94\\xc5\\xe6\\x95\\xb3\\xb6K\\x9bE||\\xe38\\xdd\\xd8&(q\\x16\\x9c\\x99 \\x8b\\xfa\\x85\\xec\\xa6\\xfd\\x1b\\xf3\\xd6b\\xf1\\x92\\xb0\\xbc|].\\xf9{+\\xcd\\xc2\\xf1\\xfc\\xb3\\xea[\\xa4\\xdc\\xf9\\xdf\\xea\\';\\xc4\\xca\"\\xa8\\x9d^\\xf5Lw\\xad\\x9dbaTz\\xe2\\xedy\\xf6=\\xd5\\xd3\\xbfx[\\xa5\\xc2\\xe8\\xdf[Q\\x08\\xe6\\x88\\xfe\\x1d\\xc6Nv\\xfb\\x0b\\xf4\\x12\\xe4\\x19\\x15\\xa9,t\\xab)\\xbb\\x07\\x85\\x19\\xe4\\x1b\\x15\\xe9,\\xc8/ef\\x89\\xf8\\xf4\\xeav\\x16\\xdau\\x16\\xba\\xaf\\xca\\xc0\\x08{9\\xa30\\xcc\\t\\x97\\x05y\\x93\\xdd\\x89\\x82L\\xb2\\xb6\\xa3\\xb7\\xb2\\xa8\\'\\xb38(\\xb2\\xe8z\\xcd;E\\x8c\\xa0\\xa5E\\x89,to/\\xbb\\x17\\x85\\x083\\x1e\\x83\\xdc\\x1a\\x17\\xa1\\xb6Of\\xe1\\xd6dw\\xa3\\x10\\xfcf\\xe3\\x81(\\xfa\\x9aV\\xb3\\x92Y|\\xc8\\xeeF!\\x16\\xb9\\xb3\\x08\\xe6\\x9a\\xd3HDA\\xef\\xaa\\xb2\\xbbQ\\x88\\xbc\\xa5\\xd34\\x7fkZ\\xd3\\xad&\\xb3h\\xc8\\xeeF!2\\xce\\xba\\xc5\\xd8\\x83\\xf6P\\xa3\\xc3\\x82p\\xe3\\xa2\\xa1\\xc4j\\xab/.\\x9df\\xc0\\xe9\\xf5\\xe8\\x87\\xd9^\\xb1\\xdf\\x19\\xba\\xba\\x92Y\\xbc\\x0b\\xc6\\x85i\\x8e\\xa7\\x9b\\xd9\\xd9\\xefA,\\xa4\\xce\\xcfQ\\x1dgk\\xe9e\\xc9\\xc2\\x0e\\xda7\\x1e\\x1eG\\xb5\\x03?*\\xd4\\xc9\"5G\\xe8R\\x8a\\x8a\\x9a\\xbb\\xe1p\\xf8\\x11{\\xa3\\xb6\\xd4\\xe8\\xe8\\xa7\\x06\\x85:Y\\xf0\\xf5\\xc2\\xa6Q\\xd4\\x9d\\xe8\\xe3`Y.E\\x08q}\\x9f}\\xb0+\\xfa)HB\\x99,\\xf8\\xfb\\x88MWRN\\x87\\x88\\xfe\\xfa\\xd9\\x14\\xc9\\x82__\\x04\\xa1\\xe6\\xd4\\xbc\\xfb\\xddOf\\xa1\\xc6Zk\\x9a\\xcc\\x82\\xbdy\\xb1\\xf7sF\\xa1\\x93\\x91\\xecn\\x14b\\x96<\\xe0c\\xef\\xdc\\x8c\\xc4E\\xe1\\x06\\xf7$\\xbb\\x1b\\x85\\xe0\\xf6\\xa9\\xc1J\\xab\\xe7\\x1e\\x16\\xba\\xf7)\\xbb\\x1b\\xc5xM\\x96\\x8b\\x81\\xd6\\xcc[-\\xe8\\x1cQ\\xe4,\\'Y<i\\x16\\x9d\\xdcY\\xb8j\\x94\\x0b\\xfe\\x00\\x83\\xdeFj\\xf9\\xee\\xa7\\xba:S\\xe4\\xfcj\\xeb\\xb7\\x1e\\xcb\\xa2z\\xbf\\xfb\\xd7\\xc8Qv\\x17\\n\\xb3\\n\\xfer\\\\\\xb8\\xaa<\\x12\\xd0\\x92\\xdb3\\x9a\\xc5)\\xbd\\xf7\\xba\\xc9\\x1b\\xca\\xee@\\x81\\xe6k\\xf3/\\xb2\\xf0\\xb6\\xb2\\xdb_\\xa8\\xd0\\xf8\\xb3\\xc8\\xc8\\x9b\\x05Qd\\x99\\xf5\\xad[1\\xe3\\xd7/h\\xed<q\\xf5\\xa2J\\xbc/\\x16\\xe5\\xfb\\x16{\\x0b\\xc5e_\\xf4\\xc3G$\\xbb\\xed\\xc5\\x9bO+\\xed\\xb3y\\xaav\\x92QS`\\xbf\\xdf\\xd3OE\\xd6X\\x99\\xf8qA\\xe2\\xdaX\\xc6\\x7fG<\\xf9\\xdc\\x81\\xff\\xa8\\x13\\xfb\\x8c5K\\x13J\\x8d\\xcbB\\'\\xd6\\x15V6\\xd48\\xadxD*\\x8b\\xd4\\xbdC\\x95\\xed\\xc7}w\\xd7\\xe0\\xc8B\\xaf\\xba.q\\t\\xb2`\\xaca\\xa45\\x8f\\xae2\\xa7\\x9b\\x8f\\xc8\\xc8\\xe22\\x1a\\xa2*\\xc6\\xc5\\x9fC\\x8a-)W\\x16\\xc2)\\x12g\\xf1F\\xca4G\\xf6\\xe23\\xbe\\xcbh\\xa8\\x1fJ5G4\\xfe\\xed\\x8a\\xaf\\xda\\xb9\\x8b\\xea{\\xf63K\\xb5\\xad\\xe9\\r{]\\x1c\\x86{8\\x12:CtU\\xde`|\\xc8g\\xc6#\\xe4\\x0b_\\x8d\\x17\\x18\\x1f\\x15\\x1d\\xad\\x8c4\\x88uT\\xf0\\xc4\\xe2\\xb6N\\xc3O\\xc7A|\\xaf\\xd1)\\xcd\\x1e\\xf5Jt\\x1a\\x1d\\xe2\\x83,\\xf6\"\\x06\\xdd\\x9e\\x1e~\\xed\\xca5=\\xae8Z\\xfd\\xb3S\\xab\\x9dN\\xa7\\xdd\\xa9\\xd6iFu\\xf6-\\x00\\x00\\x00\\x00\\x00\\x00\\x00\\x00\\x00\\x00\\x00\\x00\\x00\\x00\\x00\\x00\\x00\\x00\\x00\\x00\\x00\\x00\\x00\\x00\\x00\\x00\\x00\\x99\\xfe\\x07m\\x8fSl0a\\xb9\\xe2\\x00\\x00\\x00\\x00IEND\\xaeB`\\x82'\n"
     ]
    }
   ],
   "source": [
    "f = open(\"python_copy.png\", \"rb\")\n",
    "print(f.read())\n",
    "f.close()"
   ]
  },
  {
   "cell_type": "code",
   "execution_count": 9,
   "metadata": {},
   "outputs": [],
   "source": [
    "#Copying the image with chunks:\n",
    "with open(\"python.png\", \"rb\") as rf:\n",
    "    with open(\"test_copy.jpg\", \"wb\") as wf:\n",
    "        chunk_size = 40\n",
    "        rf_chunk = rf.read(chunk_size)\n",
    "        while len(rf_chunk) > 0:\n",
    "            wf.write(rf_chunk)\n",
    "            rf_chunk = rf.read(chunk_size)"
   ]
  },
  {
   "cell_type": "code",
   "execution_count": null,
   "metadata": {},
   "outputs": [],
   "source": []
  }
 ],
 "metadata": {
  "kernelspec": {
   "display_name": "Python 3",
   "language": "python",
   "name": "python3"
  },
  "language_info": {
   "codemirror_mode": {
    "name": "ipython",
    "version": 3
   },
   "file_extension": ".py",
   "mimetype": "text/x-python",
   "name": "python",
   "nbconvert_exporter": "python",
   "pygments_lexer": "ipython3",
   "version": "3.7.6"
  }
 },
 "nbformat": 4,
 "nbformat_minor": 4
}
