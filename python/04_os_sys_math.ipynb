{
 "cells": [
  {
   "cell_type": "code",
   "execution_count": null,
   "metadata": {},
   "outputs": [],
   "source": [
    "\n"
   ]
  },
  {
   "cell_type": "markdown",
   "metadata": {},
   "source": [
    "## 1. OS\n",
    "\n",
    " he main purpose of the OS module is to interact with your operating system. The primary is to create folders, remove folders, move folders, and sometimes change the working directory."
   ]
  },
  {
   "cell_type": "code",
   "execution_count": 44,
   "metadata": {},
   "outputs": [],
   "source": [
    "import os"
   ]
  },
  {
   "cell_type": "code",
   "execution_count": 45,
   "metadata": {},
   "outputs": [
    {
     "name": "stdout",
     "output_type": "stream",
     "text": [
      " Volume in drive C is Acer\n",
      " Volume Serial Number is 1023-C329\n",
      "\n",
      " Directory of C:\\Users\\Uttam\\Desktop\\Ds\\Python_learning\n",
      "\n",
      "27-08-2020  04:30    <DIR>          .\n",
      "27-08-2020  04:30    <DIR>          ..\n",
      "27-08-2020  04:16    <DIR>          .ipynb_checkpoints\n",
      "25-08-2020  05:16            57,890 01_basic_data_types.ipynb\n",
      "26-08-2020  04:04            32,562 02_collection_itertools_lambda_random.ipynb\n",
      "26-08-2020  19:48            24,162 03_error_handling.ipynb\n",
      "27-08-2020  04:30            10,614 04_os_sys_math.ipynb\n",
      "26-08-2020  16:15    <DIR>          logger\n",
      "25-08-2020  17:16            35,602 svm.ipynb\n",
      "               5 File(s)        160,830 bytes\n",
      "               4 Dir(s)  81,974,173,696 bytes free\n"
     ]
    }
   ],
   "source": [
    "ls"
   ]
  },
  {
   "cell_type": "code",
   "execution_count": 46,
   "metadata": {},
   "outputs": [
    {
     "name": "stdout",
     "output_type": "stream",
     "text": [
      "C:\\Users\\Uttam\\Desktop\\Ds\\Python_learning\n"
     ]
    }
   ],
   "source": [
    "print(os.getcwd())"
   ]
  },
  {
   "cell_type": "code",
   "execution_count": 47,
   "metadata": {},
   "outputs": [
    {
     "name": "stdout",
     "output_type": "stream",
     "text": [
      "['.ipynb_checkpoints', '01_basic_data_types.ipynb', '02_collection_itertools_lambda_random.ipynb', '03_error_handling.ipynb', '04_os_sys_math.ipynb', 'logger', 'svm.ipynb']\n"
     ]
    }
   ],
   "source": [
    "print(os.listdir())"
   ]
  },
  {
   "cell_type": "code",
   "execution_count": 48,
   "metadata": {},
   "outputs": [
    {
     "name": "stdout",
     "output_type": "stream",
     "text": [
      "['.ipynb_checkpoints', '01_basic_data_types.ipynb', '02_collection_itertools_lambda_random.ipynb', '03_error_handling.ipynb', '04_os_sys_math.ipynb', 'logger', 'svm.ipynb', 'temp']\n",
      "C:\\Users\\Uttam\\Desktop\\Ds\\Python_learning\n"
     ]
    }
   ],
   "source": [
    "os.mkdir(\"C:\\\\Users\\\\Uttam\\\\Desktop\\\\Ds\\\\Python_learning\\\\temp\")\n",
    "print(os.listdir())\n",
    "print(os.getcwd())"
   ]
  },
  {
   "cell_type": "code",
   "execution_count": 49,
   "metadata": {},
   "outputs": [
    {
     "name": "stdout",
     "output_type": "stream",
     "text": [
      "C:\\Users\\Uttam\\Desktop\\Ds\\Python_learning\\temp\n"
     ]
    }
   ],
   "source": [
    "# changing directory \n",
    "os.chdir('C:\\\\Users\\\\Uttam\\\\Desktop\\\\Ds\\\\Python_learning\\\\temp')\n",
    "print(os.getcwd())"
   ]
  },
  {
   "cell_type": "markdown",
   "metadata": {},
   "source": [
    "In order to set the current directory to the parent directory use \"..\" as the argument in the chdir() function."
   ]
  },
  {
   "cell_type": "code",
   "execution_count": 50,
   "metadata": {},
   "outputs": [
    {
     "name": "stdout",
     "output_type": "stream",
     "text": [
      "C:\\Users\\Uttam\\Desktop\\Ds\\Python_learning\\temp\n",
      "C:\\Users\\Uttam\\Desktop\\Ds\\Python_learning\n"
     ]
    }
   ],
   "source": [
    "os.chdir('C:\\\\Users\\\\Uttam\\\\Desktop\\\\Ds\\\\Python_learning\\\\temp')\n",
    "print(os.getcwd())\n",
    "os.chdir(\"..\") # give take one step up\n",
    "print(os.getcwd())"
   ]
  },
  {
   "cell_type": "code",
   "execution_count": 51,
   "metadata": {},
   "outputs": [
    {
     "name": "stdout",
     "output_type": "stream",
     "text": [
      "['.ipynb_checkpoints', '01_basic_data_types.ipynb', '02_collection_itertools_lambda_random.ipynb', '03_error_handling.ipynb', '04_os_sys_math.ipynb', 'logger', 'svm.ipynb']\n"
     ]
    }
   ],
   "source": [
    "os.rmdir('C:\\\\Users\\\\Uttam\\\\Desktop\\\\Ds\\\\Python_learning\\\\temp')\n",
    "print(os.listdir())  # now twmp directory has removed"
   ]
  },
  {
   "cell_type": "markdown",
   "metadata": {},
   "source": [
    "##### import os\n",
    "\n",
    "For importing the module in program\n",
    "\n",
    "##### os.system()\n",
    "\n",
    "Executing a shell command\n",
    "\n",
    "##### os.getcwd()\n",
    "\n",
    "Returns the current working directory.\n",
    "\n",
    "##### os.listdir(path)\n",
    "\n",
    "Return a list of the entries in the directory given by path.\n",
    "\n",
    "##### os.makedirs(path)\n",
    "\n",
    "Recursive directory creation function.\n",
    "\n",
    "##### os.mkdir(path)\n",
    "\n",
    "Create a directory named path with numeric mode mode.\n",
    "\n",
    "##### os.remove(path)\n",
    "\n",
    "Remove (delete) the file path.\n",
    "\n",
    "##### os.removedirs(path)\n",
    "\n",
    "Remove directories recursively.\n",
    "\n",
    "##### os.rmdir(path)\n",
    "\n",
    "Remove (delete) the directory path.\n",
    "\n",
    "##### os.rename(src, dst)\n",
    "\n",
    "Rename the file or directory src to dst."
   ]
  },
  {
   "cell_type": "code",
   "execution_count": 52,
   "metadata": {},
   "outputs": [
    {
     "name": "stdout",
     "output_type": "stream",
     "text": [
      "C:\\Users\\Uttam\\Desktop\\Ds\\Python_learning\n",
      "['.ipynb_checkpoints', '01_basic_data_types.ipynb', '02_collection_itertools_lambda_random.ipynb', '03_error_handling.ipynb', '04_os_sys_math.ipynb', 'logger', 'svm.ipynb']\n",
      "temp1 has been created\n",
      "['.ipynb_checkpoints', '01_basic_data_types.ipynb', '02_collection_itertools_lambda_random.ipynb', '03_error_handling.ipynb', '04_os_sys_math.ipynb', 'logger', 'svm.ipynb', 'temp2']\n"
     ]
    }
   ],
   "source": [
    "print(os.getcwd())\n",
    "print(os.listdir())\n",
    "os.mkdir('C:\\\\Users\\\\Uttam\\\\Desktop\\\\Ds\\\\Python_learning\\\\temp1')\n",
    "print('temp1 has been created')\n",
    "os.rename('temp1', 'temp2')\n",
    "print(os.listdir())"
   ]
  },
  {
   "cell_type": "code",
   "execution_count": 53,
   "metadata": {},
   "outputs": [],
   "source": [
    "os.removedirs('C:\\\\Users\\\\Uttam\\\\Desktop\\\\Ds\\\\Python_learning\\\\temp2')"
   ]
  },
  {
   "cell_type": "code",
   "execution_count": 57,
   "metadata": {},
   "outputs": [
    {
     "name": "stdout",
     "output_type": "stream",
     "text": [
      "<module 'ntpath' from 'C:\\\\Users\\\\Uttam\\\\anaconda3\\\\lib\\\\ntpath.py'>\n"
     ]
    }
   ],
   "source": [
    "print(os.path)"
   ]
  },
  {
   "cell_type": "markdown",
   "metadata": {},
   "source": [
    "## 2. sys"
   ]
  },
  {
   "cell_type": "markdown",
   "metadata": {},
   "source": [
    "The sys module provides functions and variables used to manipulate different parts of the Python runtime environment."
   ]
  },
  {
   "cell_type": "markdown",
   "metadata": {},
   "source": [
    "This is an environment variable that is a search path for all Python modules."
   ]
  },
  {
   "cell_type": "code",
   "execution_count": 58,
   "metadata": {},
   "outputs": [
    {
     "name": "stdout",
     "output_type": "stream",
     "text": [
      "['C:\\\\Users\\\\Uttam\\\\Desktop\\\\Ds\\\\Python_learning', 'C:\\\\Users\\\\Uttam\\\\anaconda3\\\\python37.zip', 'C:\\\\Users\\\\Uttam\\\\anaconda3\\\\DLLs', 'C:\\\\Users\\\\Uttam\\\\anaconda3\\\\lib', 'C:\\\\Users\\\\Uttam\\\\anaconda3', '', 'C:\\\\Users\\\\Uttam\\\\AppData\\\\Roaming\\\\Python\\\\Python37\\\\site-packages', 'C:\\\\Users\\\\Uttam\\\\anaconda3\\\\lib\\\\site-packages', 'C:\\\\Users\\\\Uttam\\\\anaconda3\\\\lib\\\\site-packages\\\\win32', 'C:\\\\Users\\\\Uttam\\\\anaconda3\\\\lib\\\\site-packages\\\\win32\\\\lib', 'C:\\\\Users\\\\Uttam\\\\anaconda3\\\\lib\\\\site-packages\\\\Pythonwin', 'C:\\\\Users\\\\Uttam\\\\anaconda3\\\\lib\\\\site-packages\\\\IPython\\\\extensions', 'C:\\\\Users\\\\Uttam\\\\.ipython']\n"
     ]
    },
    {
     "data": {
      "text/plain": [
       "13"
      ]
     },
     "execution_count": 58,
     "metadata": {},
     "output_type": "execute_result"
    }
   ],
   "source": [
    "print(sys.path)\n",
    "len(sys.path)"
   ]
  },
  {
   "cell_type": "code",
   "execution_count": 59,
   "metadata": {},
   "outputs": [],
   "source": [
    "sys.path.insert(0, '..') # adding the directory above your current directory to the  sys path var"
   ]
  },
  {
   "cell_type": "code",
   "execution_count": 60,
   "metadata": {},
   "outputs": [
    {
     "name": "stdout",
     "output_type": "stream",
     "text": [
      "['..', 'C:\\\\Users\\\\Uttam\\\\Desktop\\\\Ds\\\\Python_learning', 'C:\\\\Users\\\\Uttam\\\\anaconda3\\\\python37.zip', 'C:\\\\Users\\\\Uttam\\\\anaconda3\\\\DLLs', 'C:\\\\Users\\\\Uttam\\\\anaconda3\\\\lib', 'C:\\\\Users\\\\Uttam\\\\anaconda3', '', 'C:\\\\Users\\\\Uttam\\\\AppData\\\\Roaming\\\\Python\\\\Python37\\\\site-packages', 'C:\\\\Users\\\\Uttam\\\\anaconda3\\\\lib\\\\site-packages', 'C:\\\\Users\\\\Uttam\\\\anaconda3\\\\lib\\\\site-packages\\\\win32', 'C:\\\\Users\\\\Uttam\\\\anaconda3\\\\lib\\\\site-packages\\\\win32\\\\lib', 'C:\\\\Users\\\\Uttam\\\\anaconda3\\\\lib\\\\site-packages\\\\Pythonwin', 'C:\\\\Users\\\\Uttam\\\\anaconda3\\\\lib\\\\site-packages\\\\IPython\\\\extensions', 'C:\\\\Users\\\\Uttam\\\\.ipython']\n"
     ]
    },
    {
     "data": {
      "text/plain": [
       "14"
      ]
     },
     "execution_count": 60,
     "metadata": {},
     "output_type": "execute_result"
    }
   ],
   "source": [
    "print(sys.path)\n",
    "len(sys.path)"
   ]
  },
  {
   "cell_type": "code",
   "execution_count": 56,
   "metadata": {},
   "outputs": [
    {
     "name": "stdout",
     "output_type": "stream",
     "text": [
      "3.7.6 (default, Jan  8 2020, 20:23:39) [MSC v.1916 64 bit (AMD64)]\n"
     ]
    }
   ],
   "source": [
    "print(sys.version)"
   ]
  },
  {
   "cell_type": "code",
   "execution_count": null,
   "metadata": {},
   "outputs": [],
   "source": []
  },
  {
   "cell_type": "markdown",
   "metadata": {},
   "source": [
    "##### sys.argv\n",
    "\n",
    "sys.argv returns a list of command line arguments passed to a Python script. The item at index 0 in this list is always the name of the script. The rest of the arguments are stored at the subsequent indices."
   ]
  },
  {
   "cell_type": "code",
   "execution_count": 41,
   "metadata": {},
   "outputs": [
    {
     "name": "stdout",
     "output_type": "stream",
     "text": [
      "C:\\Users\\Uttam\\anaconda3\\lib\\site-packages\\ipykernel_launcher.py\n",
      "-f\n"
     ]
    }
   ],
   "source": [
    "def main(arg):\n",
    "    print(arg)\n",
    "\n",
    "main(sys.argv[0])\n",
    "main(sys.argv[1])"
   ]
  },
  {
   "cell_type": "markdown",
   "metadata": {},
   "source": [
    "With stdout and stdin, we can pass messages and errors through to the command line, or just use it for logging purposes."
   ]
  },
  {
   "cell_type": "code",
   "execution_count": 61,
   "metadata": {},
   "outputs": [
    {
     "name": "stderr",
     "output_type": "stream",
     "text": [
      "This is stderr text\n"
     ]
    },
    {
     "name": "stdout",
     "output_type": "stream",
     "text": [
      "This is stdout text\n"
     ]
    }
   ],
   "source": [
    "sys.stderr.write('This is stderr text\\n')\n",
    "sys.stderr.flush()\n",
    "sys.stdout.write('This is stdout text\\n')"
   ]
  },
  {
   "cell_type": "markdown",
   "metadata": {},
   "source": [
    "# 3. Math"
   ]
  },
  {
   "cell_type": "code",
   "execution_count": 62,
   "metadata": {},
   "outputs": [
    {
     "data": {
      "text/plain": [
       "3.141592653589793"
      ]
     },
     "execution_count": 62,
     "metadata": {},
     "output_type": "execute_result"
    }
   ],
   "source": [
    "import math\n",
    "math.pi"
   ]
  },
  {
   "cell_type": "code",
   "execution_count": 63,
   "metadata": {},
   "outputs": [
    {
     "data": {
      "text/plain": [
       "2.718281828459045"
      ]
     },
     "execution_count": 63,
     "metadata": {},
     "output_type": "execute_result"
    }
   ],
   "source": [
    "math.e"
   ]
  },
  {
   "cell_type": "code",
   "execution_count": 64,
   "metadata": {},
   "outputs": [
    {
     "data": {
      "text/plain": [
       "0.5235987755982988"
      ]
     },
     "execution_count": 64,
     "metadata": {},
     "output_type": "execute_result"
    }
   ],
   "source": [
    "math.radians(30)"
   ]
  },
  {
   "cell_type": "code",
   "execution_count": 65,
   "metadata": {},
   "outputs": [
    {
     "data": {
      "text/plain": [
       "29.999999999999996"
      ]
     },
     "execution_count": 65,
     "metadata": {},
     "output_type": "execute_result"
    }
   ],
   "source": [
    "math.degrees(math.pi/6)"
   ]
  },
  {
   "cell_type": "code",
   "execution_count": 67,
   "metadata": {},
   "outputs": [
    {
     "name": "stdout",
     "output_type": "stream",
     "text": [
      "0.49999999999999994\n",
      "0.8660254037844387\n",
      "0.5773502691896257\n"
     ]
    }
   ],
   "source": [
    "print(math.sin(0.5235987755982988))\n",
    "print(math.cos(0.5235987755982988))\n",
    "print(math.tan(0.5235987755982988))"
   ]
  },
  {
   "cell_type": "code",
   "execution_count": 70,
   "metadata": {},
   "outputs": [
    {
     "data": {
      "text/plain": [
       "2.302585092994046"
      ]
     },
     "execution_count": 70,
     "metadata": {},
     "output_type": "execute_result"
    }
   ],
   "source": [
    "math.log(10)"
   ]
  },
  {
   "cell_type": "code",
   "execution_count": 71,
   "metadata": {},
   "outputs": [
    {
     "data": {
      "text/plain": [
       "22026.465794806718"
      ]
     },
     "execution_count": 71,
     "metadata": {},
     "output_type": "execute_result"
    }
   ],
   "source": [
    "math.exp(10)"
   ]
  },
  {
   "cell_type": "code",
   "execution_count": 72,
   "metadata": {},
   "outputs": [
    {
     "data": {
      "text/plain": [
       "22026.465794806703"
      ]
     },
     "execution_count": 72,
     "metadata": {},
     "output_type": "execute_result"
    }
   ],
   "source": [
    "math.e**10"
   ]
  },
  {
   "cell_type": "code",
   "execution_count": 73,
   "metadata": {},
   "outputs": [
    {
     "data": {
      "text/plain": [
       "16.0"
      ]
     },
     "execution_count": 73,
     "metadata": {},
     "output_type": "execute_result"
    }
   ],
   "source": [
    "math.pow(2,4)"
   ]
  },
  {
   "cell_type": "code",
   "execution_count": 74,
   "metadata": {},
   "outputs": [
    {
     "data": {
      "text/plain": [
       "10.0"
      ]
     },
     "execution_count": 74,
     "metadata": {},
     "output_type": "execute_result"
    }
   ],
   "source": [
    "math.sqrt(100)"
   ]
  },
  {
   "cell_type": "code",
   "execution_count": 75,
   "metadata": {},
   "outputs": [
    {
     "data": {
      "text/plain": [
       "5"
      ]
     },
     "execution_count": 75,
     "metadata": {},
     "output_type": "execute_result"
    }
   ],
   "source": [
    "math.ceil(4.5867)"
   ]
  },
  {
   "cell_type": "code",
   "execution_count": 76,
   "metadata": {},
   "outputs": [
    {
     "data": {
      "text/plain": [
       "4"
      ]
     },
     "execution_count": 76,
     "metadata": {},
     "output_type": "execute_result"
    }
   ],
   "source": [
    "math.floor(4.5687)"
   ]
  },
  {
   "cell_type": "code",
   "execution_count": 77,
   "metadata": {},
   "outputs": [
    {
     "ename": "AttributeError",
     "evalue": "module 'math' has no attribute 'round'",
     "output_type": "error",
     "traceback": [
      "\u001b[1;31m---------------------------------------------------------------------------\u001b[0m",
      "\u001b[1;31mAttributeError\u001b[0m                            Traceback (most recent call last)",
      "\u001b[1;32m<ipython-input-77-dd3140131dba>\u001b[0m in \u001b[0;36m<module>\u001b[1;34m\u001b[0m\n\u001b[1;32m----> 1\u001b[1;33m \u001b[0mmath\u001b[0m\u001b[1;33m.\u001b[0m\u001b[0mround\u001b[0m\u001b[1;33m(\u001b[0m\u001b[1;36m45687\u001b[0m\u001b[1;33m)\u001b[0m\u001b[1;33m\u001b[0m\u001b[1;33m\u001b[0m\u001b[0m\n\u001b[0m",
      "\u001b[1;31mAttributeError\u001b[0m: module 'math' has no attribute 'round'"
     ]
    }
   ],
   "source": []
  },
  {
   "cell_type": "code",
   "execution_count": null,
   "metadata": {},
   "outputs": [],
   "source": []
  }
 ],
 "metadata": {
  "kernelspec": {
   "display_name": "Python 3",
   "language": "python",
   "name": "python3"
  },
  "language_info": {
   "codemirror_mode": {
    "name": "ipython",
    "version": 3
   },
   "file_extension": ".py",
   "mimetype": "text/x-python",
   "name": "python",
   "nbconvert_exporter": "python",
   "pygments_lexer": "ipython3",
   "version": "3.7.6"
  }
 },
 "nbformat": 4,
 "nbformat_minor": 4
}
