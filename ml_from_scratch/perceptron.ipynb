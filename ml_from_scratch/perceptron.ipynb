{
 "cells": [
  {
   "cell_type": "markdown",
   "metadata": {},
   "source": [
    "### Perceptron \n",
    "\n",
    "Perceptron is a single layer neural network and a multi-layer perceptron is called Neural Networks.\n",
    "Perceptron is usually used to classify the data into two parts. Therefore, it is also known as a Linear Binary Classifier."
   ]
  },
  {
   "cell_type": "markdown",
   "metadata": {},
   "source": [
    "![img.png](https://miro.medium.com/max/638/0*Oqd1KudKXY3hekj7.)"
   ]
  },
  {
   "cell_type": "markdown",
   "metadata": {},
   "source": [
    "The perceptron works on these simple steps\n",
    "\n",
    "*  All the inputs x are multiplied with their weights w. Let’s call it k.\n",
    "\n",
    "![img.png](https://miro.medium.com/max/875/1*_Zy1C83cnmYUdETCeQrOgA.png)\n",
    "\n",
    "* Add all the multiplied values and call them Weighted Sum.\n",
    "\n",
    "![img.png](https://miro.medium.com/max/660/1*xFd9VQnUM1H0kiCENsoYxg.gif)\n",
    "\n",
    "* Apply that weighted sum to the correct Activation Function.\n",
    "\n",
    "For Example: Unit Step Activation Function.\n",
    "\n",
    "![img.png](https://miro.medium.com/max/600/1*0iOzeMS3s-3LTU9hYH9ryg.png)\n",
    "\n",
    "\n",
    "##### Weights shows the strength of the particular node.\n",
    "##### A bias value allows you to shift the activation function curve up or down.\n",
    "\n"
   ]
  },
  {
   "cell_type": "markdown",
   "metadata": {},
   "source": [
    "#### Resource : \n",
    "\n",
    "https://sebastianraschka.com/Articles/2015_singlelayer_neurons.html"
   ]
  },
  {
   "cell_type": "markdown",
   "metadata": {},
   "source": [
    "#### Generating random classifiaction Dataset "
   ]
  },
  {
   "cell_type": "code",
   "execution_count": 36,
   "metadata": {},
   "outputs": [],
   "source": [
    "import numpy as np\n",
    "from sklearn.model_selection import train_test_split\n",
    "from sklearn import datasets\n",
    "import matplotlib.pyplot as plt"
   ]
  },
  {
   "cell_type": "code",
   "execution_count": 37,
   "metadata": {},
   "outputs": [],
   "source": [
    "X, y = datasets.make_blobs(n_samples=150,n_features=2,centers=2,cluster_std=1.05,random_state=2)\n",
    "X_train, X_test, y_train, y_test = train_test_split(X, y, test_size=0.2, random_state=123)"
   ]
  },
  {
   "cell_type": "code",
   "execution_count": 38,
   "metadata": {},
   "outputs": [
    {
     "data": {
      "text/plain": [
       "(array([[ -0.53278301,  -1.64847081],\n",
       "        [ -0.55022637, -11.61661524],\n",
       "        [  1.38862276,  -1.4358059 ],\n",
       "        [  1.37033956,  -0.64022071],\n",
       "        [ -0.88060639,  -9.7094674 ]]),\n",
       " array([1, 0, 1, 1, 0]))"
      ]
     },
     "execution_count": 38,
     "metadata": {},
     "output_type": "execute_result"
    }
   ],
   "source": [
    "X[:5], y[:5]"
   ]
  },
  {
   "cell_type": "code",
   "execution_count": 39,
   "metadata": {},
   "outputs": [
    {
     "data": {
      "text/plain": [
       "(array([-0.53278301, -0.55022637,  1.38862276,  1.37033956, -0.88060639]),\n",
       " array([ -1.64847081, -11.61661524,  -1.4358059 ,  -0.64022071,\n",
       "         -9.7094674 ]))"
      ]
     },
     "execution_count": 39,
     "metadata": {},
     "output_type": "execute_result"
    }
   ],
   "source": [
    "X[:,0][:5], X[:,1][:5]"
   ]
  },
  {
   "cell_type": "code",
   "execution_count": 40,
   "metadata": {},
   "outputs": [
    {
     "data": {
      "text/plain": [
       "<matplotlib.collections.PathCollection at 0x1ca4f149588>"
      ]
     },
     "execution_count": 40,
     "metadata": {},
     "output_type": "execute_result"
    },
    {
     "data": {
      "image/png": "[encoded data removed]",
      "text/plain": [
       "<Figure size 432x288 with 1 Axes>"
      ]
     },
     "metadata": {
      "needs_background": "light"
     },
     "output_type": "display_data"
    }
   ],
   "source": [
    "fig = plt.figure()\n",
    "ax = fig.add_subplot(1,1,1)\n",
    "plt.scatter(X_train[:,0], X_train[:,1],marker='o',c=y_train)"
   ]
  },
  {
   "cell_type": "code",
   "execution_count": null,
   "metadata": {},
   "outputs": [],
   "source": []
  },
  {
   "cell_type": "code",
   "execution_count": 41,
   "metadata": {},
   "outputs": [],
   "source": [
    "import numpy as  np"
   ]
  },
  {
   "cell_type": "markdown",
   "metadata": {},
   "source": [
    "1. Initialize the weights to 0 or small random numbers.\n",
    "\n",
    "2. For each training sample x(i):\n",
    "\n",
    "    * Calculate the output value.\n",
    "\n",
    "    * Update the weights."
   ]
  },
  {
   "cell_type": "code",
   "execution_count": 42,
   "metadata": {},
   "outputs": [],
   "source": [
    "class Perceptron:\n",
    "\n",
    "    def __init__(self, learning_rate=0.01, n_iters=1000):\n",
    "        self.lr = learning_rate\n",
    "        self.n_iters = n_iters\n",
    "        self.activation_func = self._unit_step_func\n",
    "        self.weights = None\n",
    "        self.bias = None\n",
    "    def fit(self, X, y):\n",
    "        n_samples, n_features = X.shape\n",
    "\n",
    "        # init parameters weights and bias\n",
    "        self.weights = np.zeros(n_features)\n",
    "        self.bias = 0\n",
    "\n",
    "        y_ = np.array([1 if i > 0 else 0 for i in y])\n",
    "        for _ in range(self.n_iters): # iterating over number of epochs \n",
    "            \n",
    "            for idx, x_i in enumerate(X): # iterating over one sample\n",
    "\n",
    "                linear_output = np.dot(x_i, self.weights) + self.bias #linear = w*x+b\n",
    "                y_predicted = self.activation_func(linear_output) #y_pred = action_func(linear)\n",
    "                \n",
    "                # Perceptron update rule\n",
    "                update = self.lr * (y_[idx] - y_predicted) # upadte = lr*(y_actual-y_pred)\n",
    "                #all weights in the weight vector are being updated simultaneously.\n",
    "                self.weights += update * x_i\n",
    "                self.bias += update\n",
    "\n",
    "    def predict(self, X):\n",
    "        linear_output = np.dot(X, self.weights) + self.bias\n",
    "        y_predicted = self.activation_func(linear_output)\n",
    "        return y_predicted\n",
    "\n",
    "    def _unit_step_func(self, x):\n",
    "        return np.where(x>=0, 1, 0)"
   ]
  },
  {
   "cell_type": "code",
   "execution_count": 43,
   "metadata": {},
   "outputs": [],
   "source": [
    "def accuracy(y_true, y_pred):\n",
    "    accuracy = np.sum(y_true == y_pred) / len(y_true)\n",
    "    return accuracy"
   ]
  },
  {
   "cell_type": "code",
   "execution_count": 44,
   "metadata": {},
   "outputs": [
    {
     "data": {
      "text/plain": [
       "<__main__.Perceptron at 0x1ca4f1e04c8>"
      ]
     },
     "execution_count": 44,
     "metadata": {},
     "output_type": "execute_result"
    }
   ],
   "source": [
    "p = Perceptron(learning_rate=0.01, n_iters=1000)\n",
    "p"
   ]
  },
  {
   "cell_type": "code",
   "execution_count": 45,
   "metadata": {},
   "outputs": [
    {
     "name": "stdout",
     "output_type": "stream",
     "text": [
      "Perceptron classification accuracy 1.0\n"
     ]
    }
   ],
   "source": [
    "p.fit(X_train, y_train)\n",
    "predictions = p.predict(X_test)\n",
    "print(\"Perceptron classification accuracy\", accuracy(y_test, predictions))"
   ]
  },
  {
   "cell_type": "code",
   "execution_count": 46,
   "metadata": {},
   "outputs": [
    {
     "data": {
      "image/png": "[encoded data removed]",
      "text/plain": [
       "<Figure size 432x288 with 1 Axes>"
      ]
     },
     "metadata": {
      "needs_background": "light"
     },
     "output_type": "display_data"
    }
   ],
   "source": [
    "fig = plt.figure()\n",
    "ax = fig.add_subplot(1,1,1)\n",
    "plt.scatter(X_train[:,0], X_train[:,1],marker='o',c=y_train)\n",
    "\n",
    "\n",
    "x0_1 = np.amin(X_train[:,0])\n",
    "x0_2 = np.amax(X_train[:,0])\n",
    "\n",
    "x1_1 = (-p.weights[0] * x0_1 - p.bias) / p.weights[1]\n",
    "x1_2 = (-p.weights[0] * x0_2 - p.bias) / p.weights[1]\n",
    "\n",
    "ax.plot([x0_1, x0_2],[x1_1, x1_2], 'k')\n",
    "\n",
    "ymin = np.amin(X_train[:,1])\n",
    "ymax = np.amax(X_train[:,1])\n",
    "ax.set_ylim([ymin-3,ymax+3])\n",
    "\n",
    "plt.show()"
   ]
  },
  {
   "cell_type": "code",
   "execution_count": null,
   "metadata": {},
   "outputs": [],
   "source": []
  },
  {
   "cell_type": "code",
   "execution_count": null,
   "metadata": {},
   "outputs": [],
   "source": []
  },
  {
   "cell_type": "code",
   "execution_count": null,
   "metadata": {},
   "outputs": [],
   "source": []
  }
 ],
 "metadata": {
  "kernelspec": {
   "display_name": "Python 3",
   "language": "python",
   "name": "python3"
  },
  "language_info": {
   "codemirror_mode": {
    "name": "ipython",
    "version": 3
   },
   "file_extension": ".py",
   "mimetype": "text/x-python",
   "name": "python",
   "nbconvert_exporter": "python",
   "pygments_lexer": "ipython3",
   "version": "3.7.6"
  }
 },
 "nbformat": 4,
 "nbformat_minor": 4
}
