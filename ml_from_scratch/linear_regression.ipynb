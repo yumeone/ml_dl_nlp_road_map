{
 "cells": [
  {
   "cell_type": "markdown",
   "metadata": {},
   "source": [
    "y = wx+c"
   ]
  },
  {
   "cell_type": "markdown",
   "metadata": {},
   "source": [
    "#### Generating random regression datasets"
   ]
  },
  {
   "cell_type": "code",
   "execution_count": 1,
   "metadata": {},
   "outputs": [],
   "source": [
    "import numpy as np\n",
    "from sklearn.model_selection import train_test_split\n",
    "from sklearn import datasets\n",
    "import matplotlib.pyplot as plt"
   ]
  },
  {
   "cell_type": "code",
   "execution_count": 2,
   "metadata": {},
   "outputs": [],
   "source": [
    "x,y = datasets.make_regression(n_samples=100,n_features=1,noise=20,random_state=4)\n",
    "x_train, x_test,y_train, y_test = train_test_split(x,y,test_size= 0.2,random_state= 1234)"
   ]
  },
  {
   "cell_type": "code",
   "execution_count": 3,
   "metadata": {},
   "outputs": [
    {
     "data": {
      "text/plain": [
       "((20, 1), (20, 1))"
      ]
     },
     "execution_count": 3,
     "metadata": {},
     "output_type": "execute_result"
    }
   ],
   "source": [
    "x_test.shape,x_test.shape"
   ]
  },
  {
   "cell_type": "code",
   "execution_count": 4,
   "metadata": {},
   "outputs": [
    {
     "data": {
      "text/plain": [
       "<matplotlib.collections.PathCollection at 0x254107a1088>"
      ]
     },
     "execution_count": 4,
     "metadata": {},
     "output_type": "execute_result"
    },
    {
     "data": {
      "image/png": "[encoded data removed]",
      "text/plain": [
       "<Figure size 432x288 with 1 Axes>"
      ]
     },
     "metadata": {
      "needs_background": "light"
     },
     "output_type": "display_data"
    }
   ],
   "source": [
    "plt.scatter(x,y)"
   ]
  },
  {
   "cell_type": "code",
   "execution_count": 5,
   "metadata": {},
   "outputs": [
    {
     "data": {
      "text/plain": [
       "(array([[-1.3474603 ],\n",
       "        [ 0.3523434 ],\n",
       "        [ 0.9546986 ],\n",
       "        [ 0.03592805],\n",
       "        [ 0.04800625]]),\n",
       " array([-126.24922409,   50.92876904,   63.15463302,    6.05472009,\n",
       "          -5.72954025]))"
      ]
     },
     "execution_count": 5,
     "metadata": {},
     "output_type": "execute_result"
    }
   ],
   "source": [
    "x[:5],y[:5]"
   ]
  },
  {
   "cell_type": "markdown",
   "metadata": {},
   "source": [
    "![img.png](https://miro.medium.com/max/736/1*-Ftl7RWs1RsiaT9IJjrB-A.png)"
   ]
  },
  {
   "cell_type": "markdown",
   "metadata": {},
   "source": [
    "![img.png](https://miro.medium.com/max/736/1*5LYDPHYkkNAP92oJNdwInw.png)"
   ]
  },
  {
   "cell_type": "markdown",
   "metadata": {},
   "source": [
    "![img.png](https://miro.medium.com/max/324/1*wFX6avrS18DqdD_TNNvjTg.png)"
   ]
  },
  {
   "cell_type": "code",
   "execution_count": 17,
   "metadata": {},
   "outputs": [],
   "source": [
    "class Linear_regression:\n",
    "    \n",
    "    def __init__(self, lr= 1, n_iters= 1000):\n",
    "        self.lr = lr\n",
    "        self.n_iters = n_iters # no. of iterations\n",
    "        self.weights = None\n",
    "        self.bias   = None\n",
    "        \n",
    "    def fit(self, x, y):\n",
    "        #init parameter\n",
    "        n_samples ,n_features = x.shape # defining sample size adn features\n",
    "        self.weights = np.zeros(n_features)\n",
    "        self.bias  = 0\n",
    "        \n",
    "        # gradient descent\n",
    "        for _ in range(self.n_iters):\n",
    "            y_predicted = np.dot(x,self.weights)+self.bias # y = wx+b\n",
    "            \n",
    "            # compute derivatives\n",
    "            dw = (1/n_samples)*np.dot(x.T,(y_predicted-y)) \n",
    "            db = (1/n_samples)*np.sum(y_predicted-y)\n",
    "            self.weights -= self.lr*dw\n",
    "            self.bias = self.lr*db\n",
    "            \n",
    "    def predict(self,x):\n",
    "        y_predicted = np.dot(x,self.weights)+self.bias\n",
    "        return y_predicted"
   ]
  },
  {
   "cell_type": "markdown",
   "metadata": {},
   "source": [
    "Let's say we multiply two matrices A and B. Then  the number of columns of A must be number of rows of B:\n",
    "The size formula is: A(lxm) * B(mxn) = C(lxn)\n",
    "\n",
    "In our example:\n",
    "\n",
    "np.dot(X, self.weights) --> (80,1) * (1,) = (80,) -->for every sample we get one value (the 1 is because we have 1 feature)\n",
    "\n",
    "and in the transposed case:\n",
    "\n",
    "np.dot(X.T, (y_predicted - y)) --> (1, 80) * (80,) = (1,) --> for every feature we get one value"
   ]
  },
  {
   "cell_type": "code",
   "execution_count": 16,
   "metadata": {},
   "outputs": [],
   "source": [
    "Regressor1 = Linear_regression()"
   ]
  },
  {
   "cell_type": "code",
   "execution_count": 8,
   "metadata": {},
   "outputs": [],
   "source": [
    "Regressor1.fit(x_train,y_train)"
   ]
  },
  {
   "cell_type": "code",
   "execution_count": 9,
   "metadata": {},
   "outputs": [],
   "source": [
    "predicted1  = Regressor1.predict(x_test)"
   ]
  },
  {
   "cell_type": "code",
   "execution_count": 10,
   "metadata": {},
   "outputs": [],
   "source": [
    "def mse(y_true, y_pred):\n",
    "    return np.mean((y_true-y_pred)**2)"
   ]
  },
  {
   "cell_type": "code",
   "execution_count": 11,
   "metadata": {},
   "outputs": [
    {
     "data": {
      "text/plain": [
       "15349.743610862479"
      ]
     },
     "execution_count": 11,
     "metadata": {},
     "output_type": "execute_result"
    }
   ],
   "source": [
    "mse_val1 = mse(y_test,predicted1)\n",
    "mse_val1"
   ]
  },
  {
   "cell_type": "markdown",
   "metadata": {},
   "source": [
    "##### customising lr rate"
   ]
  },
  {
   "cell_type": "code",
   "execution_count": 12,
   "metadata": {},
   "outputs": [
    {
     "data": {
      "text/plain": [
       "306.2108600068704"
      ]
     },
     "execution_count": 12,
     "metadata": {},
     "output_type": "execute_result"
    }
   ],
   "source": [
    "Regressor2 = Linear_regression(lr=0.01)# modified lr rate 0.01\n",
    "Regressor2.fit(x_train,y_train)\n",
    "predicted2  = Regressor2.predict(x_test)\n",
    "mse_val2 = mse(y_test,predicted2)\n",
    "mse_val2"
   ]
  },
  {
   "cell_type": "markdown",
   "metadata": {},
   "source": [
    "##### plot for diff-diff lr rate "
   ]
  },
  {
   "cell_type": "code",
   "execution_count": 13,
   "metadata": {},
   "outputs": [
    {
     "data": {
      "text/plain": [
       "[<matplotlib.lines.Line2D at 0x2541085ae88>]"
      ]
     },
     "execution_count": 13,
     "metadata": {},
     "output_type": "execute_result"
    },
    {
     "data": {
      "image/png": "[encoded data removed]",
      "text/plain": [
       "<Figure size 432x288 with 1 Axes>"
      ]
     },
     "metadata": {
      "needs_background": "light"
     },
     "output_type": "display_data"
    }
   ],
   "source": [
    "y_pred_1 = Regressor1.predict(x) # predict at lr 1\n",
    "y_pred_2 = Regressor2.predict(x) # predict at lr  =0.01\n",
    "plt.scatter(x,y)\n",
    "plt.plot(x, y_pred_1, color='black', linewidth=2, label=\"Prediction\")# predict at lr 1\n",
    "plt.plot(x, y_pred_2, color='red', linewidth=2, label=\"Prediction\")# predict at lr =0.01"
   ]
  },
  {
   "cell_type": "code",
   "execution_count": null,
   "metadata": {},
   "outputs": [],
   "source": []
  }
 ],
 "metadata": {
  "kernelspec": {
   "display_name": "Python 3",
   "language": "python",
   "name": "python3"
  },
  "language_info": {
   "codemirror_mode": {
    "name": "ipython",
    "version": 3
   },
   "file_extension": ".py",
   "mimetype": "text/x-python",
   "name": "python",
   "nbconvert_exporter": "python",
   "pygments_lexer": "ipython3",
   "version": "3.7.6"
  }
 },
 "nbformat": 4,
 "nbformat_minor": 4
}
