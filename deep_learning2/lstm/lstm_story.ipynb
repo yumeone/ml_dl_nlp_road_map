{
 "cells": [
  {
   "cell_type": "code",
   "execution_count": 1,
   "metadata": {},
   "outputs": [
    {
     "name": "stdout",
     "output_type": "stream",
     "text": [
      "2.1.0\n"
     ]
    }
   ],
   "source": [
    "import tensorflow\n",
    "print(tensorflow.__version__)"
   ]
  },
  {
   "cell_type": "code",
   "execution_count": 2,
   "metadata": {},
   "outputs": [],
   "source": [
    "import numpy as np\n",
    "from tensorflow.keras.models import Sequential  # to create linear stack of layesr\n",
    "from tensorflow.keras.layers import Dense,Dropout,LSTM\n",
    "from tensorflow.keras.utils import to_categorical"
   ]
  },
  {
   "cell_type": "code",
   "execution_count": 3,
   "metadata": {},
   "outputs": [],
   "source": [
    "# read data and return into lower case\n",
    "data = open('story.txt').read().lower()"
   ]
  },
  {
   "cell_type": "code",
   "execution_count": 4,
   "metadata": {},
   "outputs": [
    {
     "data": {
      "text/plain": [
       "\"her father loved me, oft invited me;\\nstill questioned me the story of my life\\nfrom year to year -- the battles, sieges, fortunes\\nthat i have passed.\\ni ran it through, even from my boyish days\\nto th' very moment that he bade me tell it.\\nwherein i spoke of most disastrous chances,\\nof moving accidents by flood and field;\\nof hairbreadth scapes i' the' imminent deadly breach;\\nof being taken by the insolent foe\\nand sold to slavery; of my redemption thence\\nand portance in my travels' history;\\nwherein of anters vast and deserts idle,\\nrough quarries, rocks, and hills whose heads touch heaven,\\nit was my hint to speak -- such was the process;\\nand of the cannibals that each other eat,\\nthe anthropophagi, and men whose heads\\ndo grow beneath their shoulders. this to hear\\nwould desdemona seriously incline;\\nbut still the house affairs would draw her thence;\\nwhich ever she could with haste dispatch,\\nshe'd come again, and with a greedy ear\\ndevour up my discourse. which i observing,\\ntook once a pliant hour, and found good means\\nto draw from her a prayer of earnest heart\\nthat i would all my pilgrimage dilate,\\nwhereof by parcels she had something heard,\\nbut not intentively. i did consent,\\nand often did beguile her of her tears\\nwhen i did speak of some distressful stroke\\nthat my youth suffered. my story being done,\\nshe gave me for my pains a world of sighs.\\nshe swore, i' faith, 'twas strange, 'twas passing strange;\\n'twas pitiful, 'twas wondrous pitiful.\\nshe wished she had not heard it; yet she wished\\nthat heaven had made her such a man. she thanked me;\\nand bade me, if i had a friend that loved her,\\ni should but teach him how to tell my story,\\nand that would woo her. upon this hint i spake.\\nshe loved me for the dangers i had passed,\\nand i loved her that she did pity them.\\nthis only is the witchcraft i have used.\\nhere comes the lady. let her witness it.\""
      ]
     },
     "execution_count": 4,
     "metadata": {},
     "output_type": "execute_result"
    }
   ],
   "source": [
    "data"
   ]
  },
  {
   "cell_type": "code",
   "execution_count": 5,
   "metadata": {},
   "outputs": [
    {
     "data": {
      "text/plain": [
       "{'\\n',\n",
       " ' ',\n",
       " \"'\",\n",
       " ',',\n",
       " '-',\n",
       " '.',\n",
       " ';',\n",
       " 'a',\n",
       " 'b',\n",
       " 'c',\n",
       " 'd',\n",
       " 'e',\n",
       " 'f',\n",
       " 'g',\n",
       " 'h',\n",
       " 'i',\n",
       " 'k',\n",
       " 'l',\n",
       " 'm',\n",
       " 'n',\n",
       " 'o',\n",
       " 'p',\n",
       " 'q',\n",
       " 'r',\n",
       " 's',\n",
       " 't',\n",
       " 'u',\n",
       " 'v',\n",
       " 'w',\n",
       " 'y'}"
      ]
     },
     "execution_count": 5,
     "metadata": {},
     "output_type": "execute_result"
    }
   ],
   "source": [
    "set(data)"
   ]
  },
  {
   "cell_type": "code",
   "execution_count": 6,
   "metadata": {},
   "outputs": [
    {
     "name": "stdout",
     "output_type": "stream",
     "text": [
      "['\\n', ' ', \"'\", ',', '-', '.', ';', 'a', 'b', 'c', 'd', 'e', 'f', 'g', 'h', 'i', 'k', 'l', 'm', 'n', 'o', 'p', 'q', 'r', 's', 't', 'u', 'v', 'w', 'y']\n"
     ]
    }
   ],
   "source": [
    "#This get the set of characters used in the data and sorts them\n",
    "chars = sorted(list(set(data)))\n",
    "print(chars)"
   ]
  },
  {
   "cell_type": "code",
   "execution_count": 7,
   "metadata": {},
   "outputs": [
    {
     "name": "stdout",
     "output_type": "stream",
     "text": [
      "1860\n",
      "30\n"
     ]
    }
   ],
   "source": [
    "#Total number of characters used in the data\n",
    "totalChars = len(data)\n",
    "print(totalChars)\n",
    "#Number of unique chars\n",
    "numberOfUniqueChars = len(chars)\n",
    "print(numberOfUniqueChars)"
   ]
  },
  {
   "cell_type": "markdown",
   "metadata": {},
   "source": [
    "* create a dictionary of each character "
   ]
  },
  {
   "cell_type": "code",
   "execution_count": 8,
   "metadata": {},
   "outputs": [
    {
     "name": "stdout",
     "output_type": "stream",
     "text": [
      "{'\\n': 0, ' ': 1, \"'\": 2, ',': 3, '-': 4, '.': 5, ';': 6, 'a': 7, 'b': 8, 'c': 9, 'd': 10, 'e': 11, 'f': 12, 'g': 13, 'h': 14, 'i': 15, 'k': 16, 'l': 17, 'm': 18, 'n': 19, 'o': 20, 'p': 21, 'q': 22, 'r': 23, 's': 24, 't': 25, 'u': 26, 'v': 27, 'w': 28, 'y': 29}\n"
     ]
    }
   ],
   "source": [
    "#This allows for characters to be represented by numbers\n",
    "CharsForids = {char:Id for Id, char in enumerate(chars)}\n",
    "print(CharsForids)"
   ]
  },
  {
   "cell_type": "code",
   "execution_count": 9,
   "metadata": {},
   "outputs": [
    {
     "name": "stdout",
     "output_type": "stream",
     "text": [
      "{0: '\\n', 1: ' ', 2: \"'\", 3: ',', 4: '-', 5: '.', 6: ';', 7: 'a', 8: 'b', 9: 'c', 10: 'd', 11: 'e', 12: 'f', 13: 'g', 14: 'h', 15: 'i', 16: 'k', 17: 'l', 18: 'm', 19: 'n', 20: 'o', 21: 'p', 22: 'q', 23: 'r', 24: 's', 25: 't', 26: 'u', 27: 'v', 28: 'w', 29: 'y'}\n"
     ]
    }
   ],
   "source": [
    " #This is the opposite to the above\n",
    "idsForChars = {Id:char for Id, char in enumerate(chars)}\n",
    "print(idsForChars)\n",
    "#How many timesteps e.g how many characters we want to process in one go\n",
    "numberOfCharsToLearn = 100"
   ]
  },
  {
   "cell_type": "code",
   "execution_count": 10,
   "metadata": {},
   "outputs": [
    {
     "data": {
      "text/plain": [
       "20"
      ]
     },
     "execution_count": 10,
     "metadata": {},
     "output_type": "execute_result"
    }
   ],
   "source": [
    "CharsForids['o']"
   ]
  },
  {
   "cell_type": "code",
   "execution_count": 11,
   "metadata": {},
   "outputs": [],
   "source": [
    "# Input data\n",
    "charX= []  #list for input \n",
    "#output data\n",
    "y = []  # list for output "
   ]
  },
  {
   "cell_type": "markdown",
   "metadata": {},
   "source": [
    "* creates a counter for our for loop. We run our loop for a 100 (numberOfCharsToLearn) less as we will be referencing the last 100 as the output chars or the consecutive chars to the inpu"
   ]
  },
  {
   "cell_type": "code",
   "execution_count": 12,
   "metadata": {},
   "outputs": [
    {
     "name": "stdout",
     "output_type": "stream",
     "text": [
      "1760\n"
     ]
    }
   ],
   "source": [
    "counter = totalChars-numberOfCharsToLearn\n",
    "print(counter)"
   ]
  },
  {
   "cell_type": "code",
   "execution_count": 13,
   "metadata": {},
   "outputs": [
    {
     "name": "stdout",
     "output_type": "stream",
     "text": [
      "input is first 100 text: her father loved me, oft invited me;\n",
      "still questioned me the story of my life\n",
      "from year to year -- t\n",
      "output is next 101 th word: h\n",
      "[[14, 11, 23, 1, 12, 7, 25, 14, 11, 23, 1, 17, 20, 27, 11, 10, 1, 18, 11, 3, 1, 20, 12, 25, 1, 15, 19, 27, 15, 25, 11, 10, 1, 18, 11, 6, 0, 24, 25, 15, 17, 17, 1, 22, 26, 11, 24, 25, 15, 20, 19, 11, 10, 1, 18, 11, 1, 25, 14, 11, 1, 24, 25, 20, 23, 29, 1, 20, 12, 1, 18, 29, 1, 17, 15, 12, 11, 0, 12, 23, 20, 18, 1, 29, 11, 7, 23, 1, 25, 20, 1, 29, 11, 7, 23, 1, 4, 4, 1, 25]]\n",
      "[[14]]\n"
     ]
    }
   ],
   "source": [
    "xx=[]\n",
    "yy=[]\n",
    "testx = data[0:100]\n",
    "print(f'input is first 100 text: {testx}')\n",
    "testy = data[100]\n",
    "print(f'output is next 101 th word: {testy}')\n",
    "xx.append([CharsForids[char] for char in testx])\n",
    "yy.append([CharsForids[testy]])\n",
    "print(xx)\n",
    "print(yy)"
   ]
  },
  {
   "cell_type": "code",
   "execution_count": 14,
   "metadata": {},
   "outputs": [],
   "source": [
    "for i in range(0, counter, 1):\n",
    "    #This one goes from 0-100 so it gets 100 values starting from 0 and stops\n",
    "    #just before the 100th value\n",
    "    theInputChars = data[i:i+numberOfCharsToLearn]\n",
    "    #With no ':' you start with 0, and so you get the actual 100th value\n",
    "    #Essentially, the output Chars is the next char in line for those 100 chars in charX\n",
    "    theOutputChars = data[i + numberOfCharsToLearn]\n",
    "    #Appends every 100 chars ids as a list into charX\n",
    "    charX.append([CharsForids[char] for char in theInputChars])\n",
    "    #For every 100 values there is one y value which is the output\n",
    "    y.append(CharsForids[theOutputChars])"
   ]
  },
  {
   "cell_type": "code",
   "execution_count": 15,
   "metadata": {},
   "outputs": [
    {
     "data": {
      "text/plain": [
       "(1760, 1760)"
      ]
     },
     "execution_count": 15,
     "metadata": {},
     "output_type": "execute_result"
    }
   ],
   "source": [
    "len(charX),len(y)"
   ]
  },
  {
   "cell_type": "markdown",
   "metadata": {},
   "source": [
    "* You always have to give a three-dimensional array as an input to your LSTM network. Where the first dimension represents the batch size, the second dimension represents the time-steps and the third dimension represents the number of units in one input sequence\n",
    "\n",
    "![img.png](https://miro.medium.com/max/665/1*AQKRJsRdWx2HZ85H1yWoKw.png)\n",
    "\n",
    "###### (batch_size, time_steps, units)"
   ]
  },
  {
   "cell_type": "code",
   "execution_count": 17,
   "metadata": {},
   "outputs": [],
   "source": [
    "#Len(charX) represents how many batch size we have\n",
    "#The numberOfCharsToLearn is how many character we process\n",
    "#Our features are set to 1 because in the output we are only predicting 1 char\n",
    "X = np.reshape(charX, (len(charX), numberOfCharsToLearn, 1))\n",
    "#This is done for normalization\n",
    "X = X/float(numberOfUniqueChars)"
   ]
  },
  {
   "cell_type": "code",
   "execution_count": 18,
   "metadata": {},
   "outputs": [
    {
     "data": {
      "text/plain": [
       "(1760, 100, 1)"
      ]
     },
     "execution_count": 18,
     "metadata": {},
     "output_type": "execute_result"
    }
   ],
   "source": [
    "X.shape"
   ]
  },
  {
   "cell_type": "code",
   "execution_count": 19,
   "metadata": {},
   "outputs": [],
   "source": [
    "#This sets it up for us so we can have a categorical(#feature) output format\n",
    "y = to_categorical(y)"
   ]
  },
  {
   "cell_type": "code",
   "execution_count": 20,
   "metadata": {},
   "outputs": [
    {
     "data": {
      "text/plain": [
       "(1760, 30)"
      ]
     },
     "execution_count": 20,
     "metadata": {},
     "output_type": "execute_result"
    }
   ],
   "source": [
    "y.shape"
   ]
  },
  {
   "cell_type": "code",
   "execution_count": 21,
   "metadata": {},
   "outputs": [],
   "source": [
    "model = Sequential()\n",
    "#Since we know the shape of our Data we can input the timestep and feature data\n",
    "#The number of timestep sequence are dealt with in the fit function\n",
    "model.add(LSTM(256, input_shape=(X.shape[1], X.shape[2])))\n",
    "model.add(Dropout(0.2))\n",
    "#number of features on the output\n",
    "model.add(Dense(y.shape[1], activation='softmax'))"
   ]
  },
  {
   "cell_type": "code",
   "execution_count": 22,
   "metadata": {},
   "outputs": [
    {
     "name": "stdout",
     "output_type": "stream",
     "text": [
      "Model: \"sequential\"\n",
      "_________________________________________________________________\n",
      "Layer (type)                 Output Shape              Param #   \n",
      "=================================================================\n",
      "lstm (LSTM)                  (None, 256)               264192    \n",
      "_________________________________________________________________\n",
      "dropout (Dropout)            (None, 256)               0         \n",
      "_________________________________________________________________\n",
      "dense (Dense)                (None, 30)                7710      \n",
      "=================================================================\n",
      "Total params: 271,902\n",
      "Trainable params: 271,902\n",
      "Non-trainable params: 0\n",
      "_________________________________________________________________\n"
     ]
    }
   ],
   "source": [
    "model.summary()"
   ]
  },
  {
   "cell_type": "code",
   "execution_count": 24,
   "metadata": {},
   "outputs": [],
   "source": [
    "model.compile(loss='categorical_crossentropy', optimizer='adam')"
   ]
  },
  {
   "cell_type": "code",
   "execution_count": 68,
   "metadata": {},
   "outputs": [
    {
     "name": "stdout",
     "output_type": "stream",
     "text": [
      "Train on 1760 samples\n",
      "Epoch 1/50\n",
      "1760/1760 [==============================] - 1s 787us/sample - loss: 2.9782\n",
      "Epoch 2/50\n",
      "1760/1760 [==============================] - 1s 573us/sample - loss: 2.9731\n",
      "Epoch 3/50\n",
      "1760/1760 [==============================] - 1s 627us/sample - loss: 2.9679\n",
      "Epoch 4/50\n",
      "1760/1760 [==============================] - 1s 691us/sample - loss: 2.9626\n",
      "Epoch 5/50\n",
      "1760/1760 [==============================] - 1s 676us/sample - loss: 2.9474\n",
      "Epoch 6/50\n",
      "1760/1760 [==============================] - 1s 558us/sample - loss: 2.9434\n",
      "Epoch 7/50\n",
      "1760/1760 [==============================] - 1s 558us/sample - loss: 2.9285\n",
      "Epoch 8/50\n",
      "1760/1760 [==============================] - 1s 643us/sample - loss: 2.9167\n",
      "Epoch 9/50\n",
      "1760/1760 [==============================] - 1s 713us/sample - loss: 2.9020\n",
      "Epoch 10/50\n",
      "1760/1760 [==============================] - 1s 778us/sample - loss: 2.8898\n",
      "Epoch 11/50\n",
      "1760/1760 [==============================] - 1s 539us/sample - loss: 2.8846\n",
      "Epoch 12/50\n",
      "1760/1760 [==============================] - 1s 516us/sample - loss: 2.8684\n",
      "Epoch 13/50\n",
      "1760/1760 [==============================] - 1s 668us/sample - loss: 2.8576\n",
      "Epoch 14/50\n",
      "1760/1760 [==============================] - 1s 514us/sample - loss: 2.8517\n",
      "Epoch 15/50\n",
      "1760/1760 [==============================] - 1s 587us/sample - loss: 2.8301\n",
      "Epoch 16/50\n",
      "1760/1760 [==============================] - 1s 680us/sample - loss: 2.8172\n",
      "Epoch 17/50\n",
      "1760/1760 [==============================] - 1s 616us/sample - loss: 2.7913\n",
      "Epoch 18/50\n",
      "1760/1760 [==============================] - 1s 543us/sample - loss: 2.7800\n",
      "Epoch 19/50\n",
      "1760/1760 [==============================] - 1s 522us/sample - loss: 2.7520\n",
      "Epoch 20/50\n",
      "1760/1760 [==============================] - 1s 545us/sample - loss: 2.7255\n",
      "Epoch 21/50\n",
      "1760/1760 [==============================] - 1s 615us/sample - loss: 2.7101\n",
      "Epoch 22/50\n",
      "1760/1760 [==============================] - 1s 520us/sample - loss: 2.6656\n",
      "Epoch 23/50\n",
      "1760/1760 [==============================] - 1s 655us/sample - loss: 2.6366\n",
      "Epoch 24/50\n",
      "1760/1760 [==============================] - 1s 554us/sample - loss: 2.6125\n",
      "Epoch 25/50\n",
      "1760/1760 [==============================] - 1s 534us/sample - loss: 2.5792\n",
      "Epoch 26/50\n",
      "1760/1760 [==============================] - 1s 599us/sample - loss: 2.5120\n",
      "Epoch 27/50\n",
      "1760/1760 [==============================] - 1s 496us/sample - loss: 2.4669\n",
      "Epoch 28/50\n",
      "1760/1760 [==============================] - 1s 801us/sample - loss: 2.4026\n",
      "Epoch 29/50\n",
      "1760/1760 [==============================] - 1s 555us/sample - loss: 2.3495\n",
      "Epoch 30/50\n",
      "1760/1760 [==============================] - 1s 560us/sample - loss: 2.3070\n",
      "Epoch 31/50\n",
      "1760/1760 [==============================] - 1s 502us/sample - loss: 2.2204\n",
      "Epoch 32/50\n",
      "1760/1760 [==============================] - 1s 750us/sample - loss: 2.1385\n",
      "Epoch 33/50\n",
      "1760/1760 [==============================] - 2s 909us/sample - loss: 2.0660\n",
      "Epoch 34/50\n",
      "1760/1760 [==============================] - 1s 818us/sample - loss: 1.9495\n",
      "Epoch 35/50\n",
      "1760/1760 [==============================] - 1s 569us/sample - loss: 1.8632\n",
      "Epoch 36/50\n",
      "1760/1760 [==============================] - 1s 555us/sample - loss: 1.7893\n",
      "Epoch 37/50\n",
      "1760/1760 [==============================] - 1s 508us/sample - loss: 1.6638\n",
      "Epoch 38/50\n",
      "1760/1760 [==============================] - 1s 527us/sample - loss: 1.5514\n",
      "Epoch 39/50\n",
      "1760/1760 [==============================] - 1s 645us/sample - loss: 1.4539\n",
      "Epoch 40/50\n",
      "1760/1760 [==============================] - 1s 702us/sample - loss: 1.3272\n",
      "Epoch 41/50\n",
      "1760/1760 [==============================] - 1s 556us/sample - loss: 1.1976\n",
      "Epoch 42/50\n",
      "1760/1760 [==============================] - 1s 624us/sample - loss: 1.0711\n",
      "Epoch 43/50\n",
      "1760/1760 [==============================] - 1s 742us/sample - loss: 0.9577\n",
      "Epoch 44/50\n",
      "1760/1760 [==============================] - 1s 689us/sample - loss: 0.8534\n",
      "Epoch 45/50\n",
      "1760/1760 [==============================] - 1s 600us/sample - loss: 0.7534\n",
      "Epoch 46/50\n",
      "1760/1760 [==============================] - 1s 599us/sample - loss: 0.6595\n",
      "Epoch 47/50\n",
      "1760/1760 [==============================] - 1s 536us/sample - loss: 0.5739\n",
      "Epoch 48/50\n",
      "1760/1760 [==============================] - 1s 840us/sample - loss: 0.4970\n",
      "Epoch 49/50\n",
      "1760/1760 [==============================] - 1s 812us/sample - loss: 0.4207\n",
      "Epoch 50/50\n",
      "1760/1760 [==============================] - 1s 582us/sample - loss: 0.3423\n"
     ]
    },
    {
     "data": {
      "text/plain": [
       "<tensorflow.python.keras.callbacks.History at 0x1d14f67dac8>"
      ]
     },
     "execution_count": 68,
     "metadata": {},
     "output_type": "execute_result"
    }
   ],
   "source": [
    "model.fit(X, y, epochs=50, batch_size=32)"
   ]
  },
  {
   "cell_type": "code",
   "execution_count": 69,
   "metadata": {},
   "outputs": [],
   "source": [
    "model.save_weights(\"Othello.hdf5\")"
   ]
  },
  {
   "cell_type": "code",
   "execution_count": 70,
   "metadata": {},
   "outputs": [],
   "source": [
    "model.load_weights(\"Othello.hdf5\")"
   ]
  },
  {
   "cell_type": "markdown",
   "metadata": {},
   "source": [
    "#### Generating new text"
   ]
  },
  {
   "cell_type": "code",
   "execution_count": 71,
   "metadata": {},
   "outputs": [
    {
     "name": "stdout",
     "output_type": "stream",
     "text": [
      "191\n",
      "[0, 25, 20, 1, 25, 14, 2, 1, 27, 11, 23, 29, 1, 18, 20, 18, 11, 19, 25, 1, 25, 14, 7, 25, 1, 14, 11, 1, 8, 7, 10, 11, 1, 18, 11, 1, 25, 11, 17, 17, 1, 15, 25, 5, 0, 28, 14, 11, 23, 11, 15, 19, 1, 15, 1, 24, 21, 20, 16, 11, 1, 20, 12, 1, 18, 20, 24, 25, 1, 10, 15, 24, 7, 24, 25, 23, 20, 26, 24, 1, 9, 14, 7, 19, 9, 11, 24, 3, 0, 20, 12, 1, 18, 20, 27, 15, 19, 13, 1, 7]\n",
      "Seed:\n",
      "\" \n",
      "to th' very moment that he bade me tell it.\n",
      "wherein i spoke of most disastrous chances,\n",
      "of moving a \"\n"
     ]
    }
   ],
   "source": [
    "# pick a random seed\n",
    "start = np.random.randint(0, len(charX)-1) # generating random number between o to len(dataX)\n",
    "print(start)\n",
    "pattern = charX[start] #getting values od data_X on that random generated number\n",
    "print(pattern)\n",
    "print(\"Seed:\")\n",
    "print(\"\\\"\", ''.join([idsForChars[value] for value in pattern]), \"\\\"\") # getting number to char using dictionary"
   ]
  },
  {
   "cell_type": "code",
   "execution_count": 73,
   "metadata": {},
   "outputs": [
    {
     "name": "stdout",
     "output_type": "stream",
     "text": [
      "ccidents by flood and field;\n",
      "of hairbreadth scapes i' the' imminent deadly breach;\n",
      "of being taken by the insolent fhe\n",
      "and sold to slavery; of my redemption thence\n",
      "and portance in my travels' history;\n",
      "wherein of anters vast and deserts isle,isd so tea mosoonn that i  ave bame mel  tt sy pely ih st ter dincittt phatces. \n",
      "u athil the housd affairs would draw her thence;\n",
      "which ever she could with haste dispatch,\n",
      "she'd come again, and with a greedy ear\n",
      "devour up my discourse. which i observing,\n",
      "took Done\n"
     ]
    }
   ],
   "source": [
    "import sys\n",
    "# generate characters\n",
    "for i in range(500):\n",
    "\tx = np.reshape(pattern, (1, len(pattern), 1))\n",
    "\tx = x / float(numberOfUniqueChars)\n",
    "\tprediction = model.predict(x, verbose=0)\n",
    "\tindex = np.argmax(prediction)\n",
    "\tresult = idsForChars[index]\n",
    "\tseq_in = [idsForChars[value] for value in pattern]\n",
    "\tsys.stdout.write(result)\n",
    "\tpattern.append(index)\n",
    "\tpattern = pattern[1:len(pattern)]\n",
    "print(\"Done\")"
   ]
  },
  {
   "cell_type": "code",
   "execution_count": 74,
   "metadata": {},
   "outputs": [
    {
     "name": "stdout",
     "output_type": "stream",
     "text": [
      "[11, 1, 10, 15, 24, 21, 7, 25, 9, 14, 3, 0, 24, 14, 11, 2, 10, 1, 9, 20, 18, 11, 1, 7, 13, 7, 15, 19, 3, 1, 7, 19, 10, 1, 28, 15, 25, 14, 1, 7, 1, 13, 23, 11, 11, 10, 29, 1, 11, 7, 23, 0, 10, 11, 27, 20, 26, 23, 1, 26, 21, 1, 18, 29, 1, 10, 15, 24, 9, 20, 26, 23, 24, 11, 5, 1, 28, 14, 15, 9, 14, 1, 15, 1, 20, 8, 24, 11, 23, 27, 15, 19, 13, 3, 0, 25, 20, 20, 16, 1]\n"
     ]
    }
   ],
   "source": [
    "print(pattern)"
   ]
  },
  {
   "cell_type": "code",
   "execution_count": 75,
   "metadata": {},
   "outputs": [
    {
     "name": "stdout",
     "output_type": "stream",
     "text": [
      "[[1.36195379e-03 3.68382260e-02 2.99920885e-05 2.72132549e-03\n",
      "  1.20695495e-05 5.81987588e-05 1.46435632e-04 4.75592352e-03\n",
      "  7.09923115e-05 1.82993133e-02 4.89503320e-04 4.60107694e-04\n",
      "  1.15078166e-02 3.46857519e-03 1.41865935e-03 4.98367287e-03\n",
      "  5.70601987e-05 1.32310216e-03 8.89344979e-03 8.81918892e-03\n",
      "  8.72850001e-01 4.74070403e-04 1.90972944e-03 8.43049056e-05\n",
      "  1.17111690e-02 8.31280602e-04 1.92603155e-03 5.26039294e-05\n",
      "  4.03728383e-03 4.08027961e-04]]\n",
      "20\n",
      "o\n"
     ]
    }
   ],
   "source": [
    "t = np.reshape(pattern, (1, len(pattern), 1))\n",
    "t = t/float(numberOfUniqueChars)\n",
    "pred = model.predict(t, verbose= 0)\n",
    "print(pred)\n",
    "index = np.argmax(pred)\n",
    "print(index)\n",
    "result = idsForChars[index]\n",
    "print(result)"
   ]
  },
  {
   "cell_type": "code",
   "execution_count": 61,
   "metadata": {},
   "outputs": [
    {
     "data": {
      "text/plain": [
       "1"
      ]
     },
     "execution_count": 61,
     "metadata": {},
     "output_type": "execute_result"
    }
   ],
   "source": []
  },
  {
   "cell_type": "code",
   "execution_count": null,
   "metadata": {},
   "outputs": [],
   "source": []
  }
 ],
 "metadata": {
  "kernelspec": {
   "display_name": "Python 3",
   "language": "python",
   "name": "python3"
  },
  "language_info": {
   "codemirror_mode": {
    "name": "ipython",
    "version": 3
   },
   "file_extension": ".py",
   "mimetype": "text/x-python",
   "name": "python",
   "nbconvert_exporter": "python",
   "pygments_lexer": "ipython3",
   "version": "3.7.7"
  }
 },
 "nbformat": 4,
 "nbformat_minor": 4
}
