{
 "cells": [
  {
   "cell_type": "code",
   "execution_count": null,
   "metadata": {},
   "outputs": [],
   "source": []
  },
  {
   "cell_type": "code",
   "execution_count": 1,
   "metadata": {},
   "outputs": [],
   "source": [
    "import numpy as np\n",
    "\n",
    "from sklearn.metrics import accuracy_score\n",
    "from tensorflow.keras.datasets import reuters\n",
    "from tensorflow.keras.preprocessing.sequence import pad_sequences\n",
    "from tensorflow.keras.utils import to_categorical\n",
    "\n",
    "from tensorflow.keras.models import Sequential\n",
    "from tensorflow.keras.layers import Dense, SimpleRNN, Activation,LSTM\n",
    "from tensorflow.keras import optimizers\n",
    "from tensorflow.keras.wrappers.scikit_learn import KerasClassifier"
   ]
  },
  {
   "cell_type": "code",
   "execution_count": 2,
   "metadata": {},
   "outputs": [],
   "source": [
    "# parameters for data load\n",
    "num_words = 30000\n",
    "maxlen = 50\n",
    "test_split = 0.3"
   ]
  },
  {
   "cell_type": "code",
   "execution_count": 3,
   "metadata": {},
   "outputs": [],
   "source": [
    "(X_train, y_train), (X_test, y_test) = reuters.load_data(num_words = num_words, maxlen = maxlen, test_split = test_split)"
   ]
  },
  {
   "cell_type": "code",
   "execution_count": 4,
   "metadata": {},
   "outputs": [
    {
     "data": {
      "text/plain": [
       "(array([list([1, 245, 273, 207, 156, 53, 74, 160, 26, 14, 46, 296, 26, 39, 74, 2979, 3554, 14, 46, 4689, 4329, 86, 61, 3499, 4795, 14, 61, 451, 4329, 17, 12]),\n",
       "        list([1, 486, 341, 785, 26, 14, 482, 26, 255, 606, 252, 83, 146, 91, 102, 17, 12]),\n",
       "        list([1, 245, 273, 397, 124, 53, 191, 26, 14, 83, 26, 39, 32, 32, 11, 14, 19, 12, 11, 88, 279, 59, 11, 14, 472, 59, 11, 17, 12]),\n",
       "        list([1, 53, 745, 26, 14, 722, 26, 39, 7442, 18, 14, 6353, 18, 88, 258, 44, 11, 14, 119, 70, 11, 17, 12]),\n",
       "        list([1, 486, 341, 119, 26, 14, 119, 26, 7, 255, 346, 606, 252, 83, 146, 91, 272, 17, 12])],\n",
       "       dtype=object),\n",
       " array([3, 3, 3, 3, 3], dtype=int64))"
      ]
     },
     "execution_count": 4,
     "metadata": {},
     "output_type": "execute_result"
    }
   ],
   "source": [
    "X_train[:5] , y_train[:5]"
   ]
  },
  {
   "cell_type": "code",
   "execution_count": 5,
   "metadata": {},
   "outputs": [],
   "source": [
    "# pad the sequences with zeros \n",
    "# padding parameter is set to 'post' => 0's are appended to end of sequences\n",
    "X_train = pad_sequences(X_train, padding = 'post')\n",
    "X_test = pad_sequences(X_test, padding = 'post')"
   ]
  },
  {
   "cell_type": "code",
   "execution_count": 6,
   "metadata": {},
   "outputs": [
    {
     "data": {
      "text/plain": [
       "array([[   1,  245,  273,  207,  156,   53,   74,  160,   26,   14,   46,\n",
       "         296,   26,   39,   74, 2979, 3554,   14,   46, 4689, 4329,   86,\n",
       "          61, 3499, 4795,   14,   61,  451, 4329,   17,   12,    0,    0,\n",
       "           0,    0,    0,    0,    0,    0,    0,    0,    0,    0,    0,\n",
       "           0,    0,    0,    0,    0],\n",
       "       [   1,  486,  341,  785,   26,   14,  482,   26,  255,  606,  252,\n",
       "          83,  146,   91,  102,   17,   12,    0,    0,    0,    0,    0,\n",
       "           0,    0,    0,    0,    0,    0,    0,    0,    0,    0,    0,\n",
       "           0,    0,    0,    0,    0,    0,    0,    0,    0,    0,    0,\n",
       "           0,    0,    0,    0,    0],\n",
       "       [   1,  245,  273,  397,  124,   53,  191,   26,   14,   83,   26,\n",
       "          39,   32,   32,   11,   14,   19,   12,   11,   88,  279,   59,\n",
       "          11,   14,  472,   59,   11,   17,   12,    0,    0,    0,    0,\n",
       "           0,    0,    0,    0,    0,    0,    0,    0,    0,    0,    0,\n",
       "           0,    0,    0,    0,    0],\n",
       "       [   1,   53,  745,   26,   14,  722,   26,   39, 7442,   18,   14,\n",
       "        6353,   18,   88,  258,   44,   11,   14,  119,   70,   11,   17,\n",
       "          12,    0,    0,    0,    0,    0,    0,    0,    0,    0,    0,\n",
       "           0,    0,    0,    0,    0,    0,    0,    0,    0,    0,    0,\n",
       "           0,    0,    0,    0,    0],\n",
       "       [   1,  486,  341,  119,   26,   14,  119,   26,    7,  255,  346,\n",
       "         606,  252,   83,  146,   91,  272,   17,   12,    0,    0,    0,\n",
       "           0,    0,    0,    0,    0,    0,    0,    0,    0,    0,    0,\n",
       "           0,    0,    0,    0,    0,    0,    0,    0,    0,    0,    0,\n",
       "           0,    0,    0,    0,    0]])"
      ]
     },
     "execution_count": 6,
     "metadata": {},
     "output_type": "execute_result"
    }
   ],
   "source": [
    "X_train[:5]"
   ]
  },
  {
   "cell_type": "code",
   "execution_count": 7,
   "metadata": {},
   "outputs": [],
   "source": [
    "\n",
    "X_train = np.array(X_train).reshape((X_train.shape[0], X_train.shape[1], 1))\n",
    "X_test = np.array(X_test).reshape((X_test.shape[0], X_test.shape[1], 1))"
   ]
  },
  {
   "cell_type": "code",
   "execution_count": 8,
   "metadata": {},
   "outputs": [],
   "source": [
    "y_data = np.concatenate((y_train, y_test))\n",
    "y_data = to_categorical(y_data)"
   ]
  },
  {
   "cell_type": "code",
   "execution_count": 9,
   "metadata": {},
   "outputs": [
    {
     "data": {
      "text/plain": [
       "array([[0., 0., 0., 1., 0., 0., 0., 0., 0., 0., 0., 0., 0., 0., 0., 0.,\n",
       "        0., 0., 0., 0., 0., 0., 0., 0., 0., 0., 0., 0., 0., 0., 0., 0.,\n",
       "        0., 0., 0., 0., 0., 0., 0., 0., 0., 0., 0., 0., 0., 0.],\n",
       "       [0., 0., 0., 1., 0., 0., 0., 0., 0., 0., 0., 0., 0., 0., 0., 0.,\n",
       "        0., 0., 0., 0., 0., 0., 0., 0., 0., 0., 0., 0., 0., 0., 0., 0.,\n",
       "        0., 0., 0., 0., 0., 0., 0., 0., 0., 0., 0., 0., 0., 0.],\n",
       "       [0., 0., 0., 1., 0., 0., 0., 0., 0., 0., 0., 0., 0., 0., 0., 0.,\n",
       "        0., 0., 0., 0., 0., 0., 0., 0., 0., 0., 0., 0., 0., 0., 0., 0.,\n",
       "        0., 0., 0., 0., 0., 0., 0., 0., 0., 0., 0., 0., 0., 0.],\n",
       "       [0., 0., 0., 1., 0., 0., 0., 0., 0., 0., 0., 0., 0., 0., 0., 0.,\n",
       "        0., 0., 0., 0., 0., 0., 0., 0., 0., 0., 0., 0., 0., 0., 0., 0.,\n",
       "        0., 0., 0., 0., 0., 0., 0., 0., 0., 0., 0., 0., 0., 0.],\n",
       "       [0., 0., 0., 1., 0., 0., 0., 0., 0., 0., 0., 0., 0., 0., 0., 0.,\n",
       "        0., 0., 0., 0., 0., 0., 0., 0., 0., 0., 0., 0., 0., 0., 0., 0.,\n",
       "        0., 0., 0., 0., 0., 0., 0., 0., 0., 0., 0., 0., 0., 0.]],\n",
       "      dtype=float32)"
      ]
     },
     "execution_count": 9,
     "metadata": {},
     "output_type": "execute_result"
    }
   ],
   "source": [
    "y_data[:5]"
   ]
  },
  {
   "cell_type": "code",
   "execution_count": 10,
   "metadata": {},
   "outputs": [],
   "source": [
    "y_train = y_data[:1395]\n",
    "y_test = y_data[1395:]"
   ]
  },
  {
   "cell_type": "code",
   "execution_count": 11,
   "metadata": {},
   "outputs": [
    {
     "name": "stdout",
     "output_type": "stream",
     "text": [
      "(1395, 49, 1)\n",
      "(599, 49, 1)\n",
      "(1395, 46)\n",
      "(599, 46)\n"
     ]
    }
   ],
   "source": [
    "print(X_train.shape)\n",
    "print(X_test.shape)\n",
    "print(y_train.shape)\n",
    "print(y_test.shape)"
   ]
  },
  {
   "cell_type": "markdown",
   "metadata": {},
   "source": [
    "### 1. Deep RNN\n",
    "\n",
    "* RNNs can be made deep, with multiple layers,\n",
    "\n",
    "![img.png](https://www.researchgate.net/profile/Jianjing_Zhang3/publication/326038469/figure/fig2/AS:670058405691403@1536765781751/Diagram-of-a-deep-LSTM-network.png)"
   ]
  },
  {
   "cell_type": "code",
   "execution_count": 36,
   "metadata": {},
   "outputs": [],
   "source": [
    "def deep_lstm():\n",
    "    model = Sequential()\n",
    "    model.add(LSTM(20, input_shape = (49,1), return_sequences = True))\n",
    "    model.add(LSTM(20, return_sequences = True))\n",
    "    model.add(LSTM(20, return_sequences = True))\n",
    "    model.add(LSTM(20, return_sequences = False))\n",
    "    model.add(Dense(46))\n",
    "    model.add(Activation('softmax'))\n",
    "    \n",
    "    adam = optimizers.Adam(lr = 0.001)\n",
    "    model.compile(loss = 'categorical_crossentropy', optimizer = adam, metrics = ['accuracy'])\n",
    "    \n",
    "    return model"
   ]
  },
  {
   "cell_type": "code",
   "execution_count": 40,
   "metadata": {},
   "outputs": [
    {
     "name": "stdout",
     "output_type": "stream",
     "text": [
      "Train on 1395 samples\n",
      "Epoch 1/10\n",
      "1395/1395 [==============================] - 13s 10ms/sample - loss: 2.8612 - accuracy: 0.6774\n",
      "Epoch 2/10\n",
      "1395/1395 [==============================] - 2s 1ms/sample - loss: 1.4222 - accuracy: 0.7147\n",
      "Epoch 3/10\n",
      "1395/1395 [==============================] - 2s 1ms/sample - loss: 1.2180 - accuracy: 0.7147\n",
      "Epoch 4/10\n",
      "1395/1395 [==============================] - 2s 1ms/sample - loss: 1.1880 - accuracy: 0.7147\n",
      "Epoch 5/10\n",
      "1395/1395 [==============================] - 1s 1ms/sample - loss: 1.1754 - accuracy: 0.7147\n",
      "Epoch 6/10\n",
      "1395/1395 [==============================] - 1s 861us/sample - loss: 1.1698 - accuracy: 0.7147\n",
      "Epoch 7/10\n",
      "1395/1395 [==============================] - 1s 858us/sample - loss: 1.1654 - accuracy: 0.7147\n",
      "Epoch 8/10\n",
      "1395/1395 [==============================] - 1s 862us/sample - loss: 1.1625 - accuracy: 0.7147\n",
      "Epoch 9/10\n",
      "1395/1395 [==============================] - 1s 852us/sample - loss: 1.1616 - accuracy: 0.7147\n",
      "Epoch 10/10\n",
      "1395/1395 [==============================] - 1s 1ms/sample - loss: 1.1603 - accuracy: 0.7147\n"
     ]
    },
    {
     "data": {
      "text/plain": [
       "<tensorflow.python.keras.callbacks.History at 0x1716fece548>"
      ]
     },
     "execution_count": 40,
     "metadata": {},
     "output_type": "execute_result"
    }
   ],
   "source": [
    "model = KerasClassifier(build_fn = deep_lstm, epochs = 10, batch_size = 32, verbose = 1)\n",
    "model.fit(X_train, y_train)"
   ]
  },
  {
   "cell_type": "code",
   "execution_count": 41,
   "metadata": {},
   "outputs": [
    {
     "name": "stdout",
     "output_type": "stream",
     "text": [
      "599/599 [==============================] - 4s 6ms/sample\n"
     ]
    }
   ],
   "source": [
    "y_pred = model.predict(X_test)\n",
    "y_test_ = np.argmax(y_test, axis = 1)"
   ]
  },
  {
   "cell_type": "code",
   "execution_count": 48,
   "metadata": {},
   "outputs": [
    {
     "name": "stdout",
     "output_type": "stream",
     "text": [
      "599/599 [==============================] - 1s 889us/sample\n"
     ]
    },
    {
     "data": {
      "text/plain": [
       "array([3, 3])"
      ]
     },
     "execution_count": 48,
     "metadata": {},
     "output_type": "execute_result"
    }
   ],
   "source": [
    "y_pred = model.predict(X_test)\n",
    "y_pred[:2]"
   ]
  },
  {
   "cell_type": "code",
   "execution_count": 49,
   "metadata": {},
   "outputs": [
    {
     "data": {
      "text/plain": [
       "array([ 3,  4,  3,  3,  3,  3, 42,  3,  3,  3,  3,  3,  3,  3,  3,  3,  3,\n",
       "        4,  3,  6,  3,  3,  3,  3,  3, 19,  4, 19,  3,  3,  3,  3,  3,  3,\n",
       "        3,  3,  3,  3,  3,  3,  3,  4,  4,  3,  3,  3,  3,  3,  3,  3,  3,\n",
       "        3,  3,  3,  3,  3,  3,  3,  3,  3,  4,  4,  3,  3,  3,  3,  4,  3,\n",
       "        3,  3, 13,  3,  3,  3, 16, 20,  4,  1,  4,  3,  4,  3,  3,  4, 19,\n",
       "        1,  3, 10,  3,  3,  3,  3,  3,  3,  3,  3,  3,  4,  3,  3, 17,  3,\n",
       "        3,  3, 24,  3,  3,  5,  3,  3,  3,  3,  3,  3,  3,  3,  3,  3,  3,\n",
       "        3,  3,  3,  3,  3, 24,  3,  3,  4,  3,  3,  3,  3,  1,  3,  6,  3,\n",
       "        4,  3,  3,  3,  3,  3,  3,  3,  3,  1,  4,  3,  1,  3,  1,  3,  8,\n",
       "        4,  3,  3,  3,  4,  3,  4,  3,  3, 24,  4,  4,  3,  3,  3,  3,  3,\n",
       "        3,  3,  3,  8,  3,  3, 19,  3,  3,  4,  3,  3,  3,  3,  4,  3,  3,\n",
       "        2,  3,  4,  3,  3,  3,  3,  3, 23,  3,  3,  3,  3,  3, 40,  3,  4,\n",
       "        3, 20,  3,  3, 16,  3,  3,  3,  3,  3,  4,  3,  3,  3,  1,  3,  3,\n",
       "       18,  3,  3,  3,  3,  3, 11,  3,  3,  3,  3,  3, 18,  3,  3,  3,  3,\n",
       "        3,  4,  3,  3,  3,  3,  3,  1,  3,  3,  3,  3, 20,  3,  3,  3,  3,\n",
       "        6,  3,  3,  3,  3,  3,  3,  3, 26,  4,  3,  3,  3,  3,  3,  3,  3,\n",
       "        3,  3,  3,  3,  3,  3,  3,  3,  3,  3,  3,  3,  3,  3,  4,  3,  4,\n",
       "        3,  3,  3,  4,  3,  4,  3,  3,  4,  3,  3,  3,  3,  3,  3,  3,  3,\n",
       "        3,  3,  3, 20,  0,  3,  3,  4,  3,  3,  3,  3,  3,  4,  3,  3,  3,\n",
       "        4,  4,  4, 12,  3,  3,  3,  3,  1,  3,  4,  3,  3,  3,  3,  3,  3,\n",
       "        3,  3,  3,  4, 20, 32,  3,  3,  3,  3,  3,  4,  3,  3,  3,  4,  3,\n",
       "        3,  3,  3,  3,  3,  3,  3,  3,  3,  3,  4, 24,  3,  3,  3,  4,  3,\n",
       "        6, 12,  3,  4,  0,  3,  3,  4,  3,  3,  3,  4,  3,  4,  3,  3, 25,\n",
       "        3,  3,  4,  4, 40,  3,  2,  3,  3,  4,  4,  3,  3,  4,  3,  3,  3,\n",
       "        3,  3,  4,  3,  3,  3,  6, 20,  8,  3,  3,  3,  4,  3,  3, 19,  3,\n",
       "        3,  3,  8,  3,  3,  3,  3,  3, 16,  4,  3,  3,  3,  3,  3,  4, 20,\n",
       "        3, 19, 13,  4, 24,  3,  3,  3,  3,  4,  3,  3,  3,  3,  3,  3, 24,\n",
       "        3,  3,  4,  3,  3,  3,  3,  4,  3,  1,  3,  3,  3,  3,  3,  3,  4,\n",
       "        3,  3,  3,  4,  4,  3,  3,  3,  4,  3,  3,  3,  3,  3, 10,  4,  3,\n",
       "        1,  4, 20,  3,  1,  3,  3,  3,  3,  3,  3,  3,  4,  3,  3,  3,  3,\n",
       "        3,  3,  3,  3,  3,  3,  3,  3,  3,  3,  3,  3,  3,  3,  3, 19, 13,\n",
       "        3,  3,  3,  3, 16,  4,  3,  3,  3,  3,  3,  3,  3,  3,  3,  3,  3,\n",
       "        3,  3,  3,  3,  3,  3,  4,  4,  3,  3,  3,  3,  3,  3,  4,  3,  3,\n",
       "        3,  3,  3,  3,  3,  3,  3,  3,  3,  4, 23,  3,  3,  3,  3,  4,  3,\n",
       "        3,  3,  3,  3, 24,  3,  3,  4,  4,  3, 19,  3,  3, 10, 16,  3,  3,\n",
       "        2,  3,  3,  3], dtype=int64)"
      ]
     },
     "execution_count": 49,
     "metadata": {},
     "output_type": "execute_result"
    }
   ],
   "source": [
    "y_test_ = np.argmax(y_test, axis = 1)\n",
    "y_test_"
   ]
  },
  {
   "cell_type": "code",
   "execution_count": 50,
   "metadata": {},
   "outputs": [
    {
     "name": "stdout",
     "output_type": "stream",
     "text": [
      "0.7479131886477463\n"
     ]
    }
   ],
   "source": [
    "print(accuracy_score(y_pred, y_test_))"
   ]
  },
  {
   "cell_type": "markdown",
   "metadata": {},
   "source": [
    "### 2. Bidirectional RNN\n",
    "\n",
    "* Bidirectional RNNs consider not only one-way influence of sequence, but also the other way\n",
    "\n",
    "* Actually, they can be thought as building two separate RNNs, and merging them\n",
    "\n",
    "![img.png](https://www.i2tutorials.com/wp-content/media/2019/05/Deep-Dive-into-Bidirectional-LSTM-i2tutorials.jpg)"
   ]
  },
  {
   "cell_type": "code",
   "execution_count": 53,
   "metadata": {},
   "outputs": [],
   "source": [
    "from tensorflow.keras.layers import Bidirectional"
   ]
  },
  {
   "cell_type": "code",
   "execution_count": 54,
   "metadata": {},
   "outputs": [],
   "source": [
    "def bidirectional_lstm():\n",
    "    model = Sequential()\n",
    "    model.add(Bidirectional(LSTM(20, return_sequences = False), input_shape = (49,1)))\n",
    "    model.add(Dense(46))\n",
    "    model.add(Activation('softmax'))\n",
    "    \n",
    "    adam = optimizers.Adam(lr = 0.001)\n",
    "    model.compile(loss = 'categorical_crossentropy', optimizer = adam, metrics = ['accuracy'])\n",
    "    \n",
    "    return model"
   ]
  },
  {
   "cell_type": "code",
   "execution_count": 56,
   "metadata": {},
   "outputs": [
    {
     "name": "stdout",
     "output_type": "stream",
     "text": [
      "Train on 1395 samples\n",
      "Epoch 1/10\n",
      "1395/1395 [==============================] - 7s 5ms/sample - loss: 2.9803 - accuracy: 0.6057\n",
      "Epoch 2/10\n",
      "1395/1395 [==============================] - 1s 642us/sample - loss: 1.3818 - accuracy: 0.7147\n",
      "Epoch 3/10\n",
      "1395/1395 [==============================] - 1s 776us/sample - loss: 1.1739 - accuracy: 0.7147\n",
      "Epoch 4/10\n",
      "1395/1395 [==============================] - 1s 799us/sample - loss: 1.1300 - accuracy: 0.7147\n",
      "Epoch 5/10\n",
      "1395/1395 [==============================] - 1s 823us/sample - loss: 1.0749 - accuracy: 0.7147\n",
      "Epoch 6/10\n",
      "1395/1395 [==============================] - 1s 887us/sample - loss: 1.0075 - accuracy: 0.7147\n",
      "Epoch 7/10\n",
      "1395/1395 [==============================] - 1s 843us/sample - loss: 0.9500 - accuracy: 0.7219\n",
      "Epoch 8/10\n",
      "1395/1395 [==============================] - 1s 810us/sample - loss: 0.9043 - accuracy: 0.7505\n",
      "Epoch 9/10\n",
      "1395/1395 [==============================] - 1s 806us/sample - loss: 0.8669 - accuracy: 0.7814\n",
      "Epoch 10/10\n",
      "1395/1395 [==============================] - 1s 806us/sample - loss: 0.8508 - accuracy: 0.7900\n"
     ]
    },
    {
     "data": {
      "text/plain": [
       "<tensorflow.python.keras.callbacks.History at 0x1717ee808c8>"
      ]
     },
     "execution_count": 56,
     "metadata": {},
     "output_type": "execute_result"
    }
   ],
   "source": [
    "model = KerasClassifier(build_fn = bidirectional_lstm, epochs = 10, batch_size = 32, verbose = 1)\n",
    "model.fit(X_train, y_train)"
   ]
  },
  {
   "cell_type": "code",
   "execution_count": 57,
   "metadata": {},
   "outputs": [
    {
     "name": "stdout",
     "output_type": "stream",
     "text": [
      "599/599 [==============================] - 2s 4ms/sample\n"
     ]
    },
    {
     "data": {
      "text/plain": [
       "array([ 3,  4,  3,  3,  3,  4,  4,  4,  3,  3,  3,  3,  3,  3,  3,  3,  3,\n",
       "        4,  4,  4,  3,  3,  3,  3,  3,  3,  4,  3,  3,  3,  3,  3,  3,  3,\n",
       "        3,  3,  3,  3,  3,  3,  3,  4,  4,  3,  3,  3,  3,  3,  3,  3,  3,\n",
       "        3,  3,  3,  3,  3,  3,  3,  3,  3,  4,  4,  3,  3,  3,  3,  4,  3,\n",
       "        3,  3,  4,  3,  3,  3,  3,  3,  4,  3,  4,  3,  4,  3,  3,  4, 19,\n",
       "        4,  3,  4,  3,  4,  3,  3,  3,  4,  3,  3,  3,  3,  3,  3,  3,  3,\n",
       "        3,  3,  3,  3,  3,  4,  3,  3,  3,  3,  3,  4,  3,  3,  3,  3,  3,\n",
       "        3,  3,  3,  3,  3,  3,  4,  3,  4,  3,  3,  3,  3,  4,  3,  4,  4,\n",
       "        4,  3,  4,  3,  3,  3,  3,  3,  3,  3,  4,  3,  3,  3,  3,  3,  3,\n",
       "        3,  3,  3,  3,  4,  3,  4,  3,  3,  3,  4,  4,  3,  3,  3,  4,  3,\n",
       "        3,  3,  3,  3,  3,  3,  3,  3,  3,  3,  3,  3,  3,  3,  4,  3,  3,\n",
       "        4,  3,  3,  3,  3,  3,  3,  3,  4,  3,  3,  3,  3,  3,  4,  3,  3,\n",
       "        3, 19,  4,  3,  4,  3,  3,  3,  3,  3,  4,  3,  3,  3,  3,  3,  3,\n",
       "        3,  3,  3,  3,  4,  3,  3,  3,  3,  3,  3,  3,  3,  3,  3,  3,  3,\n",
       "        3,  4,  3,  3,  3,  3,  3,  3,  3,  4,  3,  3,  3,  3,  3,  3,  3,\n",
       "        4,  3,  3,  3,  3,  3,  3,  3,  4,  4,  3,  3,  3,  3,  3,  3,  3,\n",
       "        3,  3,  3,  3,  3,  3,  3,  3,  3,  3,  3,  3,  3,  3,  4,  3,  4,\n",
       "        3,  3,  4,  3,  3,  4,  3,  3,  4,  3,  3,  3,  3,  3,  3,  3,  3,\n",
       "        3,  3,  3,  4,  4,  3,  3,  3,  3,  4,  3,  3,  3,  4,  3,  3,  3,\n",
       "        4,  4,  3,  3,  3,  3,  3,  3,  3,  3,  4,  3,  3,  3,  3,  3,  3,\n",
       "        3,  4,  3,  4,  4,  4,  3,  3,  3,  3,  3,  4,  3,  3,  3,  4,  3,\n",
       "        3,  3,  3,  3,  3,  3,  3,  3,  3,  4,  4,  3,  3,  3,  4, 19,  3,\n",
       "        4,  3,  3,  4,  4,  3,  3,  4,  3,  3,  3,  4,  3, 19,  3,  3,  3,\n",
       "        3,  3,  4,  3, 19,  3,  4,  3,  4,  4,  4,  3,  3,  3,  3,  3,  3,\n",
       "        3,  3,  4,  3,  3,  3,  3,  4,  4,  4,  3,  3,  4,  3,  3, 19,  3,\n",
       "        3,  3,  3,  3,  3,  3,  3,  3, 19,  3,  3,  3,  3,  3,  3,  3,  3,\n",
       "        3, 19,  4,  4,  3,  3,  3,  3,  3,  4,  3,  3,  3,  3,  3,  3,  3,\n",
       "        3,  3,  4,  3,  3,  3,  3,  3,  3,  3,  3,  3,  3,  3,  3,  3,  4,\n",
       "        3,  3,  3,  3,  3,  3,  3,  4,  4,  3,  3,  3,  4,  3,  4, 19,  4,\n",
       "        4,  4,  3,  3, 19,  3,  3,  3,  3,  3,  3,  3,  3,  3,  3,  3,  3,\n",
       "        3,  3,  3,  3,  3,  3,  3,  3,  3,  3,  3,  4,  3,  3,  3, 19,  4,\n",
       "        3,  3,  3,  3,  3,  3,  3,  3,  3,  3,  3,  3,  3,  3,  3,  3,  4,\n",
       "        3,  3,  3,  4,  3,  3,  4,  4,  3,  3,  3,  3,  3,  3,  4,  3,  3,\n",
       "        3,  3,  3,  3,  3,  3,  3,  3,  3,  4,  4,  3,  3,  3,  3,  4,  3,\n",
       "        3,  3,  3,  3,  3,  3,  3,  3,  4,  3,  4,  3,  3,  4,  3,  3,  3,\n",
       "        4,  3,  3,  3])"
      ]
     },
     "execution_count": 57,
     "metadata": {},
     "output_type": "execute_result"
    }
   ],
   "source": [
    "y_pred = model.predict(X_test)\n",
    "y_pred"
   ]
  },
  {
   "cell_type": "code",
   "execution_count": 59,
   "metadata": {},
   "outputs": [
    {
     "data": {
      "text/plain": [
       "array([ 3,  4,  3,  3,  3,  3, 42,  3,  3,  3,  3,  3,  3,  3,  3,  3,  3,\n",
       "        4,  3,  6,  3,  3,  3,  3,  3, 19,  4, 19,  3,  3,  3,  3,  3,  3,\n",
       "        3,  3,  3,  3,  3,  3,  3,  4,  4,  3,  3,  3,  3,  3,  3,  3,  3,\n",
       "        3,  3,  3,  3,  3,  3,  3,  3,  3,  4,  4,  3,  3,  3,  3,  4,  3,\n",
       "        3,  3, 13,  3,  3,  3, 16, 20,  4,  1,  4,  3,  4,  3,  3,  4, 19,\n",
       "        1,  3, 10,  3,  3,  3,  3,  3,  3,  3,  3,  3,  4,  3,  3, 17,  3,\n",
       "        3,  3, 24,  3,  3,  5,  3,  3,  3,  3,  3,  3,  3,  3,  3,  3,  3,\n",
       "        3,  3,  3,  3,  3, 24,  3,  3,  4,  3,  3,  3,  3,  1,  3,  6,  3,\n",
       "        4,  3,  3,  3,  3,  3,  3,  3,  3,  1,  4,  3,  1,  3,  1,  3,  8,\n",
       "        4,  3,  3,  3,  4,  3,  4,  3,  3, 24,  4,  4,  3,  3,  3,  3,  3,\n",
       "        3,  3,  3,  8,  3,  3, 19,  3,  3,  4,  3,  3,  3,  3,  4,  3,  3,\n",
       "        2,  3,  4,  3,  3,  3,  3,  3, 23,  3,  3,  3,  3,  3, 40,  3,  4,\n",
       "        3, 20,  3,  3, 16,  3,  3,  3,  3,  3,  4,  3,  3,  3,  1,  3,  3,\n",
       "       18,  3,  3,  3,  3,  3, 11,  3,  3,  3,  3,  3, 18,  3,  3,  3,  3,\n",
       "        3,  4,  3,  3,  3,  3,  3,  1,  3,  3,  3,  3, 20,  3,  3,  3,  3,\n",
       "        6,  3,  3,  3,  3,  3,  3,  3, 26,  4,  3,  3,  3,  3,  3,  3,  3,\n",
       "        3,  3,  3,  3,  3,  3,  3,  3,  3,  3,  3,  3,  3,  3,  4,  3,  4,\n",
       "        3,  3,  3,  4,  3,  4,  3,  3,  4,  3,  3,  3,  3,  3,  3,  3,  3,\n",
       "        3,  3,  3, 20,  0,  3,  3,  4,  3,  3,  3,  3,  3,  4,  3,  3,  3,\n",
       "        4,  4,  4, 12,  3,  3,  3,  3,  1,  3,  4,  3,  3,  3,  3,  3,  3,\n",
       "        3,  3,  3,  4, 20, 32,  3,  3,  3,  3,  3,  4,  3,  3,  3,  4,  3,\n",
       "        3,  3,  3,  3,  3,  3,  3,  3,  3,  3,  4, 24,  3,  3,  3,  4,  3,\n",
       "        6, 12,  3,  4,  0,  3,  3,  4,  3,  3,  3,  4,  3,  4,  3,  3, 25,\n",
       "        3,  3,  4,  4, 40,  3,  2,  3,  3,  4,  4,  3,  3,  4,  3,  3,  3,\n",
       "        3,  3,  4,  3,  3,  3,  6, 20,  8,  3,  3,  3,  4,  3,  3, 19,  3,\n",
       "        3,  3,  8,  3,  3,  3,  3,  3, 16,  4,  3,  3,  3,  3,  3,  4, 20,\n",
       "        3, 19, 13,  4, 24,  3,  3,  3,  3,  4,  3,  3,  3,  3,  3,  3, 24,\n",
       "        3,  3,  4,  3,  3,  3,  3,  4,  3,  1,  3,  3,  3,  3,  3,  3,  4,\n",
       "        3,  3,  3,  4,  4,  3,  3,  3,  4,  3,  3,  3,  3,  3, 10,  4,  3,\n",
       "        1,  4, 20,  3,  1,  3,  3,  3,  3,  3,  3,  3,  4,  3,  3,  3,  3,\n",
       "        3,  3,  3,  3,  3,  3,  3,  3,  3,  3,  3,  3,  3,  3,  3, 19, 13,\n",
       "        3,  3,  3,  3, 16,  4,  3,  3,  3,  3,  3,  3,  3,  3,  3,  3,  3,\n",
       "        3,  3,  3,  3,  3,  3,  4,  4,  3,  3,  3,  3,  3,  3,  4,  3,  3,\n",
       "        3,  3,  3,  3,  3,  3,  3,  3,  3,  4, 23,  3,  3,  3,  3,  4,  3,\n",
       "        3,  3,  3,  3, 24,  3,  3,  4,  4,  3, 19,  3,  3, 10, 16,  3,  3,\n",
       "        2,  3,  3,  3], dtype=int64)"
      ]
     },
     "execution_count": 59,
     "metadata": {},
     "output_type": "execute_result"
    }
   ],
   "source": [
    "y_test_ = np.argmax(y_test, axis = 1)\n",
    "y_test_"
   ]
  },
  {
   "cell_type": "code",
   "execution_count": 60,
   "metadata": {},
   "outputs": [
    {
     "name": "stdout",
     "output_type": "stream",
     "text": [
      "0.8030050083472454\n"
     ]
    }
   ],
   "source": [
    "print(accuracy_score(y_pred, y_test_))"
   ]
  },
  {
   "cell_type": "markdown",
   "metadata": {},
   "source": [
    "### 3. Deep Bidirectional RNN\n",
    "\n",
    "* Bidirectional RNNs can be stacked\n",
    "\n",
    "![img.png](https://www.researchgate.net/profile/Ting_Zhang90/publication/324433547/figure/fig20/AS:614055798644770@1523413719562/A-deep-bidirectional-LSTM-network-with-two-hidden-levels.png)"
   ]
  },
  {
   "cell_type": "code",
   "execution_count": 68,
   "metadata": {},
   "outputs": [],
   "source": [
    "def deep_bidirectional_lstm():\n",
    "    model = Sequential()\n",
    "    model.add(Bidirectional(LSTM(10, return_sequences = True), input_shape = (49,1)))\n",
    "    model.add(Bidirectional(LSTM(10, return_sequences = True)))\n",
    "    model.add(Bidirectional(LSTM(10, return_sequences = True)))\n",
    "    model.add(Bidirectional(LSTM(10, return_sequences = False)))\n",
    "    model.add(Dense(46))\n",
    "    model.add(Activation('softmax'))\n",
    "    \n",
    "    adam = optimizers.Adam(lr = 0.001)\n",
    "    model.compile(loss = 'categorical_crossentropy', optimizer = adam, metrics = ['accuracy'])\n",
    "    \n",
    "    return model"
   ]
  },
  {
   "cell_type": "code",
   "execution_count": 82,
   "metadata": {},
   "outputs": [
    {
     "name": "stdout",
     "output_type": "stream",
     "text": [
      "Train on 1395 samples\n",
      "Epoch 1/10\n",
      "1395/1395 [==============================] - 26s 18ms/sample - loss: 2.3591 - accuracy: 0.6918\n",
      "Epoch 2/10\n",
      "1395/1395 [==============================] - 6s 4ms/sample - loss: 1.2197 - accuracy: 0.7147\n",
      "Epoch 3/10\n",
      "1395/1395 [==============================] - 6s 4ms/sample - loss: 1.1799 - accuracy: 0.7147\n",
      "Epoch 4/10\n",
      "1395/1395 [==============================] - 6s 4ms/sample - loss: 1.1662 - accuracy: 0.7147\n",
      "Epoch 5/10\n",
      "1395/1395 [==============================] - 6s 4ms/sample - loss: 1.1321 - accuracy: 0.7147\n",
      "Epoch 6/10\n",
      "1395/1395 [==============================] - 6s 4ms/sample - loss: 1.0012 - accuracy: 0.7147\n",
      "Epoch 7/10\n",
      "1395/1395 [==============================] - 6s 4ms/sample - loss: 0.9260 - accuracy: 0.7147\n",
      "Epoch 8/10\n",
      "1395/1395 [==============================] - 6s 4ms/sample - loss: 0.8954 - accuracy: 0.7814\n",
      "Epoch 9/10\n",
      "1395/1395 [==============================] - 6s 4ms/sample - loss: 0.8908 - accuracy: 0.7763\n",
      "Epoch 10/10\n",
      "1395/1395 [==============================] - 6s 4ms/sample - loss: 0.8597 - accuracy: 0.7914\n"
     ]
    },
    {
     "data": {
      "text/plain": [
       "<tensorflow.python.keras.callbacks.History at 0x17229f83cc8>"
      ]
     },
     "execution_count": 82,
     "metadata": {},
     "output_type": "execute_result"
    }
   ],
   "source": [
    "model = KerasClassifier(build_fn = deep_bidirectional_lstm, epochs = 10, batch_size = 32, verbose = 1)\n",
    "model.fit(X_train, y_train)"
   ]
  },
  {
   "cell_type": "code",
   "execution_count": 83,
   "metadata": {},
   "outputs": [
    {
     "name": "stdout",
     "output_type": "stream",
     "text": [
      "599/599 [==============================] - 6s 10ms/sample\n"
     ]
    }
   ],
   "source": [
    "y_pred = model.predict(X_test)\n",
    "y_test_ = np.argmax(y_test, axis = 1)"
   ]
  },
  {
   "cell_type": "code",
   "execution_count": 84,
   "metadata": {},
   "outputs": [
    {
     "name": "stdout",
     "output_type": "stream",
     "text": [
      "0.7946577629382304\n"
     ]
    }
   ],
   "source": [
    "print(accuracy_score(y_pred, y_test_))"
   ]
  },
  {
   "cell_type": "code",
   "execution_count": null,
   "metadata": {},
   "outputs": [],
   "source": []
  }
 ],
 "metadata": {
  "kernelspec": {
   "display_name": "Python 3",
   "language": "python",
   "name": "python3"
  },
  "language_info": {
   "codemirror_mode": {
    "name": "ipython",
    "version": 3
   },
   "file_extension": ".py",
   "mimetype": "text/x-python",
   "name": "python",
   "nbconvert_exporter": "python",
   "pygments_lexer": "ipython3",
   "version": "3.7.7"
  }
 },
 "nbformat": 4,
 "nbformat_minor": 4
}
