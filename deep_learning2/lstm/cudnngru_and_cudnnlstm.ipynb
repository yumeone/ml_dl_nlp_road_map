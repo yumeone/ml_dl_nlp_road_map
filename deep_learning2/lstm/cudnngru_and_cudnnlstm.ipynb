{
 "cells": [
  {
   "cell_type": "markdown",
   "metadata": {},
   "source": [
    "* CuDNNLSTM is designed for CUDA parallel processing and cannot run if there is no GPU. But LSTM is designed for normal CPUs. Faster time of execution is because of parallelism.\n",
    "\n",
    "###### We should use cuDNN\n",
    "\n",
    "if the model is large.\n",
    "\n",
    "if the sequence data is long.\n",
    "\n",
    "if the sequence data has variable lengths."
   ]
  },
  {
   "cell_type": "code",
   "execution_count": 1,
   "metadata": {},
   "outputs": [],
   "source": [
    "from tensorflow.keras.datasets import imdb\n",
    "from tensorflow.python.keras.layers import GRU, LSTM, CuDNNGRU, CuDNNLSTM, Activation\n",
    "from tensorflow.keras.preprocessing.sequence import pad_sequences\n",
    "from tensorflow.keras.models import Sequential"
   ]
  },
  {
   "cell_type": "markdown",
   "metadata": {},
   "source": [
    "##### Import dataset¶\n",
    "\n",
    "* IMDB dataset in Keras datasets\n",
    "doc: https://keras.io/datasets/"
   ]
  },
  {
   "cell_type": "code",
   "execution_count": 2,
   "metadata": {},
   "outputs": [],
   "source": [
    "num_words = 30000\n",
    "maxlen = 300"
   ]
  },
  {
   "cell_type": "code",
   "execution_count": 3,
   "metadata": {},
   "outputs": [],
   "source": [
    "(X_train, y_train), (X_test, y_test) = imdb.load_data(num_words = num_words)"
   ]
  },
  {
   "cell_type": "code",
   "execution_count": 4,
   "metadata": {},
   "outputs": [
    {
     "data": {
      "text/plain": [
       "(array([list([1, 14, 22, 16, 43, 530, 973, 1622, 1385, 65, 458, 4468, 66, 3941, 4, 173, 36, 256, 5, 25, 100, 43, 838, 112, 50, 670, 22665, 9, 35, 480, 284, 5, 150, 4, 172, 112, 167, 21631, 336, 385, 39, 4, 172, 4536, 1111, 17, 546, 38, 13, 447, 4, 192, 50, 16, 6, 147, 2025, 19, 14, 22, 4, 1920, 4613, 469, 4, 22, 71, 87, 12, 16, 43, 530, 38, 76, 15, 13, 1247, 4, 22, 17, 515, 17, 12, 16, 626, 18, 19193, 5, 62, 386, 12, 8, 316, 8, 106, 5, 4, 2223, 5244, 16, 480, 66, 3785, 33, 4, 130, 12, 16, 38, 619, 5, 25, 124, 51, 36, 135, 48, 25, 1415, 33, 6, 22, 12, 215, 28, 77, 52, 5, 14, 407, 16, 82, 10311, 8, 4, 107, 117, 5952, 15, 256, 4, 2, 7, 3766, 5, 723, 36, 71, 43, 530, 476, 26, 400, 317, 46, 7, 4, 12118, 1029, 13, 104, 88, 4, 381, 15, 297, 98, 32, 2071, 56, 26, 141, 6, 194, 7486, 18, 4, 226, 22, 21, 134, 476, 26, 480, 5, 144, 30, 5535, 18, 51, 36, 28, 224, 92, 25, 104, 4, 226, 65, 16, 38, 1334, 88, 12, 16, 283, 5, 16, 4472, 113, 103, 32, 15, 16, 5345, 19, 178, 32]),\n",
       "        list([1, 194, 1153, 194, 8255, 78, 228, 5, 6, 1463, 4369, 5012, 134, 26, 4, 715, 8, 118, 1634, 14, 394, 20, 13, 119, 954, 189, 102, 5, 207, 110, 3103, 21, 14, 69, 188, 8, 30, 23, 7, 4, 249, 126, 93, 4, 114, 9, 2300, 1523, 5, 647, 4, 116, 9, 35, 8163, 4, 229, 9, 340, 1322, 4, 118, 9, 4, 130, 4901, 19, 4, 1002, 5, 89, 29, 952, 46, 37, 4, 455, 9, 45, 43, 38, 1543, 1905, 398, 4, 1649, 26, 6853, 5, 163, 11, 3215, 10156, 4, 1153, 9, 194, 775, 7, 8255, 11596, 349, 2637, 148, 605, 15358, 8003, 15, 123, 125, 68, 23141, 6853, 15, 349, 165, 4362, 98, 5, 4, 228, 9, 43, 2, 1157, 15, 299, 120, 5, 120, 174, 11, 220, 175, 136, 50, 9, 4373, 228, 8255, 5, 25249, 656, 245, 2350, 5, 4, 9837, 131, 152, 491, 18, 2, 32, 7464, 1212, 14, 9, 6, 371, 78, 22, 625, 64, 1382, 9, 8, 168, 145, 23, 4, 1690, 15, 16, 4, 1355, 5, 28, 6, 52, 154, 462, 33, 89, 78, 285, 16, 145, 95]),\n",
       "        list([1, 14, 47, 8, 30, 31, 7, 4, 249, 108, 7, 4, 5974, 54, 61, 369, 13, 71, 149, 14, 22, 112, 4, 2401, 311, 12, 16, 3711, 33, 75, 43, 1829, 296, 4, 86, 320, 35, 534, 19, 263, 4821, 1301, 4, 1873, 33, 89, 78, 12, 66, 16, 4, 360, 7, 4, 58, 316, 334, 11, 4, 1716, 43, 645, 662, 8, 257, 85, 1200, 42, 1228, 2578, 83, 68, 3912, 15, 36, 165, 1539, 278, 36, 69, 2, 780, 8, 106, 14, 6905, 1338, 18, 6, 22, 12, 215, 28, 610, 40, 6, 87, 326, 23, 2300, 21, 23, 22, 12, 272, 40, 57, 31, 11, 4, 22, 47, 6, 2307, 51, 9, 170, 23, 595, 116, 595, 1352, 13, 191, 79, 638, 89, 2, 14, 9, 8, 106, 607, 624, 35, 534, 6, 227, 7, 129, 113])],\n",
       "       dtype=object),\n",
       " array([1, 0], dtype=int64))"
      ]
     },
     "execution_count": 4,
     "metadata": {},
     "output_type": "execute_result"
    }
   ],
   "source": [
    "X_train[:3], y_train[:2]"
   ]
  },
  {
   "cell_type": "code",
   "execution_count": 5,
   "metadata": {},
   "outputs": [
    {
     "name": "stdout",
     "output_type": "stream",
     "text": [
      "(25000,)\n",
      "(25000,)\n",
      "(25000,)\n",
      "(25000,)\n"
     ]
    }
   ],
   "source": [
    "print(X_train.shape)\n",
    "print(X_test.shape)\n",
    "print(y_train.shape)\n",
    "print(y_test.shape)"
   ]
  },
  {
   "cell_type": "code",
   "execution_count": 6,
   "metadata": {},
   "outputs": [],
   "source": [
    "# pad the sequences with zeros \n",
    "# padding parameter is set to 'post' => 0's are appended to end of sequences\n",
    "X_train = pad_sequences(X_train, maxlen = maxlen, padding = 'post')\n",
    "X_test = pad_sequences(X_test, maxlen = maxlen, padding = 'post')"
   ]
  },
  {
   "cell_type": "code",
   "execution_count": 7,
   "metadata": {},
   "outputs": [],
   "source": [
    "X_train = X_train.reshape(X_train.shape[0] ,maxlen,1)\n",
    "X_test = X_test.reshape(X_train.shape[0] ,maxlen,1)"
   ]
  },
  {
   "cell_type": "code",
   "execution_count": 8,
   "metadata": {},
   "outputs": [
    {
     "name": "stdout",
     "output_type": "stream",
     "text": [
      "(25000, 300, 1)\n",
      "(25000, 300, 1)\n",
      "(25000,)\n",
      "(25000,)\n"
     ]
    }
   ],
   "source": [
    "print(X_train.shape)\n",
    "print(X_test.shape)\n",
    "print(y_train.shape)\n",
    "print(y_test.shape)"
   ]
  },
  {
   "cell_type": "markdown",
   "metadata": {},
   "source": [
    "#### Without cudnn"
   ]
  },
  {
   "cell_type": "code",
   "execution_count": 9,
   "metadata": {},
   "outputs": [],
   "source": [
    "def lstm_model():\n",
    "    model = Sequential()\n",
    "    model.add(LSTM(50, input_shape = (300,1), return_sequences = True))\n",
    "    model.add(LSTM(1, return_sequences = False))\n",
    "    model.add(Activation('sigmoid'))\n",
    "    \n",
    "    model.compile(loss = 'binary_crossentropy', optimizer = 'adam', metrics = ['accuracy'])\n",
    "    return model"
   ]
  },
  {
   "cell_type": "code",
   "execution_count": 10,
   "metadata": {},
   "outputs": [
    {
     "data": {
      "text/plain": [
       "<tensorflow.python.keras.engine.sequential.Sequential at 0x2877571fc48>"
      ]
     },
     "execution_count": 10,
     "metadata": {},
     "output_type": "execute_result"
    }
   ],
   "source": [
    "model = lstm_model()\n",
    "model"
   ]
  },
  {
   "cell_type": "code",
   "execution_count": 14,
   "metadata": {},
   "outputs": [
    {
     "name": "stdout",
     "output_type": "stream",
     "text": [
      "Train on 25000 samples\n",
      "Epoch 1/10\n",
      "25000/25000 [==============================] - 137s 5ms/sample - loss: 0.6920 - accuracy: 0.5148\n",
      "Epoch 2/10\n",
      "25000/25000 [==============================] - 137s 5ms/sample - loss: 0.6917 - accuracy: 0.5129\n",
      "Epoch 3/10\n",
      "25000/25000 [==============================] - 138s 6ms/sample - loss: 0.6915 - accuracy: 0.5141\n",
      "Epoch 4/10\n",
      "25000/25000 [==============================] - 133s 5ms/sample - loss: 0.6918 - accuracy: 0.5137\n",
      "Epoch 5/10\n",
      "25000/25000 [==============================] - 134s 5ms/sample - loss: 0.6915 - accuracy: 0.5160\n",
      "Epoch 6/10\n",
      "25000/25000 [==============================] - 142s 6ms/sample - loss: 0.6913 - accuracy: 0.5167\n",
      "Epoch 7/10\n",
      "25000/25000 [==============================] - 137s 5ms/sample - loss: 0.6912 - accuracy: 0.5166\n",
      "Epoch 8/10\n",
      "25000/25000 [==============================] - 137s 5ms/sample - loss: 0.6908 - accuracy: 0.5160\n",
      "Epoch 9/10\n",
      "25000/25000 [==============================] - 138s 6ms/sample - loss: 0.6906 - accuracy: 0.5192\n",
      "Epoch 10/10\n",
      "25000/25000 [==============================] - 136s 5ms/sample - loss: 0.6906 - accuracy: 0.5147\n"
     ]
    },
    {
     "data": {
      "text/plain": [
       "<tensorflow.python.keras.callbacks.History at 0x2877edee3c8>"
      ]
     },
     "execution_count": 14,
     "metadata": {},
     "output_type": "execute_result"
    }
   ],
   "source": [
    "model.fit(X_train, y_train, batch_size = 128, epochs = 10, verbose = 1)"
   ]
  },
  {
   "cell_type": "code",
   "execution_count": 22,
   "metadata": {},
   "outputs": [
    {
     "name": "stdout",
     "output_type": "stream",
     "text": [
      "25000/25000 [==============================] - 98s 4ms/sample - loss: 0.6931 - accuracy: 0.5043\n",
      "Accuracy: 50.43%\n"
     ]
    }
   ],
   "source": [
    "scores = model.evaluate(X_test, y_test, verbose=1)\n",
    "print(\"Accuracy: %.2f%%\" % (scores[1]*100))"
   ]
  },
  {
   "cell_type": "markdown",
   "metadata": {},
   "source": [
    "#### Naive GRU model without CuDNN"
   ]
  },
  {
   "cell_type": "code",
   "execution_count": 19,
   "metadata": {},
   "outputs": [],
   "source": [
    "def gru_model():\n",
    "    model = Sequential()\n",
    "    model.add(GRU(50, input_shape = (300,1), return_sequences = True))\n",
    "    model.add(GRU(1, return_sequences = False))\n",
    "    model.add(Activation('sigmoid'))\n",
    "    \n",
    "    model.compile(loss = 'binary_crossentropy', optimizer = 'adam', metrics = ['accuracy'])\n",
    "    return model"
   ]
  },
  {
   "cell_type": "code",
   "execution_count": 20,
   "metadata": {},
   "outputs": [],
   "source": [
    "model = gru_model()"
   ]
  },
  {
   "cell_type": "code",
   "execution_count": 23,
   "metadata": {},
   "outputs": [
    {
     "name": "stdout",
     "output_type": "stream",
     "text": [
      "Train on 25000 samples\n",
      "Epoch 1/10\n",
      "25000/25000 [==============================] - 123s 5ms/sample - loss: 0.6930 - accuracy: 0.5071\n",
      "Epoch 2/10\n",
      "25000/25000 [==============================] - 124s 5ms/sample - loss: 0.6923 - accuracy: 0.5109\n",
      "Epoch 3/10\n",
      "25000/25000 [==============================] - 125s 5ms/sample - loss: 0.6918 - accuracy: 0.5123\n",
      "Epoch 4/10\n",
      "25000/25000 [==============================] - 127s 5ms/sample - loss: 0.6916 - accuracy: 0.5153\n",
      "Epoch 5/10\n",
      "25000/25000 [==============================] - 122s 5ms/sample - loss: 0.6907 - accuracy: 0.5180\n",
      "Epoch 6/10\n",
      "25000/25000 [==============================] - 123s 5ms/sample - loss: 0.6909 - accuracy: 0.5144\n",
      "Epoch 7/10\n",
      "25000/25000 [==============================] - 122s 5ms/sample - loss: 0.6899 - accuracy: 0.5176\n",
      "Epoch 8/10\n",
      "25000/25000 [==============================] - 119s 5ms/sample - loss: 0.6891 - accuracy: 0.5221\n",
      "Epoch 9/10\n",
      "25000/25000 [==============================] - 119s 5ms/sample - loss: 0.6885 - accuracy: 0.5178\n",
      "Epoch 10/10\n",
      "25000/25000 [==============================] - 119s 5ms/sample - loss: 0.6872 - accuracy: 0.5219\n"
     ]
    },
    {
     "data": {
      "text/plain": [
       "<tensorflow.python.keras.callbacks.History at 0x28868c3b188>"
      ]
     },
     "execution_count": 23,
     "metadata": {},
     "output_type": "execute_result"
    }
   ],
   "source": [
    "model.fit(X_train, y_train, batch_size = 100, epochs = 10, verbose = 1)"
   ]
  },
  {
   "cell_type": "code",
   "execution_count": 24,
   "metadata": {},
   "outputs": [
    {
     "name": "stdout",
     "output_type": "stream",
     "text": [
      "25000/25000 [==============================] - 99s 4ms/sample - loss: 0.6939 - accuracy: 0.5050\n",
      "Accuracy: 50.50%\n"
     ]
    }
   ],
   "source": [
    "scores = model.evaluate(X_test, y_test, verbose=1)\n",
    "print(\"Accuracy: %.2f%%\" % (scores[1]*100))"
   ]
  },
  {
   "cell_type": "markdown",
   "metadata": {},
   "source": [
    "#### CuDNN LSTM"
   ]
  },
  {
   "cell_type": "code",
   "execution_count": 25,
   "metadata": {},
   "outputs": [],
   "source": [
    "def cudnn_lstm_model():\n",
    "    model = Sequential()\n",
    "    model.add(CuDNNLSTM(50, input_shape = (300,1), return_sequences = True))\n",
    "    model.add(CuDNNLSTM(1, return_sequences = False))\n",
    "    model.add(Activation('sigmoid'))\n",
    "    \n",
    "    model.compile(loss = 'binary_crossentropy', optimizer = 'adam', metrics = ['accuracy'])\n",
    "    return model"
   ]
  },
  {
   "cell_type": "code",
   "execution_count": 26,
   "metadata": {},
   "outputs": [],
   "source": [
    "model = cudnn_lstm_model()"
   ]
  },
  {
   "cell_type": "code",
   "execution_count": 27,
   "metadata": {},
   "outputs": [
    {
     "name": "stdout",
     "output_type": "stream",
     "text": [
      "Train on 25000 samples\n",
      "Epoch 1/10\n",
      "25000/25000 [==============================] - 8s 339us/sample - loss: 0.6932 - accuracy: 0.5084\n",
      "Epoch 2/10\n",
      "25000/25000 [==============================] - 4s 165us/sample - loss: 0.6926 - accuracy: 0.5074 - loss: 0.6928 - ac\n",
      "Epoch 3/10\n",
      "25000/25000 [==============================] - 4s 164us/sample - loss: 0.6923 - accuracy: 0.5103 - loss: 0\n",
      "Epoch 4/10\n",
      "25000/25000 [==============================] - 4s 165us/sample - loss: 0.6914 - accuracy: 0.5149\n",
      "Epoch 5/10\n",
      "25000/25000 [==============================] - 4s 165us/sample - loss: 0.6903 - accuracy: 0.5144\n",
      "Epoch 6/10\n",
      "25000/25000 [==============================] - 4s 164us/sample - loss: 0.6900 - accuracy: 0.5132 - loss: 0.6898 - ac\n",
      "Epoch 7/10\n",
      "25000/25000 [==============================] - 4s 165us/sample - loss: 0.6901 - accuracy: 0.5202\n",
      "Epoch 8/10\n",
      "25000/25000 [==============================] - 4s 165us/sample - loss: 0.6890 - accuracy: 0.5212\n",
      "Epoch 9/10\n",
      "25000/25000 [==============================] - 4s 165us/sample - loss: 0.6889 - accuracy: 0.5214\n",
      "Epoch 10/10\n",
      "25000/25000 [==============================] - 4s 165us/sample - loss: 0.6899 - accuracy: 0.5211 - loss: 0.6898 - accuracy: 0.52\n"
     ]
    },
    {
     "data": {
      "text/plain": [
       "<tensorflow.python.keras.callbacks.History at 0x28868d18ec8>"
      ]
     },
     "execution_count": 27,
     "metadata": {},
     "output_type": "execute_result"
    }
   ],
   "source": [
    "model.fit(X_train, y_train, batch_size = 100, epochs = 10, verbose = 1)"
   ]
  },
  {
   "cell_type": "code",
   "execution_count": 28,
   "metadata": {},
   "outputs": [
    {
     "name": "stdout",
     "output_type": "stream",
     "text": [
      "25000/25000 [==============================] - 14s 546us/sample - loss: 0.6899 - accuracy: 0.5161\n",
      "Accuracy: 51.61%\n"
     ]
    }
   ],
   "source": [
    "scores = model.evaluate(X_test, y_test, verbose=1)\n",
    "print(\"Accuracy: %.2f%%\" % (scores[1]*100))"
   ]
  },
  {
   "cell_type": "markdown",
   "metadata": {},
   "source": [
    "#### CuDNNGRU"
   ]
  },
  {
   "cell_type": "code",
   "execution_count": 29,
   "metadata": {},
   "outputs": [],
   "source": [
    "def cudnn_gru_model():\n",
    "    model = Sequential()\n",
    "    model.add(CuDNNGRU(50, input_shape = (300,1), return_sequences = True))\n",
    "    model.add(CuDNNGRU(1, return_sequences = False))\n",
    "    model.add(Activation('sigmoid'))\n",
    "    \n",
    "    model.compile(loss = 'binary_crossentropy', optimizer = 'adam', metrics = ['accuracy'])\n",
    "    return model\n"
   ]
  },
  {
   "cell_type": "code",
   "execution_count": 30,
   "metadata": {},
   "outputs": [],
   "source": [
    "model = cudnn_gru_model()"
   ]
  },
  {
   "cell_type": "code",
   "execution_count": 31,
   "metadata": {},
   "outputs": [
    {
     "name": "stdout",
     "output_type": "stream",
     "text": [
      "Train on 25000 samples\n",
      "Epoch 1/10\n",
      "25000/25000 [==============================] - 5s 187us/sample - loss: 0.6937 - accuracy: 0.5034\n",
      "Epoch 2/10\n",
      "25000/25000 [==============================] - 4s 155us/sample - loss: 0.6928 - accuracy: 0.5062\n",
      "Epoch 3/10\n",
      "25000/25000 [==============================] - 4s 155us/sample - loss: 0.6919 - accuracy: 0.5074TA: 0s - loss: 0.6919 - accuracy\n",
      "Epoch 4/10\n",
      "25000/25000 [==============================] - 4s 155us/sample - loss: 0.6911 - accuracy: 0.5178 - los - ETA: 1s - loss: - ETA: 0s - loss: 0.6\n",
      "Epoch 5/10\n",
      "25000/25000 [==============================] - 4s 156us/sample - loss: 0.6901 - accuracy: 0.5183 - loss: 0.6902 - accura\n",
      "Epoch 6/10\n",
      "25000/25000 [==============================] - 4s 155us/sample - loss: 0.6898 - accuracy: 0.5210 ETA: 0s -\n",
      "Epoch 7/10\n",
      "25000/25000 [==============================] - 4s 155us/sample - loss: 0.6891 - accuracy: 0.5215\n",
      "Epoch 8/10\n",
      "25000/25000 [==============================] - 4s 157us/sample - loss: 0.6885 - accuracy: 0.5190 - loss: 0.6885 - accuracy: 0.51\n",
      "Epoch 9/10\n",
      "25000/25000 [==============================] - 4s 172us/sample - loss: 0.6879 - accuracy: 0.5210\n",
      "Epoch 10/10\n",
      "25000/25000 [==============================] - 4s 169us/sample - loss: 0.6879 - accuracy: 0.5188 - loss: 0.6878 - accuracy: 0.\n"
     ]
    },
    {
     "data": {
      "text/plain": [
       "<tensorflow.python.keras.callbacks.History at 0x2886bb9e6c8>"
      ]
     },
     "execution_count": 31,
     "metadata": {},
     "output_type": "execute_result"
    }
   ],
   "source": [
    "model.fit(X_train, y_train, batch_size = 100, epochs = 10, verbose = 1)"
   ]
  },
  {
   "cell_type": "code",
   "execution_count": 32,
   "metadata": {},
   "outputs": [
    {
     "name": "stdout",
     "output_type": "stream",
     "text": [
      "25000/25000 [==============================] - 14s 543us/sample - loss: 0.6879 - accuracy: 0.5191\n",
      "Accuracy: 51.91%\n"
     ]
    }
   ],
   "source": [
    "scores = model.evaluate(X_test, y_test, verbose=1)\n",
    "print(\"Accuracy: %.2f%%\" % (scores[1]*100))"
   ]
  },
  {
   "cell_type": "code",
   "execution_count": null,
   "metadata": {},
   "outputs": [],
   "source": []
  },
  {
   "cell_type": "code",
   "execution_count": null,
   "metadata": {},
   "outputs": [],
   "source": []
  },
  {
   "cell_type": "code",
   "execution_count": null,
   "metadata": {},
   "outputs": [],
   "source": []
  },
  {
   "cell_type": "code",
   "execution_count": null,
   "metadata": {},
   "outputs": [],
   "source": []
  },
  {
   "cell_type": "code",
   "execution_count": null,
   "metadata": {},
   "outputs": [],
   "source": []
  }
 ],
 "metadata": {
  "kernelspec": {
   "display_name": "Python 3",
   "language": "python",
   "name": "python3"
  },
  "language_info": {
   "codemirror_mode": {
    "name": "ipython",
    "version": 3
   },
   "file_extension": ".py",
   "mimetype": "text/x-python",
   "name": "python",
   "nbconvert_exporter": "python",
   "pygments_lexer": "ipython3",
   "version": "3.7.7"
  }
 },
 "nbformat": 4,
 "nbformat_minor": 4
}
